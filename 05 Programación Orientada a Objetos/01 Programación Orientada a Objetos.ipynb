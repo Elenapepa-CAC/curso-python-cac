{
 "cells": [
  {
   "cell_type": "markdown",
   "metadata": {},
   "source": [
    "# Programación Orientada a Objetos\n",
    "\n",
    "Los objetivos de Aprendizaje son:\n",
    "\n",
    "1. Qué es la programación orientada a objetos.\n",
    "2. Clases en Python.\n",
    "    - Clase vs Instancia.\n",
    "    - Cómo definir clases.\n",
    "3. Instanciar un objeto en Python. \n",
    "    - Métodos de instancia.\n",
    "    - Métodos de clase.\n",
    "    - Métodos dunder\n",
    "    - Decoradores property & setter\n",
    "4. Herencia.\n",
    "    - Sintaxis\n",
    "    - Anti-patrones\n",
    "5. Dataclasses.\n",
    "\n",
    "\n",
    "## Qué es la programación orientada a objetos.\n",
    "\n",
    "Es una paradigma de programación para estructurar el código mediante la agrupación de propiedades y comportamientos relacionados en objetos individuales. \n",
    "\n",
    "Por ejemplo, un objeto podría representar a una póliza.\n",
    "\n",
    "Sus propiedades podrían ser:\n",
    "\n",
    "- Fecha de inicio de vigencia.\n",
    "- La prima cobrada.\n",
    "- El nombre del asegurado.\n",
    "- etc.\n",
    "\n",
    "Y podría ejecutar acciones como:\n",
    "\n",
    "- renovarse, e.g. aumentar un año su vigencia.\n",
    "- Cambiar el tipo de coberturas.\n",
    "- Cancelarse.\n",
    "- etc. \n",
    "\n",
    "> Dicho de otra manera, la POO modela entidades del mundo real como objetos de software que tienen algunos datos asociados y pueden realizar ciertas funciones.\n",
    "\n",
    "## Clases en Python.\n",
    "\n",
    "Las estructuras de datos primitivas, e.g. `string` y `list`, están diseñadas para representar información simple,como el nombre de una persona o los colores favoritos de alguien. \n",
    "\n",
    "¿Qué pasa si quieres representar algo más complejo?\n",
    "\n",
    "Supongamos que queremos representar una póliza. Una forma de hacer esto es mediante un diccionario:"
   ]
  },
  {
   "cell_type": "code",
   "execution_count": 1,
   "metadata": {},
   "outputs": [
    {
     "data": {
      "text/plain": [
       "{'asegurado': 'Heber',\n",
       " 'prima': 100,\n",
       " 'coberturas': ['RC', 'DM'],\n",
       " 'inicio_vigencia': datetime.datetime(2024, 1, 17, 19, 46, 55, 21695)}"
      ]
     },
     "execution_count": 1,
     "metadata": {},
     "output_type": "execute_result"
    }
   ],
   "source": [
    "import datetime\n",
    "\n",
    "poliza_1 = {\n",
    "    'asegurado': \"Heber\",\n",
    "    'prima': 100,\n",
    "    'coberturas': ['RC', 'DM'],\n",
    "    'inicio_vigencia': datetime.datetime.now()\n",
    "}\n",
    "\n",
    "poliza_2 = {\n",
    "    'asegurado': \"Heber\",\n",
    "    'prima': 100,\n",
    "    'coberturas': ['RC', 'DM'],\n",
    "}\n",
    "\n",
    "poliza_1"
   ]
  },
  {
   "cell_type": "markdown",
   "metadata": {},
   "source": [
    "Hay una serie de problemas con este enfoque.\n",
    "\n",
    "- Si el programa es muy grande y queremos hacer referencia a un atributo ¿Recordaremos cómo lo llamamos? e.g. ¿`'asegurado'` ó  `'nombre_asegurado'`?\n",
    "<br>\n",
    "\n",
    "- Podemos introducir errores si no todas las polizas tienen los mismo elementos. Por ejemplo, poliza_2 no tiene un valor para `'inicio_vigencia'`\n",
    "\n",
    "Una manera de hacer nuestro código más manejable es mediante el uso de clases.\n",
    "\n",
    "\n",
    "### Clase vs Instancia.\n",
    "\n",
    "Una clase es un modelo de cómo debe definirse una instancia.\n",
    "\n",
    "Por ejemplo, la `clase Póliza` especifica que todas las `pólizas` deben tener un nombre asegurado, un inicio de vigencia, un grupo de coberturas, etc. \n",
    "\n",
    "Mientras que la clase es el modelo, una instancia es un objeto que se crea a partir de una clase y contiene datos reales.\n",
    "\n",
    "> Dicho de otra manera, una clase es como un formulario o cuestionario. Una instancia es como un formulario que se ha llenado con información.\n",
    "\n",
    "\n",
    "### Cómo definir clases.\n",
    "\n",
    "Para definir una clase usamor la cláusula `class`, seguida del nombre de la clase y dos puntos. Todo el bloque de código que esté indentado desde ahí formará el cuerpo de la clase.\n",
    "\n",
    "Por ejemplo:"
   ]
  },
  {
   "cell_type": "code",
   "execution_count": 2,
   "metadata": {},
   "outputs": [],
   "source": [
    "class Poliza:\n",
    "    pass"
   ]
  },
  {
   "cell_type": "markdown",
   "metadata": {},
   "source": [
    ">**Nota** Los nombres de las clases de Python se escriben en notación *CapitalizedWords* por convención.\n",
    "\n",
    "La clase `Poliza` no es muy interesante en este momento, así que añadiremos algunas propiedades que todas la pólzias deberían de tener.\n",
    "\n",
    "Las propiedades que deben tener todos las instancias de la clase `Poliza` se definen en un método llamado `.__init__()`.\n",
    "\n",
    "Cada vez que se crea un nuevo objeto de la clase `Poliza`, `.__init__()` establece el estado inicial del objeto asignando los valores al objeto. \n",
    "\n",
    "\n",
    "Podemos darle a `.__init__()` cualquier cantidad de parámetros, pero el primer parámetro siempre será una variable llamada `self`. Cuando se crea una nueva instancia de clase, la instancia ocupa automáticamente el parámetro `self` de `.__init__()` para que se puedan definir nuevos atributos en el objeto.\n",
    "\n"
   ]
  },
  {
   "cell_type": "code",
   "execution_count": 1,
   "metadata": {},
   "outputs": [],
   "source": [
    "class Poliza:\n",
    "    def __init__(self, asegurado: str, prima: float):\n",
    "        self.asegurado = asegurado\n",
    "        self.prima = prima"
   ]
  },
  {
   "cell_type": "markdown",
   "metadata": {},
   "source": [
    "En el cuerpo de la función `.__init__()`, hay dos líneas de código que usan la variable `self`:\n",
    "\n",
    "- `self.asegurado = asegurado` crea un atributo llamado asegurado y le asigna el valor del parámetro `asegurado`.\n",
    "\n",
    "- `self.prima = prima` crea un atributo llamado prima y le asigna el valor del parámetro `prima`.\n",
    "\n",
    "\n",
    "Los atributos creados en `.__init__()` se denominan atributos de instancia. El valor de un atributo de instancia es específico para una instancia particular de la clase. \n",
    "\n",
    "Todos los objetos `Poliza` tienen un asegurado y una prima, pero los valores de los atributos de asegurado y una prima variarán según la instancia.\n",
    "\n",
    "Por otro lado, los atributos de clase son atributos que tienen el mismo valor para todas las instancias de clase. Podemos definir un atributo de clase asignando un valor a un nombre de variable fuera de `.__init__()`."
   ]
  },
  {
   "cell_type": "code",
   "execution_count": 2,
   "metadata": {},
   "outputs": [],
   "source": [
    "class Poliza:\n",
    "    \n",
    "    aseguradora = \"Py-Assurance\"\n",
    "    \n",
    "    def __init__(self, asegurado: str, prima: float):\n",
    "        self.asegurado = asegurado\n",
    "        self.prima = prima"
   ]
  },
  {
   "cell_type": "markdown",
   "metadata": {},
   "source": [
    "## Instanciar un objeto en Python.\n",
    "\n",
    "La creación de un nuevo objeto a partir de una clase se denomina instanciación de un objeto. Podemos hacerlo de la siguiente forma:"
   ]
  },
  {
   "cell_type": "code",
   "execution_count": 3,
   "metadata": {},
   "outputs": [
    {
     "data": {
      "text/plain": [
       "<__main__.Poliza at 0x1058885d0>"
      ]
     },
     "execution_count": 3,
     "metadata": {},
     "output_type": "execute_result"
    }
   ],
   "source": [
    "poliza_01 = Poliza(asegurado=\"Heber\", prima=100)\n",
    "poliza_01"
   ]
  },
  {
   "cell_type": "markdown",
   "metadata": {},
   "source": [
    "Tenemos un nuevo objeto de la clase `Poliza` en `'0x104558c40'`. Esta string de aspecto raro es una dirección de memoria que indica dónde se almacena el objeto `poliza_01` en la memoria de la computadora. "
   ]
  },
  {
   "cell_type": "code",
   "execution_count": 4,
   "metadata": {},
   "outputs": [
    {
     "data": {
      "text/plain": [
       "<__main__.Poliza at 0x1058a8290>"
      ]
     },
     "execution_count": 4,
     "metadata": {},
     "output_type": "execute_result"
    }
   ],
   "source": [
    "poliza_02 = Poliza(asegurado=\"Antonio\", prima=80)\n",
    "poliza_02"
   ]
  },
  {
   "cell_type": "markdown",
   "metadata": {},
   "source": [
    "La nueva instancia de `Póliza` se encuentra en una dirección de memoria diferente. Esto se debe a que es una instancia completamente nueva.\n",
    "\n",
    "### Métodos de instancia.\n",
    "\n",
    "Son funciones que se definen dentro de una clase y solo se pueden llamar desde una instancia de esa clase. Al igual que `.__init__()`, el primer parámetro de un método de instancia siempre es `self`."
   ]
  },
  {
   "cell_type": "code",
   "execution_count": 8,
   "metadata": {},
   "outputs": [],
   "source": [
    "class Poliza:\n",
    "    \n",
    "    aseguradora = \"Py-Assurance\"\n",
    "    \n",
    "    def __init__(self, asegurado: str, prima: float, vigente: bool = True):\n",
    "        self.asegurado = asegurado\n",
    "        self.prima = prima\n",
    "        self.vigente = vigente\n",
    "    \n",
    "    def anular(self) -> None:\n",
    "        print(self)\n",
    "        self.vigente = False"
   ]
  },
  {
   "cell_type": "markdown",
   "metadata": {},
   "source": [
    "Ahora la clase `Poliza` tiene un nuevo método `anular()` que fija su atrubito `vigencia` a `False`\n"
   ]
  },
  {
   "cell_type": "code",
   "execution_count": 9,
   "metadata": {},
   "outputs": [
    {
     "name": "stdout",
     "output_type": "stream",
     "text": [
      "True\n"
     ]
    }
   ],
   "source": [
    "poliza_01 = Poliza(asegurado=\"Heber\", prima=100)\n",
    "\n",
    "print(poliza_01.vigente)"
   ]
  },
  {
   "cell_type": "code",
   "execution_count": 10,
   "metadata": {},
   "outputs": [
    {
     "data": {
      "text/plain": [
       "<__main__.Poliza at 0x1058b4ad0>"
      ]
     },
     "execution_count": 10,
     "metadata": {},
     "output_type": "execute_result"
    }
   ],
   "source": [
    "poliza_01"
   ]
  },
  {
   "cell_type": "code",
   "execution_count": 11,
   "metadata": {},
   "outputs": [
    {
     "name": "stdout",
     "output_type": "stream",
     "text": [
      "<__main__.Poliza object at 0x1058b4ad0>\n",
      "False\n"
     ]
    }
   ],
   "source": [
    "poliza_01.anular()\n",
    "\n",
    "print(poliza_01.vigente)"
   ]
  },
  {
   "cell_type": "code",
   "execution_count": 12,
   "metadata": {},
   "outputs": [
    {
     "data": {
      "text/plain": [
       "__main__.Poliza"
      ]
     },
     "execution_count": 12,
     "metadata": {},
     "output_type": "execute_result"
    }
   ],
   "source": [
    "Poliza"
   ]
  },
  {
   "cell_type": "markdown",
   "metadata": {},
   "source": [
    "### Métodos de clase.\n",
    "\n",
    "En lugar de aceptar un parámetro `self` que apunta a la instancia, los métodos de clase toman un parámetro `cls` que apunta a la clase.\n",
    "\n",
    "Supongamos que queremos añadir un identificador único a las pólzias, porque el nombre de asegurado no es suficiente, dos personas se pueden llamar igual y ser distintas."
   ]
  },
  {
   "cell_type": "code",
   "execution_count": 14,
   "metadata": {},
   "outputs": [],
   "source": [
    "class Poliza:\n",
    "    \n",
    "    def __init__(\n",
    "        self,\n",
    "        asegurado: str,\n",
    "        id_asegurado: int,\n",
    "    ):\n",
    "        self.asegurado = asegurado\n",
    "        self.id_asegurado = id_asegurado"
   ]
  },
  {
   "cell_type": "code",
   "execution_count": 15,
   "metadata": {},
   "outputs": [
    {
     "name": "stdout",
     "output_type": "stream",
     "text": [
      "Asegurado piliza 1: Heber\n",
      "ID Asegurado piliza 1: 1\n",
      "Asegurado piliza 2: Antonio\n",
      "ID Asegurado piliza 2: 2\n"
     ]
    }
   ],
   "source": [
    "poliza_01 = Poliza(asegurado=\"Heber\", id_asegurado=1)\n",
    "poliza_02 = Poliza(asegurado=\"Antonio\", id_asegurado=2)\n",
    "\n",
    "print(f\"Asegurado piliza 1: {poliza_01.asegurado}\")\n",
    "print(f\"ID Asegurado piliza 1: {poliza_01.id_asegurado}\")\n",
    "\n",
    "print(f\"Asegurado piliza 2: {poliza_02.asegurado}\")\n",
    "print(f\"ID Asegurado piliza 2: {poliza_02.id_asegurado}\")"
   ]
  },
  {
   "cell_type": "code",
   "execution_count": 16,
   "metadata": {},
   "outputs": [
    {
     "name": "stdout",
     "output_type": "stream",
     "text": [
      "Asegurado piliza 3: Joaquim\n",
      "ID Asegurado piliza 3: 2\n"
     ]
    }
   ],
   "source": [
    "poliza_03 = Poliza(asegurado=\"Joaquim\", id_asegurado=2)\n",
    "print(f\"Asegurado piliza 3: {poliza_03.asegurado}\")\n",
    "print(f\"ID Asegurado piliza 3: {poliza_03.id_asegurado}\")"
   ]
  },
  {
   "cell_type": "markdown",
   "metadata": {},
   "source": [
    "Si es resposabilidad del usuario asignar el ID, estamos abriendo la puerta a errores, el lugar de eso podemos:"
   ]
  },
  {
   "cell_type": "code",
   "execution_count": 21,
   "metadata": {},
   "outputs": [],
   "source": [
    "from __future__ import annotations\n",
    "\n",
    "class Poliza:\n",
    "    \n",
    "    id_asegurado = 1\n",
    "    \n",
    "    def __init__(\n",
    "        self,\n",
    "        asegurado: str,\n",
    "        id_asegurado: int,\n",
    "    ):\n",
    "        self.asegurado = asegurado\n",
    "        self.id_asegurado = id_asegurado\n",
    "\n",
    "        \n",
    "    @classmethod\n",
    "    def produce(cls, asegurado: str) -> Poliza:\n",
    "        print(cls)\n",
    "        poliza = cls(asegurado, cls.id_asegurado)\n",
    "        cls.id_asegurado += 1\n",
    "        return poliza\n",
    "        "
   ]
  },
  {
   "cell_type": "code",
   "execution_count": 22,
   "metadata": {},
   "outputs": [
    {
     "name": "stdout",
     "output_type": "stream",
     "text": [
      "<class '__main__.Poliza'>\n",
      "<class '__main__.Poliza'>\n"
     ]
    }
   ],
   "source": [
    "poliza_01 = Poliza.produce(asegurado=\"Heber\")\n",
    "poliza_02 = Poliza.produce(asegurado=\"Antinio\")"
   ]
  },
  {
   "cell_type": "code",
   "execution_count": 23,
   "metadata": {},
   "outputs": [
    {
     "data": {
      "text/plain": [
       "__main__.Poliza"
      ]
     },
     "execution_count": 23,
     "metadata": {},
     "output_type": "execute_result"
    }
   ],
   "source": [
    "Poliza"
   ]
  },
  {
   "cell_type": "code",
   "execution_count": 19,
   "metadata": {},
   "outputs": [
    {
     "name": "stdout",
     "output_type": "stream",
     "text": [
      "Asegurado piliza 1: Heber\n",
      "ID Asegurado poliza 1: 1\n"
     ]
    }
   ],
   "source": [
    "print(f\"Asegurado piliza 1: {poliza_01.asegurado}\")\n",
    "print(f\"ID Asegurado poliza 1: {poliza_01.id_asegurado}\")"
   ]
  },
  {
   "cell_type": "code",
   "execution_count": 20,
   "metadata": {},
   "outputs": [
    {
     "name": "stdout",
     "output_type": "stream",
     "text": [
      "Asegurado piliza 2: Antinio\n",
      "ID Asegurado poliza 2: 2\n"
     ]
    }
   ],
   "source": [
    "print(f\"Asegurado piliza 2: {poliza_02.asegurado}\")\n",
    "print(f\"ID Asegurado poliza 2: {poliza_02.id_asegurado}\")\n"
   ]
  },
  {
   "cell_type": "markdown",
   "metadata": {},
   "source": [
    "###  Métodos dunder\n",
    "\n",
    "Muchos de los métodos especiales *pre-instalados* se pueden implementar en nuestras proias clases, e.g. `len`, `==` etc. Para hacer esto, solo necesitamos definir algunos métodos espciales:"
   ]
  },
  {
   "cell_type": "code",
   "execution_count": 24,
   "metadata": {},
   "outputs": [],
   "source": [
    "class Poliza:\n",
    "    \n",
    "    def __init__(\n",
    "        self,\n",
    "        asegurado: str,\n",
    "        id_asegurado: int,\n",
    "        \n",
    "    ):\n",
    "        self.asegurado = asegurado\n",
    "        self.id_asegurado = id_asegurado\n",
    "        self.ant = 0\n",
    "    \n",
    "    def renovar(self)->None:\n",
    "        self.ant += 1\n",
    "    \n",
    "    def __len__(self) -> int:\n",
    "        return self.ant\n",
    "    \n",
    "    def __eq__(self, other)->bool:\n",
    "        return self.id_asegurado == other.id_asegurado\n",
    "    \n",
    "    def __repr__(self)-> str:\n",
    "        return f\"Polzia(asegurado={self.asegurado}, id_asegurado={self.id_asegurado})\""
   ]
  },
  {
   "cell_type": "code",
   "execution_count": 25,
   "metadata": {},
   "outputs": [],
   "source": [
    "poliza_01 = Poliza(asegurado=\"Heber\", id_asegurado=1)\n",
    "poliza_02 = Poliza(asegurado=\"Antonio\", id_asegurado=2)\n"
   ]
  },
  {
   "cell_type": "code",
   "execution_count": 26,
   "metadata": {},
   "outputs": [
    {
     "name": "stdout",
     "output_type": "stream",
     "text": [
      "0\n"
     ]
    }
   ],
   "source": [
    "print(len(poliza_01))\n"
   ]
  },
  {
   "cell_type": "code",
   "execution_count": 27,
   "metadata": {},
   "outputs": [
    {
     "name": "stdout",
     "output_type": "stream",
     "text": [
      "1\n"
     ]
    }
   ],
   "source": [
    "poliza_01.renovar()\n",
    "print(len(poliza_01))"
   ]
  },
  {
   "cell_type": "code",
   "execution_count": 28,
   "metadata": {
    "scrolled": true
   },
   "outputs": [
    {
     "data": {
      "text/plain": [
       "False"
      ]
     },
     "execution_count": 28,
     "metadata": {},
     "output_type": "execute_result"
    }
   ],
   "source": [
    "poliza_02 == poliza_01"
   ]
  },
  {
   "cell_type": "code",
   "execution_count": 29,
   "metadata": {},
   "outputs": [
    {
     "data": {
      "text/plain": [
       "Polzia(asegurado=Antonio, id_asegurado=2)"
      ]
     },
     "execution_count": 29,
     "metadata": {},
     "output_type": "execute_result"
    }
   ],
   "source": [
    "poliza_02"
   ]
  },
  {
   "cell_type": "markdown",
   "metadata": {},
   "source": [
    "### Decoradores property & setter\n",
    "\n",
    "Estos decoradores nos permiten ocultar de los usuarios los atributos de una instancia. \n",
    "\n",
    "Por ejemplo, queremos que un usuario pueda ver `id_asegurado`, pero no queremos que lo pueda cambiar. "
   ]
  },
  {
   "cell_type": "code",
   "execution_count": 30,
   "metadata": {},
   "outputs": [],
   "source": [
    "class Poliza:\n",
    "    \n",
    "    def __init__(\n",
    "        self,\n",
    "        asegurado: str,\n",
    "        id_asegurado: int,\n",
    "        \n",
    "    ):\n",
    "        self.asegurado = asegurado\n",
    "        self.id_asegurado = id_asegurado\n",
    "\n",
    "poliza_01 = Poliza(asegurado=\"Heber\", id_asegurado=1)"
   ]
  },
  {
   "cell_type": "code",
   "execution_count": 31,
   "metadata": {},
   "outputs": [
    {
     "data": {
      "text/plain": [
       "1"
      ]
     },
     "execution_count": 31,
     "metadata": {},
     "output_type": "execute_result"
    }
   ],
   "source": [
    "poliza_01.id_asegurado"
   ]
  },
  {
   "cell_type": "code",
   "execution_count": 32,
   "metadata": {},
   "outputs": [
    {
     "data": {
      "text/plain": [
       "10"
      ]
     },
     "execution_count": 32,
     "metadata": {},
     "output_type": "execute_result"
    }
   ],
   "source": [
    "poliza_01.id_asegurado = 10\n",
    "poliza_01.id_asegurado"
   ]
  },
  {
   "cell_type": "code",
   "execution_count": 33,
   "metadata": {},
   "outputs": [],
   "source": [
    "class Poliza:\n",
    "    \n",
    "    def __init__(\n",
    "        self,\n",
    "        asegurado: str,\n",
    "        id_asegurado: int,\n",
    "        \n",
    "    ):\n",
    "        self._asegurado: str = asegurado\n",
    "        self._id_asegurado: int = id_asegurado\n",
    "    \n",
    "    @property\n",
    "    def id_asegurado(self) -> int:\n",
    "        return self._id_asegurado\n",
    "\n",
    "    @property\n",
    "    def asegurado(self) -> str:\n",
    "        return self._asegurado\n",
    "\n",
    "    @asegurado.setter\n",
    "    def asegurado(self, nuevo_nombre: str)->None:\n",
    "        self._asegurado = nuevo_nombre\n"
   ]
  },
  {
   "cell_type": "code",
   "execution_count": 41,
   "metadata": {},
   "outputs": [],
   "source": [
    "poliza_01 = Poliza(asegurado=\"Hber\", id_asegurado=1)"
   ]
  },
  {
   "cell_type": "code",
   "execution_count": 42,
   "metadata": {},
   "outputs": [
    {
     "data": {
      "text/plain": [
       "'Hber'"
      ]
     },
     "execution_count": 42,
     "metadata": {},
     "output_type": "execute_result"
    }
   ],
   "source": [
    "poliza_01.asegurado"
   ]
  },
  {
   "cell_type": "code",
   "execution_count": 47,
   "metadata": {},
   "outputs": [
    {
     "data": {
      "text/plain": [
       "1"
      ]
     },
     "execution_count": 47,
     "metadata": {},
     "output_type": "execute_result"
    }
   ],
   "source": [
    "poliza_01.id_asegurado"
   ]
  },
  {
   "cell_type": "code",
   "execution_count": 39,
   "metadata": {},
   "outputs": [
    {
     "ename": "AttributeError",
     "evalue": "property 'id_asegurado' of 'Poliza' object has no setter",
     "output_type": "error",
     "traceback": [
      "\u001b[0;31m---------------------------------------------------------------------------\u001b[0m",
      "\u001b[0;31mAttributeError\u001b[0m                            Traceback (most recent call last)",
      "Cell \u001b[0;32mIn[39], line 1\u001b[0m\n\u001b[0;32m----> 1\u001b[0m \u001b[43mpoliza_01\u001b[49m\u001b[38;5;241;43m.\u001b[39;49m\u001b[43mid_asegurado\u001b[49m \u001b[38;5;241m=\u001b[39m \u001b[38;5;241m10\u001b[39m\n",
      "\u001b[0;31mAttributeError\u001b[0m: property 'id_asegurado' of 'Poliza' object has no setter"
     ]
    }
   ],
   "source": [
    "poliza_01.id_asegurado = 10"
   ]
  },
  {
   "cell_type": "code",
   "execution_count": 43,
   "metadata": {},
   "outputs": [],
   "source": [
    "poliza_01.asegurado = \"Heber\""
   ]
  },
  {
   "cell_type": "code",
   "execution_count": 44,
   "metadata": {},
   "outputs": [
    {
     "data": {
      "text/plain": [
       "'Heber'"
      ]
     },
     "execution_count": 44,
     "metadata": {},
     "output_type": "execute_result"
    }
   ],
   "source": [
    "poliza_01.asegurado"
   ]
  },
  {
   "cell_type": "markdown",
   "metadata": {},
   "source": [
    "No obstante, si un usuario quiere forzar el cambio de id lo puede hacer "
   ]
  },
  {
   "cell_type": "code",
   "execution_count": 48,
   "metadata": {},
   "outputs": [
    {
     "data": {
      "text/plain": [
       "1"
      ]
     },
     "execution_count": 48,
     "metadata": {},
     "output_type": "execute_result"
    }
   ],
   "source": [
    "poliza_01._id_asegurado"
   ]
  },
  {
   "cell_type": "code",
   "execution_count": 49,
   "metadata": {},
   "outputs": [],
   "source": [
    "poliza_01._id_asegurado = 10"
   ]
  },
  {
   "cell_type": "code",
   "execution_count": 50,
   "metadata": {},
   "outputs": [
    {
     "data": {
      "text/plain": [
       "10"
      ]
     },
     "execution_count": 50,
     "metadata": {},
     "output_type": "execute_result"
    }
   ],
   "source": [
    "poliza_01.id_asegurado"
   ]
  },
  {
   "cell_type": "markdown",
   "metadata": {},
   "source": [
    "## Herencia.\n",
    "\n",
    "Es el proceso por el cual una clase adquiere los atributos y métodos de otra. \n",
    "\n",
    "Las clases que heredan pueden anular o ampliar los atributos y métodos de las clases principales. \n",
    "\n",
    "### Sintaxis\n",
    "\n",
    "La sintaxis es la sigiente:"
   ]
  },
  {
   "cell_type": "code",
   "execution_count": 51,
   "metadata": {},
   "outputs": [],
   "source": [
    "class Poliza:\n",
    "    \n",
    "    def __init__(self, asegurado: str):\n",
    "        self.asegurado = asegurado\n",
    "        \n",
    "\n",
    "class PolizaAuto(Poliza):\n",
    "    \n",
    "    def __init__(self, asegurado: str, matricula: str):\n",
    "        super().__init__(asegurado)\n",
    "        self.matricula = matricula\n",
    "        \n",
    "    \n",
    "    def cambiar_matricula(self, nueva_matricula: str) -> None:\n",
    "        self.matricula = nueva_matricula\n",
    "        "
   ]
  },
  {
   "cell_type": "code",
   "execution_count": 52,
   "metadata": {},
   "outputs": [],
   "source": [
    "poliza_auto_01 = PolizaAuto(asegurado=\"Heber\", matricula=\"LLL199\")"
   ]
  },
  {
   "cell_type": "code",
   "execution_count": 53,
   "metadata": {},
   "outputs": [
    {
     "data": {
      "text/plain": [
       "'ABC123'"
      ]
     },
     "execution_count": 53,
     "metadata": {},
     "output_type": "execute_result"
    }
   ],
   "source": [
    "poliza_auto_01.cambiar_matricula(\"ABC123\")\n",
    "poliza_auto_01.matricula"
   ]
  },
  {
   "cell_type": "markdown",
   "metadata": {},
   "source": [
    "### Anti-patrones\n",
    "\n",
    "La programación orientada a objetos es una herramienta muy potente, nos permite modelar objetos del mundo real complejos dentro de Python.\n",
    "\n",
    "No obstante existen malas prácticas que pueden hacer que mantener nuestro código sea una tarea desagradable.\n",
    "\n",
    "Algunos ejemplos son:\n",
    "\n",
    "- [**Bloaters**](https://refactoring.guru/refactoring/smells/bloaters): Clases que han aumentado a proporciones tan gigantescas que es difícil trabajar con ellos. Por lo general, no surgen de inmediato, sino que se acumulan con el tiempo a medida que el programa evoluciona.\n",
    "<br>\n",
    "\n",
    "- [**Object-Orientation Abusers**](https://refactoring.guru/refactoring/smells/oo-abusers): Abuso de Clases.\n",
    "<br>\n",
    "\n",
    "\n",
    "- [**Couplers**](https://refactoring.guru/refactoring/smells/couplers): Acoplamiento excesivo entre clases, un cambio en una produce consecuencias inesperadas en otras.\n",
    "\n",
    "\n",
    "Además recomendaría estudiar el principio de [Composition over inheritance](https://en.wikipedia.org/wiki/Composition_over_inheritance) \n",
    "\n",
    "\n",
    "## Dataclasses & Enum\n",
    "\n",
    "Una característica nueva en Python 3.7 son las `dataclasses`. Una `dataclass` es una clase que contiene principalmente datos, aunque en realidad no hay restricciones.\n",
    "\n",
    "las `dataclasses` viene con una funcionalidades básicas ya implementadas:\n",
    "\n",
    "- Crear instancias\n",
    "- Imprimir con mejor formato\n",
    "- Comparar instancias \n",
    "\n",
    "Veamos un ejemplo\n"
   ]
  },
  {
   "cell_type": "code",
   "execution_count": 54,
   "metadata": {},
   "outputs": [],
   "source": [
    "from typing import List\n",
    "from dataclasses import dataclass\n",
    "\n",
    "@dataclass\n",
    "class Poliza:\n",
    "    asegurado: str\n",
    "    prima: int\n",
    "    coberturas: List[str]\n",
    "    vigente: bool = True\n",
    "    "
   ]
  },
  {
   "cell_type": "code",
   "execution_count": 55,
   "metadata": {},
   "outputs": [
    {
     "data": {
      "text/plain": [
       "Poliza(asegurado='Heber', prima=100, coberturas=['RC', 'DM'], vigente=True)"
      ]
     },
     "execution_count": 55,
     "metadata": {},
     "output_type": "execute_result"
    }
   ],
   "source": [
    "poliza_dc_1 = Poliza(asegurado=\"Heber\", prima=100, coberturas=[\"RC\", \"DM\"])\n",
    "poliza_dc_2 = Poliza(asegurado=\"Antonio\", prima=80, coberturas=[\"RC\"])\n",
    "\n",
    "poliza_dc_1"
   ]
  },
  {
   "cell_type": "code",
   "execution_count": 56,
   "metadata": {},
   "outputs": [
    {
     "data": {
      "text/plain": [
       "False"
      ]
     },
     "execution_count": 56,
     "metadata": {},
     "output_type": "execute_result"
    }
   ],
   "source": [
    "poliza_dc_1 == poliza_dc_2"
   ]
  },
  {
   "cell_type": "markdown",
   "metadata": {},
   "source": [
    "Supongamos que queremos dar a los usuarios una indicación de cuáles pueden ser valores válidos para las coberturas. \n",
    "\n",
    "Es entonces cuando el módulo `enum` puede ser interesante, por ejemplo:\n",
    "\n"
   ]
  },
  {
   "cell_type": "code",
   "execution_count": 58,
   "metadata": {},
   "outputs": [],
   "source": [
    "from enum import Enum, auto\n",
    "\n",
    "class Cobertura(Enum):\n",
    "    RC = auto()\n",
    "    DM = auto()\n",
    "    \n",
    "\n",
    "@dataclass\n",
    "class Poliza:\n",
    "    asegurado: str\n",
    "    prima: int\n",
    "    coberturas: List[Cobertura]\n",
    "    vigente: bool = True"
   ]
  },
  {
   "cell_type": "code",
   "execution_count": 59,
   "metadata": {},
   "outputs": [],
   "source": [
    "poliza = Poliza(\n",
    "    asegurado=\"Heber\",\n",
    "    prima=100,\n",
    "    coberturas=[Cobertura.RC, Cobertura.DM]\n",
    ")"
   ]
  },
  {
   "cell_type": "code",
   "execution_count": 60,
   "metadata": {},
   "outputs": [
    {
     "data": {
      "text/plain": [
       "Poliza(asegurado='Heber', prima=100, coberturas=[<Cobertura.RC: 1>, <Cobertura.DM: 2>], vigente=True)"
      ]
     },
     "execution_count": 60,
     "metadata": {},
     "output_type": "execute_result"
    }
   ],
   "source": [
    "poliza"
   ]
  },
  {
   "cell_type": "code",
   "execution_count": 63,
   "metadata": {},
   "outputs": [
    {
     "data": {
      "text/plain": [
       "<Cobertura.DM: 2>"
      ]
     },
     "execution_count": 63,
     "metadata": {},
     "output_type": "execute_result"
    }
   ],
   "source": [
    "Cobertura.DM"
   ]
  },
  {
   "cell_type": "code",
   "execution_count": 64,
   "metadata": {},
   "outputs": [],
   "source": [
    "class Poliza:\n",
    "    \n",
    "    def __init__(self, asegurado: str):\n",
    "        self.asegurado = asegurado\n",
    "        \n",
    "\n",
    "class PolizaAuto(Poliza):\n",
    "    \n",
    "    def __init__(self, asegurado: str, matricula: str):\n",
    "        super().__init__(asegurado)\n",
    "        self.matricula = matricula\n",
    "        \n",
    "    \n",
    "    def cambiar_matricula(self, nueva_matricula: str) -> None:\n",
    "        self.matricula = nueva_matricula\n",
    "\n",
    "class PolizaAutoDM(PolizaAuto):\n",
    "    \n",
    "    def __init__(self, asegurado: str, matricula: str):\n",
    "        super().__init__(asegurado)\n",
    "        self.matricula = matricula\n",
    "        \n",
    "    \n",
    "    def cambiar_matricula(self, nueva_matricula: str) -> None:\n",
    "        self.matricula = nueva_matricula"
   ]
  },
  {
   "cell_type": "code",
   "execution_count": 67,
   "metadata": {},
   "outputs": [],
   "source": [
    "from abc import ABC, abstractmethod\n",
    "\n",
    "\n",
    "class Poliza(ABC):\n",
    "    def __init__(self, asegurado: str):\n",
    "        self.asegurado = asegurado\n",
    "        \n",
    "    @abstractmethod\n",
    "    def renovar(self):\n",
    "        raise NotImplementedError\n",
    "\n",
    "\n",
    "class PolizaAuto(Poliza):\n",
    "    def __init__(self, asegurado: str, matricula: str):\n",
    "        super().__init__(asegurado)\n",
    "        self.matricula = matricula\n",
    "\n",
    "    def renovar(self):\n",
    "        pass\n",
    "    \n"
   ]
  },
  {
   "cell_type": "code",
   "execution_count": 68,
   "metadata": {},
   "outputs": [],
   "source": [
    "poliza_auto_01 = PolizaAuto(asegurado=\"Heber\", matricula=\"LLL199\")"
   ]
  }
 ],
 "metadata": {
  "kernelspec": {
   "display_name": "Python 3 (ipykernel)",
   "language": "python",
   "name": "python3"
  },
  "language_info": {
   "codemirror_mode": {
    "name": "ipython",
    "version": 3
   },
   "file_extension": ".py",
   "mimetype": "text/x-python",
   "name": "python",
   "nbconvert_exporter": "python",
   "pygments_lexer": "ipython3",
   "version": "3.11.6"
  }
 },
 "nbformat": 4,
 "nbformat_minor": 4
}
