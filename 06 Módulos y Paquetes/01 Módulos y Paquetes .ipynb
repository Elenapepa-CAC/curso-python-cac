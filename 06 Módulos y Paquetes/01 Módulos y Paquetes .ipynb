{
 "cells": [
  {
   "cell_type": "markdown",
   "id": "59ec980f",
   "metadata": {},
   "source": [
    "# Módulos y paquete\n",
    "\n",
    "Los objetivos de aprendizaje son:\n",
    "\n",
    "1. Motivación\n",
    "2. Módulos de Python \n",
    "3. La ruta de búsqueda de módulos\n",
    "4. La cláusula `import`\n",
    "5. La función `dir()`\n",
    "6. Ejecutar módulos como scripts\n",
    "7. Paquetes de Python\n",
    "9. Inicializar un paquete\n",
    "\n",
    "## Motivación\n",
    "\n",
    "Los módulo y paquetes de Python son dos mecanismos que fecilitan la **programación modular**\n",
    "\n",
    "\n",
    "La **programación modular** se refiere al proceso de dividir una tarea de programación grande y difícil de manejar en subtareas más pequeños y más manejables, i.e. módulos.\n",
    "\n",
    "Las ventajas son:\n",
    "\n",
    "- **Simplicidad**: En lugar de enfocarnos en todo el problema en cuestión, un módulo generalmente se enfoca en una porción relativamente pequeña del problema.\n",
    "<br>\n",
    "\n",
    "- **Mantenimiento**: Si los módulos se escriben de manera que se minimice la interdependencia, hay menos probabilidad de que las modificaciones a un solo módulo tengan un impacto en otras partes del programa. \n",
    "<br>\n",
    "\n",
    "- **Reutilización**: la funcionalidad definida en un solo módulo puede reutilizarse fácilmente (abstracción) por otras partes de la aplicación. Esto elimina la necesidad de duplicar el código.\n",
    "<br>\n",
    "\n",
    "- **Scoping**: Los módulos suelen definir un `namepace` individual, lo que ayuda a evitar colisiones entre identificadores en diferentes áreas de un programa.\n",
    "<br>\n",
    "\n",
    "\n",
    "## Módulos de Python\n",
    "\n",
    "Hay tres formas diferentes de definir un módulo en Python:\n",
    "\n",
    "- Puede estar escrito en Python, e.g. `pandas`, `fastapi`, `torch`, etc.\n",
    "<br>\n",
    "\n",
    "- Un módulo puede escribirse en C y cargarse dinámicamente en el `run-time`, como el módulo `re` (regular expression).\n",
    "<br>\n",
    "\n",
    "- Los módulos *pre-construidos* (built-in) contenidos en el intérprete, como el módulo `fuctools`.\n",
    "\n",
    "En los tres casos usamos la cláusula `import` para acceder a su contenido.\n",
    "\n",
    "Nos centraremos en los del primer tipo, módulos que están escritos en Python. Dado que son muy sencillos de construir. \n",
    "\n",
    " > Sólo necesitamos crear un archivo que contenga código Python y luego darle un nombre al archivo con una extensión `.py`.\n",
    "\n",
    "Por ejemplo:\n",
    "\n",
    "Lo siguiente es el cóntenido de un archivo llamado *modulo_test.py*\n",
    "```` python\n",
    "s = \"String dentro de un módulo\"\n",
    "\n",
    "l = [100, 200, 300]\n",
    "\n",
    "def func_modulo(name: str):\n",
    "    print(f\"Nombre dentro de una función de módulo {name}\")\n",
    "\n",
    "class Poliza:\n",
    "    pass\n",
    "````\n",
    "\n",
    "Si ahora intentamos acceder a una de estas variables obtendremos un error del tipo `NameError`\n"
   ]
  },
  {
   "cell_type": "code",
   "execution_count": 1,
   "id": "c4bf3e06",
   "metadata": {},
   "outputs": [
    {
     "ename": "NameError",
     "evalue": "name 's' is not defined",
     "output_type": "error",
     "traceback": [
      "\u001b[0;31m---------------------------------------------------------------------------\u001b[0m",
      "\u001b[0;31mNameError\u001b[0m                                 Traceback (most recent call last)",
      "Cell \u001b[0;32mIn[1], line 1\u001b[0m\n\u001b[0;32m----> 1\u001b[0m \u001b[43ms\u001b[49m\n",
      "\u001b[0;31mNameError\u001b[0m: name 's' is not defined"
     ]
    }
   ],
   "source": [
    "s"
   ]
  },
  {
   "cell_type": "markdown",
   "id": "0eea89ae",
   "metadata": {},
   "source": [
    "Podemos acceder a las vriables si importamos el módulo *modulo_test.py* "
   ]
  },
  {
   "cell_type": "code",
   "execution_count": 2,
   "id": "77da7b14",
   "metadata": {},
   "outputs": [
    {
     "data": {
      "text/plain": [
       "'String dentro de un módulo'"
      ]
     },
     "execution_count": 2,
     "metadata": {},
     "output_type": "execute_result"
    }
   ],
   "source": [
    "import modulo_test\n",
    "\n",
    "modulo_test.s"
   ]
  },
  {
   "cell_type": "code",
   "execution_count": 3,
   "id": "377b8278",
   "metadata": {},
   "outputs": [
    {
     "data": {
      "text/plain": [
       "<module 'modulo_test' from '/Users/heber.trujillo/projects/curso-python-cac/06 Módulos y Paquetes/modulo_test.py'>"
      ]
     },
     "execution_count": 3,
     "metadata": {},
     "output_type": "execute_result"
    }
   ],
   "source": [
    "modulo_test"
   ]
  },
  {
   "cell_type": "code",
   "execution_count": 4,
   "id": "7039d5e9",
   "metadata": {},
   "outputs": [
    {
     "data": {
      "text/plain": [
       "'/Users/heber.trujillo/projects/curso-python-cac/06 Módulos y Paquetes'"
      ]
     },
     "execution_count": 4,
     "metadata": {},
     "output_type": "execute_result"
    }
   ],
   "source": [
    "import os\n",
    "os.getcwd()"
   ]
  },
  {
   "cell_type": "markdown",
   "id": "f308a092",
   "metadata": {},
   "source": [
    "## La ruta de búsqueda de módulos\n",
    "\n",
    "¿Qué sucede cuando Python ejecuta el comando?\n",
    "\n",
    "```` python\n",
    "import modulo_test\n",
    "````\n",
    "\n",
    "\n",
    "El comando busca *modulo_test.py* en una lista de directorios ensamblados a partir de las siguientes fuentes:\n",
    "\n",
    "- El directorio desde el que se ejecutó el comando o el directorio actual si el intérprete se ejecuta de forma interactiva (e.g. notebooks).\n",
    "<br>\n",
    "\n",
    "- La lista de directorios contenidos en la variable de entorno `PYTHONPATH`, si está configurada. En el caso de Windows será que que definimos en el `PATH`.\n",
    "<br>\n",
    "\n",
    "- Una lista de directorios configurada en el momento en que se instala Python.\n",
    "\n",
    "Podemos acceder a la ruta de búsqueda desde python así:"
   ]
  },
  {
   "cell_type": "code",
   "execution_count": 5,
   "id": "6a117e02",
   "metadata": {},
   "outputs": [
    {
     "data": {
      "text/plain": [
       "['/Users/heber.trujillo/projects/curso-python-cac/06 Módulos y Paquetes',\n",
       " '/opt/homebrew/Cellar/python@3.11/3.11.6_1/Frameworks/Python.framework/Versions/3.11/lib/python311.zip',\n",
       " '/opt/homebrew/Cellar/python@3.11/3.11.6_1/Frameworks/Python.framework/Versions/3.11/lib/python3.11',\n",
       " '/opt/homebrew/Cellar/python@3.11/3.11.6_1/Frameworks/Python.framework/Versions/3.11/lib/python3.11/lib-dynload',\n",
       " '',\n",
       " '/Users/heber.trujillo/projects/curso-python-cac/.venv/lib/python3.11/site-packages']"
      ]
     },
     "execution_count": 5,
     "metadata": {},
     "output_type": "execute_result"
    }
   ],
   "source": [
    "import sys \n",
    "sys.path"
   ]
  },
  {
   "cell_type": "markdown",
   "id": "3c1e852e",
   "metadata": {},
   "source": [
    "Para poder encontrar y utilizar el móduulo tendremos que cumplir al menos uno de estos supuestos:\n",
    "\n",
    "\n",
    "- Colocar *modulo_test.py* en el directorio donde se encuentra el script o notebook que estamos ejecutando. \n",
    "<br>\n",
    "\n",
    "- Modificar la variable de entorno `PYTHONPATH` para que contenga el directorio donde se encuentra *modulo_test.py* antes de iniciar el intérprete de python, o colocar *modulo_test.py* en uno de los directorios ya contenidos en la variable `PYTHONPATH`\n",
    "<br>\n",
    "  \n",
    "- Colocar *modulo_test.py* en uno de los directorios dependientes de la instalación, a los que podríamos o no tener acceso de escritura, según el sistema operativo.\n",
    "<br>\n",
    "\n",
    "- Colocar el archivo del módulo en cualquier directorio y luego modificar sys.path en tiempo de ejecución para que contenga ese directorio. Por ejemplo, colocar *modulo_test.py* en el directorio `/Users/heber.trujilloglovoapp.com/` y luego ejecutar:\n",
    "\n",
    "````python\n",
    "sys.path.append('/Users/heber.trujilloglovoapp.com/')\n",
    "````\n",
    "\n",
    "Una vez que se ha importado un módulo, podemos determinar su ubicación:"
   ]
  },
  {
   "cell_type": "code",
   "execution_count": 6,
   "id": "b20093c3",
   "metadata": {},
   "outputs": [
    {
     "data": {
      "text/plain": [
       "'/Users/heber.trujillo/projects/curso-python-cac/06 Módulos y Paquetes/modulo_test.py'"
      ]
     },
     "execution_count": 6,
     "metadata": {},
     "output_type": "execute_result"
    }
   ],
   "source": [
    "import modulo_test\n",
    "modulo_test.__file__"
   ]
  },
  {
   "cell_type": "code",
   "execution_count": 7,
   "id": "4cda73a7",
   "metadata": {},
   "outputs": [
    {
     "data": {
      "text/plain": [
       "'/opt/homebrew/Cellar/python@3.11/3.11.6_1/Frameworks/Python.framework/Versions/3.11/lib/python3.11/functools.py'"
      ]
     },
     "execution_count": 7,
     "metadata": {},
     "output_type": "execute_result"
    }
   ],
   "source": [
    "import functools\n",
    "functools.__file__"
   ]
  },
  {
   "cell_type": "code",
   "execution_count": 8,
   "id": "9f440657",
   "metadata": {},
   "outputs": [
    {
     "data": {
      "text/plain": [
       "'/Users/heber.trujillo/projects/curso-python-cac/.venv/lib/python3.11/site-packages/requests/__init__.py'"
      ]
     },
     "execution_count": 8,
     "metadata": {},
     "output_type": "execute_result"
    }
   ],
   "source": [
    "import requests\n",
    "requests.__file__"
   ]
  },
  {
   "cell_type": "markdown",
   "id": "b447372c",
   "metadata": {},
   "source": [
    "## La cláusula `import`\n",
    "\n",
    "El contenido de un módulo se pone a disposición de los usuarios mediante la cláusula `import`, que podemos usar de muchas formas.\n",
    "\n",
    "### `import <module_name>`\n",
    "\n",
    "La forma más simple es: \n",
    "\n",
    "```` python\n",
    "import <module_name>\n",
    "````\n",
    "\n",
    "> **Nota**: De esta forma el contenido del módulo no es directamente accesible, cada módulo tiene su propio `namespace` que contiene a los objetos definidos en el módulo.\n",
    "\n",
    "La cláusula `import <module_name>` solo coloca `<module_name>` en `namespace` `global`, los objetos del módulo quedan dentro del `local` `namespace` del `<module_name>`.\n",
    "\n",
    "Los objetos serán accesibles mediante el prefijo `<module_name>.`."
   ]
  },
  {
   "cell_type": "code",
   "execution_count": 9,
   "id": "7fd722ff",
   "metadata": {},
   "outputs": [],
   "source": [
    "import modulo_test\n"
   ]
  },
  {
   "cell_type": "code",
   "execution_count": 10,
   "id": "5cc3fa1a",
   "metadata": {},
   "outputs": [
    {
     "ename": "NameError",
     "evalue": "name 's' is not defined",
     "output_type": "error",
     "traceback": [
      "\u001b[0;31m---------------------------------------------------------------------------\u001b[0m",
      "\u001b[0;31mNameError\u001b[0m                                 Traceback (most recent call last)",
      "Cell \u001b[0;32mIn[10], line 1\u001b[0m\n\u001b[0;32m----> 1\u001b[0m \u001b[43ms\u001b[49m\n",
      "\u001b[0;31mNameError\u001b[0m: name 's' is not defined"
     ]
    }
   ],
   "source": [
    "s"
   ]
  },
  {
   "cell_type": "code",
   "execution_count": 11,
   "id": "53723771",
   "metadata": {},
   "outputs": [
    {
     "data": {
      "text/plain": [
       "'String dentro de un módulo'"
      ]
     },
     "execution_count": 11,
     "metadata": {},
     "output_type": "execute_result"
    }
   ],
   "source": [
    "modulo_test.s"
   ]
  },
  {
   "cell_type": "markdown",
   "id": "8af0e66e",
   "metadata": {},
   "source": [
    "### `from <module_name> import <name(s)>`\n",
    "\n",
    "De manera alternativa podemos ocupar la cláusula `from` para importar objetos individuales del módulo `<module_name>` directamente al `global namespace`:\n",
    "\n",
    "````python\n",
    "from <module_name> import <name(s)>\n",
    "````\n"
   ]
  },
  {
   "cell_type": "code",
   "execution_count": 12,
   "id": "3333f47e",
   "metadata": {},
   "outputs": [],
   "source": [
    "from modulo_test import s"
   ]
  },
  {
   "cell_type": "code",
   "execution_count": 13,
   "id": "6b4e25be",
   "metadata": {},
   "outputs": [
    {
     "data": {
      "text/plain": [
       "'String dentro de un módulo'"
      ]
     },
     "execution_count": 13,
     "metadata": {},
     "output_type": "execute_result"
    }
   ],
   "source": [
    "s"
   ]
  },
  {
   "cell_type": "markdown",
   "id": "5884d734",
   "metadata": {},
   "source": [
    "> **Nota**: Al usar esta forma de `import` podemos sobre-escribir variables dentro de nuestro `global namespace`"
   ]
  },
  {
   "cell_type": "code",
   "execution_count": 14,
   "id": "258a06c4",
   "metadata": {},
   "outputs": [
    {
     "data": {
      "text/plain": [
       "'No es una lista'"
      ]
     },
     "execution_count": 14,
     "metadata": {},
     "output_type": "execute_result"
    }
   ],
   "source": [
    "l = \"No es una lista\"\n",
    "l"
   ]
  },
  {
   "cell_type": "code",
   "execution_count": 15,
   "id": "3a12a955",
   "metadata": {},
   "outputs": [
    {
     "data": {
      "text/plain": [
       "[100, 200, 300]"
      ]
     },
     "execution_count": 15,
     "metadata": {},
     "output_type": "execute_result"
    }
   ],
   "source": [
    "from modulo_test import l\n",
    "l"
   ]
  },
  {
   "cell_type": "markdown",
   "id": "fc780048",
   "metadata": {},
   "source": [
    ">**Nota**: es posible importar todas las variables del módulo `<module_name>` con el comando `from <module_name> import *`, pero en general se considera una mala práctica.\n",
    "\n",
    "### `from <module_name> import <name> as <alt_name>`\n",
    "\n",
    "También es posible importar objetos individuales pero ingresarlos al `global namespace` con nombres alternativos:"
   ]
  },
  {
   "cell_type": "code",
   "execution_count": 16,
   "id": "5385553b",
   "metadata": {},
   "outputs": [],
   "source": [
    "from modulo_test import s as string_en_modulo"
   ]
  },
  {
   "cell_type": "code",
   "execution_count": 17,
   "id": "eb80bb44",
   "metadata": {},
   "outputs": [
    {
     "data": {
      "text/plain": [
       "'String dentro de un módulo'"
      ]
     },
     "execution_count": 17,
     "metadata": {},
     "output_type": "execute_result"
    }
   ],
   "source": [
    "string_en_modulo"
   ]
  },
  {
   "cell_type": "markdown",
   "id": "5ce733b3",
   "metadata": {},
   "source": [
    "### `import <module_name> as <alt_name>``\n",
    "\n",
    "También se puede importar un módulo completo con un nombre alternativo:"
   ]
  },
  {
   "cell_type": "code",
   "execution_count": 18,
   "id": "81ccc1c6",
   "metadata": {},
   "outputs": [],
   "source": [
    "import modulo_test as mod_123"
   ]
  },
  {
   "cell_type": "code",
   "execution_count": 19,
   "id": "873278e2",
   "metadata": {},
   "outputs": [
    {
     "data": {
      "text/plain": [
       "'String dentro de un módulo'"
      ]
     },
     "execution_count": 19,
     "metadata": {},
     "output_type": "execute_result"
    }
   ],
   "source": [
    "mod_123.s"
   ]
  },
  {
   "cell_type": "markdown",
   "id": "796adc64",
   "metadata": {},
   "source": [
    "## La función `dir()`\n",
    "\n",
    "La función *pre-instalada* `dir()` devuelve una lista de nombres definidos en un `namespace`. Sin argumentos, produce una lista ordenada alfabéticamente de nombres en el `namespace` actual:"
   ]
  },
  {
   "cell_type": "code",
   "execution_count": 20,
   "id": "353cd640",
   "metadata": {},
   "outputs": [
    {
     "data": {
      "text/plain": [
       "['l',\n",
       " 'mod_123',\n",
       " 'modulo_test',\n",
       " 'open',\n",
       " 'os',\n",
       " 'quit',\n",
       " 'requests',\n",
       " 's',\n",
       " 'string_en_modulo',\n",
       " 'sys']"
      ]
     },
     "execution_count": 20,
     "metadata": {},
     "output_type": "execute_result"
    }
   ],
   "source": [
    "dir()[-10:]"
   ]
  },
  {
   "cell_type": "markdown",
   "id": "158fe6a1",
   "metadata": {},
   "source": [
    "Cuando pasamos como argumento el nombre de un módulo a `dir()` se enumeran los nombres definidos en el módulo:"
   ]
  },
  {
   "cell_type": "code",
   "execution_count": 21,
   "id": "84478fff",
   "metadata": {},
   "outputs": [
    {
     "data": {
      "text/plain": [
       "['Poliza',\n",
       " '__builtins__',\n",
       " '__cached__',\n",
       " '__doc__',\n",
       " '__file__',\n",
       " '__loader__',\n",
       " '__name__',\n",
       " '__package__',\n",
       " '__spec__',\n",
       " 'func_modulo',\n",
       " 'l',\n",
       " 's']"
      ]
     },
     "execution_count": 21,
     "metadata": {},
     "output_type": "execute_result"
    }
   ],
   "source": [
    "dir(modulo_test)"
   ]
  },
  {
   "cell_type": "markdown",
   "id": "678aedf2",
   "metadata": {},
   "source": [
    "## Ejecutar módulos como scripts\n",
    "\n",
    "Cualquier archivo `.py` que contenga un módulo es esencialmente también un script de Python.\n",
    "\n",
    "Por ejemplo:\n",
    "\n",
    "Lo siguiente es el cóntenido de un archivo llamado *script_test.py*\n",
    "```` python\n",
    "\n",
    "def func_saludar(name: str):\n",
    "    print(f\"Hola {name}\")\n",
    "\n",
    "func_saludar(name=\"Heber\")\n",
    "````\n",
    "\n",
    "Podemos ejecutar el script de la siguiente manera:\n",
    "\n",
    "```` bash\n",
    "python path/to/script_test.py\n",
    "````\n",
    "\n",
    "Como pudimos observar en la consola, se imprimió la llamada de la funció `func_saludar(name=\"Heber\")`\n",
    "\n",
    "¿Qué pasa si quremos importar el archivo *script_test.py* como módulo?"
   ]
  },
  {
   "cell_type": "code",
   "execution_count": 23,
   "id": "e89c21a7-f5c4-4cd3-9c5d-caf330edfa2a",
   "metadata": {},
   "outputs": [
    {
     "name": "stdout",
     "output_type": "stream",
     "text": [
      "Hola Heber\n",
      "__main__\n"
     ]
    }
   ],
   "source": [
    "!python script_test.py"
   ]
  },
  {
   "cell_type": "code",
   "execution_count": 24,
   "id": "47decbef",
   "metadata": {},
   "outputs": [
    {
     "name": "stdout",
     "output_type": "stream",
     "text": [
      "Hola Heber\n",
      "script_test\n"
     ]
    }
   ],
   "source": [
    "import script_test"
   ]
  },
  {
   "cell_type": "code",
   "execution_count": 25,
   "id": "1e33d40c",
   "metadata": {},
   "outputs": [
    {
     "data": {
      "text/plain": [
       "'script_test'"
      ]
     },
     "execution_count": 25,
     "metadata": {},
     "output_type": "execute_result"
    }
   ],
   "source": [
    "script_test.__name__"
   ]
  },
  {
   "cell_type": "markdown",
   "id": "e4eb158e",
   "metadata": {},
   "source": [
    "Genera una impresión!\n",
    "\n",
    "No es habitual que un módulo genere resultados cuando se importa.\n",
    "\n",
    "> ¿No sería bueno poder distinguir entre cuándo se carga el archivo como un módulo y cuándo se ejecuta como un script independiente?\n",
    "\n",
    "!Es posible!\n",
    "\n",
    "Cuando se importa un archivo .py como módulo, Python fija el valor de la variable `__name__` como el nombre del módulo. Sin embargo, si un archivo se ejecuta como un script independiente, `__name__` toma el valor `'__main__'`. Podemos usar este hecho a nuestro favor.\n",
    "\n",
    "\n",
    "Por ejemplo:\n",
    "\n",
    "Lo siguiente es el cóntenido de un archivo llamado *script_test_2.py*\n",
    "```` python\n",
    "def func_saludar(name: str):\n",
    "    print(f\"Hola {name}\")\n",
    "\n",
    "\n",
    "if __name__ == '__main__':\n",
    "    func_saludar(name=\"Heber\")\n",
    "````"
   ]
  },
  {
   "cell_type": "code",
   "execution_count": 27,
   "id": "44bcca28",
   "metadata": {},
   "outputs": [],
   "source": [
    "import script_test_2"
   ]
  },
  {
   "cell_type": "code",
   "execution_count": 28,
   "id": "8d87d609-a070-40c7-a13e-7e5d883cf6a5",
   "metadata": {},
   "outputs": [
    {
     "name": "stdout",
     "output_type": "stream",
     "text": [
      "Hola Heber\n"
     ]
    }
   ],
   "source": [
    "!python script_test_2.py"
   ]
  },
  {
   "cell_type": "markdown",
   "id": "38efdc48",
   "metadata": {},
   "source": [
    "## Paquetes de Python\n",
    "\n",
    "Los paquetes permiten agrupar en una estructura jerárquica los módulos y los `namespaces` mediante la notación de puntos. De la misma manera que los módulos ayudan a evitar colisiones entre nombres de variables globales, los paquetes ayudan a evitar colisiones entre nombres de módulos.\n",
    "\n",
    "Por ejemplo\n",
    "\n",
    "Tenemos la siguiente estructura de módulos:\n",
    "\n",
    "``` bash\n",
    "paquete_test\n",
    "│ \n",
    "├── api_modelo.py\n",
    "├── base_datos.py\n",
    "└── estimador.py\n",
    "```\n",
    "\n",
    "*base_datos.py*\n",
    "```` python\n",
    "\n",
    "class Conexion():\n",
    "    def __init__(self, url: str):\n",
    "            self.url = url\n",
    "         \n",
    "    \n",
    "\n",
    "class BaseDatos():\n",
    "    def __init__(self, conexion: Conexion):\n",
    "            self.conexion = conexion\n",
    "\n",
    "````\n",
    "\n",
    "*api_modelo.py*\n",
    "```` python\n",
    "\n",
    "class APIMod():\n",
    "    def __init__(self, url: str, port: int):\n",
    "            self.url = url\n",
    "            self.port = port\n",
    "\n",
    "````\n",
    "\n",
    "\n",
    "*estimador.py*\n",
    "```` python\n",
    "from typing import List\n",
    "\n",
    "class Estimador():\n",
    "    \n",
    "    def predict(self, y: List[float])->List[float]:\n",
    "        return [val*0.1 + 3 for val in y]\n",
    "        \n",
    "````\n",
    "\n",
    "Dada esa estructura, si el directorio `paquete_test` reside en una ubicación de los directorios contenidos en `sys.path`, puedemos hacer referencia a los dos módulos con notación de punto:\n"
   ]
  },
  {
   "cell_type": "code",
   "execution_count": 29,
   "id": "79bff9de",
   "metadata": {},
   "outputs": [],
   "source": [
    "import paquete_test.estimador"
   ]
  },
  {
   "cell_type": "code",
   "execution_count": 30,
   "id": "1e972ad6",
   "metadata": {},
   "outputs": [
    {
     "data": {
      "text/plain": [
       "<module 'paquete_test.estimador' from '/Users/heber.trujillo/projects/curso-python-cac/06 Módulos y Paquetes/paquete_test/estimador.py'>"
      ]
     },
     "execution_count": 30,
     "metadata": {},
     "output_type": "execute_result"
    }
   ],
   "source": [
    "paquete_test.estimador"
   ]
  },
  {
   "cell_type": "code",
   "execution_count": 31,
   "id": "44a1beee",
   "metadata": {},
   "outputs": [
    {
     "data": {
      "text/plain": [
       "<paquete_test.estimador.Estimador at 0x114448390>"
      ]
     },
     "execution_count": 31,
     "metadata": {},
     "output_type": "execute_result"
    }
   ],
   "source": [
    "paquete_test.estimador.Estimador()"
   ]
  },
  {
   "cell_type": "markdown",
   "id": "5f7ee24f",
   "metadata": {},
   "source": [
    "Técnicamente, también puedemos importar el paquete:"
   ]
  },
  {
   "cell_type": "code",
   "execution_count": 34,
   "id": "76514c46",
   "metadata": {},
   "outputs": [],
   "source": [
    "import paquete_test"
   ]
  },
  {
   "cell_type": "markdown",
   "id": "ea95cba8",
   "metadata": {},
   "source": [
    "Aunque esto es un comando de Python sintácticamente correcto, no es útil. No coloca ninguno de los módulos en `paquete_test` en el `global namespace`:"
   ]
  },
  {
   "cell_type": "code",
   "execution_count": 35,
   "id": "6ee3c7bb",
   "metadata": {},
   "outputs": [
    {
     "ename": "AttributeError",
     "evalue": "module 'paquete_test' has no attribute 'api_modelo'",
     "output_type": "error",
     "traceback": [
      "\u001b[0;31m---------------------------------------------------------------------------\u001b[0m",
      "\u001b[0;31mAttributeError\u001b[0m                            Traceback (most recent call last)",
      "Cell \u001b[0;32mIn[35], line 1\u001b[0m\n\u001b[0;32m----> 1\u001b[0m \u001b[43mpaquete_test\u001b[49m\u001b[38;5;241;43m.\u001b[39;49m\u001b[43mapi_modelo\u001b[49m\n",
      "\u001b[0;31mAttributeError\u001b[0m: module 'paquete_test' has no attribute 'api_modelo'"
     ]
    }
   ],
   "source": [
    "paquete_test.api_modelo"
   ]
  },
  {
   "cell_type": "markdown",
   "id": "1fd27783",
   "metadata": {},
   "source": [
    "Tendríamos que:"
   ]
  },
  {
   "cell_type": "code",
   "execution_count": 36,
   "id": "18129e4d",
   "metadata": {},
   "outputs": [
    {
     "data": {
      "text/plain": [
       "<module 'paquete_test.api_modelo' from '/Users/heber.trujillo/projects/curso-python-cac/06 Módulos y Paquetes/paquete_test/api_modelo.py'>"
      ]
     },
     "execution_count": 36,
     "metadata": {},
     "output_type": "execute_result"
    }
   ],
   "source": [
    "import paquete_test.api_modelo\n",
    "paquete_test.api_modelo"
   ]
  },
  {
   "cell_type": "markdown",
   "id": "02c653d2",
   "metadata": {},
   "source": [
    "## Inicializar un paquete\n",
    "\n",
    "Si un archivo llamado `__init__.py` está dentro del directorio del paquete, éste se invoca cuando se importa el paquete o un módulo en el paquete.\n",
    "\n",
    "Esto se puede usar para *\"personalizar\"* la inicialización del paquete:\n",
    "\n",
    "Por ejemplo: \n",
    "\n",
    "\n",
    "Tenemos la siguiente estructura de módulos:\n",
    "\n",
    "``` bash\n",
    "paquete_test_2\n",
    "│ \n",
    "├── __init__.py\n",
    "├── api_modelo.py\n",
    "├── base_datos.py\n",
    "└── estimador.py\n",
    "```\n",
    "\n",
    "\\__init__.py\n",
    "```` python\n",
    "from paquete_test_2.base_datos import Conexion, BaseDatos\n",
    "from paquete_test_2.api_modelo import APIMod\n",
    "from paquete_test_2.estimador import Estimador\n",
    "\n",
    "__all__ = [\"Conexion\", \"BaseDatos\", \"APIMod\", \"Estimador\"]\n",
    "````\n",
    "\n",
    "`__all__` es una lista de `strings` que definen qué variables de un módulo / paquete se exportarán cuando se ejecute `from <module> import *`.\n",
    "\n",
    "*base_datos.py*\n",
    "```` python\n",
    "\n",
    "class Conexion():\n",
    "    def __init__(self, url: str):\n",
    "            self.url = url\n",
    "         \n",
    "    \n",
    "\n",
    "class BaseDatos():\n",
    "    def __init__(self, conexion: Conexion):\n",
    "            self.conexion = conexion\n",
    "\n",
    "````\n",
    "\n",
    "*api_modelo.py*\n",
    "```` python\n",
    "\n",
    "class APIMod():\n",
    "    def __init__(self, url: str, port: int):\n",
    "            self.url = url\n",
    "            self.port = port\n",
    "\n",
    "````\n",
    "\n",
    "\n",
    "*estimador.py*\n",
    "```` python\n",
    "from typing import List\n",
    "\n",
    "class Estimador():\n",
    "    \n",
    "    def predict(self, y: List[float])->List[float]:\n",
    "        return [val*0.1 + 3 for val in y]\n",
    "        \n",
    "````"
   ]
  },
  {
   "cell_type": "code",
   "execution_count": 37,
   "id": "450c40b2",
   "metadata": {},
   "outputs": [],
   "source": [
    "import paquete_test_2"
   ]
  },
  {
   "cell_type": "code",
   "execution_count": 38,
   "id": "e77a1d0e",
   "metadata": {},
   "outputs": [
    {
     "data": {
      "text/plain": [
       "<paquete_test_2.estimador.Estimador at 0x1143c8c10>"
      ]
     },
     "execution_count": 38,
     "metadata": {},
     "output_type": "execute_result"
    }
   ],
   "source": [
    "paquete_test_2.estimador.Estimador()\n"
   ]
  },
  {
   "cell_type": "code",
   "execution_count": 39,
   "id": "73009269",
   "metadata": {},
   "outputs": [
    {
     "data": {
      "text/plain": [
       "<paquete_test_2.api_modelo.APIMod at 0x1142bbc90>"
      ]
     },
     "execution_count": 39,
     "metadata": {},
     "output_type": "execute_result"
    }
   ],
   "source": [
    "paquete_test_2.APIMod(url='127.0.0.0', port=5000)"
   ]
  },
  {
   "cell_type": "code",
   "execution_count": 40,
   "id": "0536163f",
   "metadata": {},
   "outputs": [
    {
     "data": {
      "text/plain": [
       "paquete_test_2.api_modelo.APIMod"
      ]
     },
     "execution_count": 40,
     "metadata": {},
     "output_type": "execute_result"
    }
   ],
   "source": [
    "paquete_test_2.APIMod"
   ]
  }
 ],
 "metadata": {
  "kernelspec": {
   "display_name": "Python 3 (ipykernel)",
   "language": "python",
   "name": "python3"
  },
  "language_info": {
   "codemirror_mode": {
    "name": "ipython",
    "version": 3
   },
   "file_extension": ".py",
   "mimetype": "text/x-python",
   "name": "python",
   "nbconvert_exporter": "python",
   "pygments_lexer": "ipython3",
   "version": "3.11.6"
  }
 },
 "nbformat": 4,
 "nbformat_minor": 5
}
