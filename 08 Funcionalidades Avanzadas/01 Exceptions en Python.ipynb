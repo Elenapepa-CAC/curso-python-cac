{
 "cells": [
  {
   "cell_type": "markdown",
   "id": "1e34a10c",
   "metadata": {},
   "source": [
    "# Exceptions en Python\n",
    "\n",
    "Los objetivos de aprendizaje son:\n",
    "\n",
    "1. Motivación.\n",
    "2. Exceptions vs Syntax Errors.\n",
    "3. Cláusula `raise`.\n",
    "4. `AssertionError`.\n",
    "5. Gestión de excepciones: `try` & `except`.\n",
    "6. Cláusula `else`.\n",
    "7. Cláusula `finally`.\n",
    "8. Construir excepciones.\n",
    "\n",
    "## Motivación.\n",
    "\n",
    "Un programa de Python termina tan pronto como encuentra un error. Un error puede ser:\n",
    "\n",
    "- Error de sintaxi.\n",
    "\n",
    "- Excepción. \n",
    "\n",
    "Entender y gestionar las excepciones nos ayudará a crear código más robusto. \n",
    "\n",
    "## Exceptions vs Syntax Errors.\n",
    "\n",
    "Los errores de sintaxis ocurren cuando se detecta una declaración incorrecta:"
   ]
  },
  {
   "cell_type": "code",
   "execution_count": 1,
   "id": "64f50aee",
   "metadata": {},
   "outputs": [
    {
     "ename": "SyntaxError",
     "evalue": "incomplete input (3309963527.py, line 1)",
     "output_type": "error",
     "traceback": [
      "\u001b[0;36m  Cell \u001b[0;32mIn[1], line 1\u001b[0;36m\u001b[0m\n\u001b[0;31m    print(0/0\u001b[0m\n\u001b[0m             ^\u001b[0m\n\u001b[0;31mSyntaxError\u001b[0m\u001b[0;31m:\u001b[0m incomplete input\n"
     ]
    }
   ],
   "source": [
    "print(0/0"
   ]
  },
  {
   "cell_type": "markdown",
   "id": "fad678cb",
   "metadata": {},
   "source": [
    "La flecha indica dónde se encontró el error de sintaxis, en este caso nos falta un paréntesis. Si lo añadimos:"
   ]
  },
  {
   "cell_type": "code",
   "execution_count": 2,
   "id": "e5432f1d",
   "metadata": {},
   "outputs": [
    {
     "ename": "ZeroDivisionError",
     "evalue": "division by zero",
     "output_type": "error",
     "traceback": [
      "\u001b[0;31m---------------------------------------------------------------------------\u001b[0m",
      "\u001b[0;31mZeroDivisionError\u001b[0m                         Traceback (most recent call last)",
      "Cell \u001b[0;32mIn[2], line 1\u001b[0m\n\u001b[0;32m----> 1\u001b[0m \u001b[38;5;28mprint\u001b[39m(\u001b[38;5;241;43m0\u001b[39;49m\u001b[38;5;241;43m/\u001b[39;49m\u001b[38;5;241;43m0\u001b[39;49m)\n",
      "\u001b[0;31mZeroDivisionError\u001b[0m: division by zero"
     ]
    }
   ],
   "source": [
    "print(0/0)"
   ]
  },
  {
   "cell_type": "markdown",
   "id": "d2de0648",
   "metadata": {},
   "source": [
    "Ahora nos encontramos con una error del tipo excepción.\n",
    "\n",
    "> Los errores del tipo excepción ocurre siempre que ocurra un error dentro de código Python sintácticamente correcto.\n",
    "\n",
    "Python nos indicará qué tipo de excepción se encontró. En este caso `ZeroDivisionError`. Python viene con varias excepciones integradas, así como con la posibilidad de crear excepciones propias.\n",
    "\n",
    "## Cláusula `raise`.\n",
    "\n",
    "Podemos usar `raise` para levantar una excepción si ocurre una condición:"
   ]
  },
  {
   "cell_type": "code",
   "execution_count": 3,
   "id": "4fbf8a16",
   "metadata": {},
   "outputs": [],
   "source": [
    "from dataclasses import dataclass\n",
    "\n",
    "@dataclass\n",
    "class Poliza:\n",
    "    nombre: str\n",
    "    edad: int\n",
    "\n",
    "\n",
    "def suscribir_poliza(nombre_asegurado: str, edad_asegurado: int) -> Poliza:\n",
    "    \n",
    "    if edad_asegurado<=0:\n",
    "        \n",
    "        raise ValueError(\"Edad de Asegurado debe ser > 0\")\n",
    "    \n",
    "    else:\n",
    "        \n",
    "        return Poliza(nombre=nombre_asegurado, edad=edad_asegurado)"
   ]
  },
  {
   "cell_type": "markdown",
   "id": "6c6c3a4a",
   "metadata": {},
   "source": [
    "Si ejecutamos el siguiente código levantaremos la excepción:"
   ]
  },
  {
   "cell_type": "code",
   "execution_count": 5,
   "id": "5dd5b4e3",
   "metadata": {
    "scrolled": true
   },
   "outputs": [
    {
     "ename": "ValueError",
     "evalue": "Edad de Asegurado debe ser > 0",
     "output_type": "error",
     "traceback": [
      "\u001b[0;31m---------------------------------------------------------------------------\u001b[0m",
      "\u001b[0;31mValueError\u001b[0m                                Traceback (most recent call last)",
      "Cell \u001b[0;32mIn[5], line 1\u001b[0m\n\u001b[0;32m----> 1\u001b[0m \u001b[43msuscribir_poliza\u001b[49m\u001b[43m(\u001b[49m\n\u001b[1;32m      2\u001b[0m \u001b[43m    \u001b[49m\u001b[43mnombre_asegurado\u001b[49m\u001b[38;5;241;43m=\u001b[39;49m\u001b[38;5;124;43m\"\u001b[39;49m\u001b[38;5;124;43mHeber\u001b[39;49m\u001b[38;5;124;43m\"\u001b[39;49m\u001b[43m,\u001b[49m\n\u001b[1;32m      3\u001b[0m \u001b[43m    \u001b[49m\u001b[43medad_asegurado\u001b[49m\u001b[38;5;241;43m=\u001b[39;49m\u001b[38;5;241;43m-\u001b[39;49m\u001b[38;5;241;43m1\u001b[39;49m\n\u001b[1;32m      4\u001b[0m \u001b[43m)\u001b[49m\n",
      "Cell \u001b[0;32mIn[3], line 13\u001b[0m, in \u001b[0;36msuscribir_poliza\u001b[0;34m(nombre_asegurado, edad_asegurado)\u001b[0m\n\u001b[1;32m      9\u001b[0m \u001b[38;5;28;01mdef\u001b[39;00m \u001b[38;5;21msuscribir_poliza\u001b[39m(nombre_asegurado: \u001b[38;5;28mstr\u001b[39m, edad_asegurado: \u001b[38;5;28mint\u001b[39m) \u001b[38;5;241m-\u001b[39m\u001b[38;5;241m>\u001b[39m Poliza:\n\u001b[1;32m     11\u001b[0m     \u001b[38;5;28;01mif\u001b[39;00m edad_asegurado\u001b[38;5;241m<\u001b[39m\u001b[38;5;241m=\u001b[39m\u001b[38;5;241m0\u001b[39m:\n\u001b[0;32m---> 13\u001b[0m         \u001b[38;5;28;01mraise\u001b[39;00m \u001b[38;5;167;01mValueError\u001b[39;00m(\u001b[38;5;124m\"\u001b[39m\u001b[38;5;124mEdad de Asegurado debe ser > 0\u001b[39m\u001b[38;5;124m\"\u001b[39m)\n\u001b[1;32m     15\u001b[0m     \u001b[38;5;28;01melse\u001b[39;00m:\n\u001b[1;32m     17\u001b[0m         \u001b[38;5;28;01mreturn\u001b[39;00m Poliza(nombre\u001b[38;5;241m=\u001b[39mnombre_asegurado, edad\u001b[38;5;241m=\u001b[39medad_asegurado)\n",
      "\u001b[0;31mValueError\u001b[0m: Edad de Asegurado debe ser > 0"
     ]
    }
   ],
   "source": [
    "suscribir_poliza(\n",
    "    nombre_asegurado=\"Heber\",\n",
    "    edad_asegurado=-1\n",
    ")"
   ]
  },
  {
   "cell_type": "markdown",
   "id": "77a2c966",
   "metadata": {},
   "source": [
    "## `AssertionError`.\n",
    "\n",
    "\n",
    "El `AssertionError` aparece en el contexto de verificar que una condición sea verdadera para validar que el resto del programa se ejecutará de manera correcta.\n",
    "\n",
    "La función `assert()` levantará `AssertionError` si pasamos `False` como argumento, en caso contrario la ejecución seguirá.\n"
   ]
  },
  {
   "cell_type": "code",
   "execution_count": 6,
   "id": "81ed0414",
   "metadata": {},
   "outputs": [],
   "source": [
    "def suscribir_poliza(nombre_asegurado: str, edad_asegurado: int) -> Poliza:\n",
    "    \n",
    "    assert(edad_asegurado > 0), \"Edad de Asegurado debe ser > 0\"\n",
    "        \n",
    "    return Poliza(nombre=nombre_asegurado, edad=edad_asegurado)"
   ]
  },
  {
   "cell_type": "markdown",
   "id": "d0fe9802",
   "metadata": {},
   "source": [
    "En este caso la string que está inmediatamente después de la llamada a la función `assert` se mostrará en caso de que la condición sea `False`. "
   ]
  },
  {
   "cell_type": "code",
   "execution_count": 7,
   "id": "bfe002b4",
   "metadata": {},
   "outputs": [
    {
     "ename": "AssertionError",
     "evalue": "Edad de Asegurado debe ser > 0",
     "output_type": "error",
     "traceback": [
      "\u001b[0;31m---------------------------------------------------------------------------\u001b[0m",
      "\u001b[0;31mAssertionError\u001b[0m                            Traceback (most recent call last)",
      "Cell \u001b[0;32mIn[7], line 1\u001b[0m\n\u001b[0;32m----> 1\u001b[0m \u001b[43msuscribir_poliza\u001b[49m\u001b[43m(\u001b[49m\n\u001b[1;32m      2\u001b[0m \u001b[43m    \u001b[49m\u001b[43mnombre_asegurado\u001b[49m\u001b[38;5;241;43m=\u001b[39;49m\u001b[38;5;124;43m\"\u001b[39;49m\u001b[38;5;124;43mHeber\u001b[39;49m\u001b[38;5;124;43m\"\u001b[39;49m\u001b[43m,\u001b[49m\n\u001b[1;32m      3\u001b[0m \u001b[43m    \u001b[49m\u001b[43medad_asegurado\u001b[49m\u001b[38;5;241;43m=\u001b[39;49m\u001b[38;5;241;43m0\u001b[39;49m\n\u001b[1;32m      4\u001b[0m \u001b[43m)\u001b[49m\n",
      "Cell \u001b[0;32mIn[6], line 3\u001b[0m, in \u001b[0;36msuscribir_poliza\u001b[0;34m(nombre_asegurado, edad_asegurado)\u001b[0m\n\u001b[1;32m      1\u001b[0m \u001b[38;5;28;01mdef\u001b[39;00m \u001b[38;5;21msuscribir_poliza\u001b[39m(nombre_asegurado: \u001b[38;5;28mstr\u001b[39m, edad_asegurado: \u001b[38;5;28mint\u001b[39m) \u001b[38;5;241m-\u001b[39m\u001b[38;5;241m>\u001b[39m Poliza:\n\u001b[0;32m----> 3\u001b[0m     \u001b[38;5;28;01massert\u001b[39;00m(edad_asegurado \u001b[38;5;241m>\u001b[39m \u001b[38;5;241m0\u001b[39m), \u001b[38;5;124m\"\u001b[39m\u001b[38;5;124mEdad de Asegurado debe ser > 0\u001b[39m\u001b[38;5;124m\"\u001b[39m\n\u001b[1;32m      5\u001b[0m     \u001b[38;5;28;01mreturn\u001b[39;00m Poliza(nombre\u001b[38;5;241m=\u001b[39mnombre_asegurado, edad\u001b[38;5;241m=\u001b[39medad_asegurado)\n",
      "\u001b[0;31mAssertionError\u001b[0m: Edad de Asegurado debe ser > 0"
     ]
    }
   ],
   "source": [
    "suscribir_poliza(\n",
    "    nombre_asegurado=\"Heber\",\n",
    "    edad_asegurado=0\n",
    ")"
   ]
  },
  {
   "cell_type": "markdown",
   "id": "0982b3be",
   "metadata": {},
   "source": [
    "## Gestión de excepciones: `try` & `except`.\n",
    "\n",
    "Las cláusula `try` y `except` se usa para capturar y gestionar excepciones, la sintaxis más rudimentaria es la siguiente:\n",
    "\n",
    "```Python\n",
    "\n",
    "try:\n",
    "    <code>\n",
    "except:\n",
    "    <code>\n",
    "\n",
    "```\n",
    "\n",
    "Python:\n",
    "1. ejecutará el código dentro de `try`.\n",
    "2. En caso de encontrar una excepción se ejecutará el código dentro de `except`.\n",
    "\n",
    "Por ejemplo:"
   ]
  },
  {
   "cell_type": "code",
   "execution_count": 8,
   "id": "3f13ce8a",
   "metadata": {},
   "outputs": [
    {
     "name": "stdin",
     "output_type": "stream",
     "text": [
      "Selecciona edad de asegurado  10\n"
     ]
    },
    {
     "name": "stdout",
     "output_type": "stream",
     "text": [
      "Poliza(nombre='Heber', edad=10)\n"
     ]
    }
   ],
   "source": [
    "edad_asegurado = int(input(\"Selecciona edad de asegurado \"))\n",
    "while True:\n",
    "\n",
    "    try:\n",
    "        poliza = suscribir_poliza(\n",
    "            nombre_asegurado=\"Heber\",\n",
    "            edad_asegurado=edad_asegurado\n",
    "        )\n",
    "        print(poliza)\n",
    "        break\n",
    "    except:\n",
    "        print(\"Edad debe ser > 0\")\n",
    "        edad_asegurado = int(input(\"Selecciona edad de asegurado \"))\n"
   ]
  },
  {
   "cell_type": "markdown",
   "id": "0fdecfb8",
   "metadata": {},
   "source": [
    ">**Nota**: Usar sólo `except:` puede capturar cualquier tipo de error, y esto puede ser confuso."
   ]
  },
  {
   "cell_type": "code",
   "execution_count": 9,
   "id": "5949e0fe",
   "metadata": {},
   "outputs": [
    {
     "name": "stdin",
     "output_type": "stream",
     "text": [
      "Selecciona edad de asegurado  a\n"
     ]
    },
    {
     "name": "stdout",
     "output_type": "stream",
     "text": [
      "Edad debe ser > 0\n"
     ]
    },
    {
     "name": "stdin",
     "output_type": "stream",
     "text": [
      "Selecciona edad de asegurado  0\n"
     ]
    },
    {
     "name": "stdout",
     "output_type": "stream",
     "text": [
      "Edad debe ser > 0\n"
     ]
    },
    {
     "name": "stdin",
     "output_type": "stream",
     "text": [
      "Selecciona edad de asegurado  10\n"
     ]
    },
    {
     "name": "stdout",
     "output_type": "stream",
     "text": [
      "Edad debe ser > 0\n"
     ]
    },
    {
     "name": "stdin",
     "output_type": "stream",
     "text": [
      "Selecciona edad de asegurado  10\n"
     ]
    },
    {
     "name": "stdout",
     "output_type": "stream",
     "text": [
      "Edad debe ser > 0\n"
     ]
    },
    {
     "ename": "KeyboardInterrupt",
     "evalue": "Interrupted by user",
     "output_type": "error",
     "traceback": [
      "\u001b[0;31m---------------------------------------------------------------------------\u001b[0m",
      "\u001b[0;31mKeyboardInterrupt\u001b[0m                         Traceback (most recent call last)",
      "Cell \u001b[0;32mIn[9], line 13\u001b[0m\n\u001b[1;32m     11\u001b[0m \u001b[38;5;28;01mexcept\u001b[39;00m:\n\u001b[1;32m     12\u001b[0m     \u001b[38;5;28mprint\u001b[39m(\u001b[38;5;124m\"\u001b[39m\u001b[38;5;124mEdad debe ser > 0\u001b[39m\u001b[38;5;124m\"\u001b[39m)\n\u001b[0;32m---> 13\u001b[0m     edad_asegurado \u001b[38;5;241m=\u001b[39m \u001b[38;5;28;43minput\u001b[39;49m\u001b[43m(\u001b[49m\u001b[38;5;124;43m\"\u001b[39;49m\u001b[38;5;124;43mSelecciona edad de asegurado \u001b[39;49m\u001b[38;5;124;43m\"\u001b[39;49m\u001b[43m)\u001b[49m\n",
      "File \u001b[0;32m~/projects/curso-python-cac/.venv/lib/python3.11/site-packages/ipykernel/kernelbase.py:1262\u001b[0m, in \u001b[0;36mKernel.raw_input\u001b[0;34m(self, prompt)\u001b[0m\n\u001b[1;32m   1260\u001b[0m     msg \u001b[38;5;241m=\u001b[39m \u001b[38;5;124m\"\u001b[39m\u001b[38;5;124mraw_input was called, but this frontend does not support input requests.\u001b[39m\u001b[38;5;124m\"\u001b[39m\n\u001b[1;32m   1261\u001b[0m     \u001b[38;5;28;01mraise\u001b[39;00m StdinNotImplementedError(msg)\n\u001b[0;32m-> 1262\u001b[0m \u001b[38;5;28;01mreturn\u001b[39;00m \u001b[38;5;28;43mself\u001b[39;49m\u001b[38;5;241;43m.\u001b[39;49m\u001b[43m_input_request\u001b[49m\u001b[43m(\u001b[49m\n\u001b[1;32m   1263\u001b[0m \u001b[43m    \u001b[49m\u001b[38;5;28;43mstr\u001b[39;49m\u001b[43m(\u001b[49m\u001b[43mprompt\u001b[49m\u001b[43m)\u001b[49m\u001b[43m,\u001b[49m\n\u001b[1;32m   1264\u001b[0m \u001b[43m    \u001b[49m\u001b[38;5;28;43mself\u001b[39;49m\u001b[38;5;241;43m.\u001b[39;49m\u001b[43m_parent_ident\u001b[49m\u001b[43m[\u001b[49m\u001b[38;5;124;43m\"\u001b[39;49m\u001b[38;5;124;43mshell\u001b[39;49m\u001b[38;5;124;43m\"\u001b[39;49m\u001b[43m]\u001b[49m\u001b[43m,\u001b[49m\n\u001b[1;32m   1265\u001b[0m \u001b[43m    \u001b[49m\u001b[38;5;28;43mself\u001b[39;49m\u001b[38;5;241;43m.\u001b[39;49m\u001b[43mget_parent\u001b[49m\u001b[43m(\u001b[49m\u001b[38;5;124;43m\"\u001b[39;49m\u001b[38;5;124;43mshell\u001b[39;49m\u001b[38;5;124;43m\"\u001b[39;49m\u001b[43m)\u001b[49m\u001b[43m,\u001b[49m\n\u001b[1;32m   1266\u001b[0m \u001b[43m    \u001b[49m\u001b[43mpassword\u001b[49m\u001b[38;5;241;43m=\u001b[39;49m\u001b[38;5;28;43;01mFalse\u001b[39;49;00m\u001b[43m,\u001b[49m\n\u001b[1;32m   1267\u001b[0m \u001b[43m\u001b[49m\u001b[43m)\u001b[49m\n",
      "File \u001b[0;32m~/projects/curso-python-cac/.venv/lib/python3.11/site-packages/ipykernel/kernelbase.py:1305\u001b[0m, in \u001b[0;36mKernel._input_request\u001b[0;34m(self, prompt, ident, parent, password)\u001b[0m\n\u001b[1;32m   1302\u001b[0m \u001b[38;5;28;01mexcept\u001b[39;00m \u001b[38;5;167;01mKeyboardInterrupt\u001b[39;00m:\n\u001b[1;32m   1303\u001b[0m     \u001b[38;5;66;03m# re-raise KeyboardInterrupt, to truncate traceback\u001b[39;00m\n\u001b[1;32m   1304\u001b[0m     msg \u001b[38;5;241m=\u001b[39m \u001b[38;5;124m\"\u001b[39m\u001b[38;5;124mInterrupted by user\u001b[39m\u001b[38;5;124m\"\u001b[39m\n\u001b[0;32m-> 1305\u001b[0m     \u001b[38;5;28;01mraise\u001b[39;00m \u001b[38;5;167;01mKeyboardInterrupt\u001b[39;00m(msg) \u001b[38;5;28;01mfrom\u001b[39;00m \u001b[38;5;28;01mNone\u001b[39;00m\n\u001b[1;32m   1306\u001b[0m \u001b[38;5;28;01mexcept\u001b[39;00m \u001b[38;5;167;01mException\u001b[39;00m:\n\u001b[1;32m   1307\u001b[0m     \u001b[38;5;28mself\u001b[39m\u001b[38;5;241m.\u001b[39mlog\u001b[38;5;241m.\u001b[39mwarning(\u001b[38;5;124m\"\u001b[39m\u001b[38;5;124mInvalid Message:\u001b[39m\u001b[38;5;124m\"\u001b[39m, exc_info\u001b[38;5;241m=\u001b[39m\u001b[38;5;28;01mTrue\u001b[39;00m)\n",
      "\u001b[0;31mKeyboardInterrupt\u001b[0m: Interrupted by user"
     ]
    }
   ],
   "source": [
    "edad_asegurado = input(\"Selecciona edad de asegurado \")\n",
    "while True:\n",
    "\n",
    "    try:\n",
    "        poliza = suscribir_poliza(\n",
    "            nombre_asegurado=\"Heber\",\n",
    "            edad_asegurado=edad_asegurado\n",
    "        )\n",
    "        print(poliza)\n",
    "        break\n",
    "    except:\n",
    "        print(\"Edad debe ser > 0\")\n",
    "        edad_asegurado = input(\"Selecciona edad de asegurado \")\n"
   ]
  },
  {
   "cell_type": "markdown",
   "id": "309f4b93",
   "metadata": {},
   "source": [
    "Es mejor usar el tipo de excepción que estábamos esperando:"
   ]
  },
  {
   "cell_type": "code",
   "execution_count": 10,
   "id": "1458df9c",
   "metadata": {},
   "outputs": [],
   "source": [
    "from dataclasses import dataclass\n",
    "\n",
    "@dataclass\n",
    "class Poliza:\n",
    "    nombre: str\n",
    "    edad: int\n",
    "\n",
    "\n",
    "def suscribir_poliza(nombre_asegurado: str, edad_asegurado: int) -> Poliza:\n",
    "    \n",
    "    if edad_asegurado<=0:\n",
    "        \n",
    "        raise ValueError(\"Edad de Asegurado debe ser > 0\")\n",
    "    \n",
    "    else:\n",
    "        \n",
    "        return Poliza(nombre=nombre_asegurado, edad=edad_asegurado)\n"
   ]
  },
  {
   "cell_type": "markdown",
   "id": "7941f29b",
   "metadata": {},
   "source": [
    "Esto lo hacemos especificando el tipo de error a un lado de `except`, si esperamos más de un tipo podemos poner más de una vez la cláusula `except` o `except (ValueError, AssertionError)`"
   ]
  },
  {
   "cell_type": "code",
   "execution_count": 11,
   "id": "f7680292",
   "metadata": {},
   "outputs": [
    {
     "name": "stdin",
     "output_type": "stream",
     "text": [
      "Selecciona edad de asegurado  10\n"
     ]
    },
    {
     "ename": "TypeError",
     "evalue": "'<=' not supported between instances of 'str' and 'int'",
     "output_type": "error",
     "traceback": [
      "\u001b[0;31m---------------------------------------------------------------------------\u001b[0m",
      "\u001b[0;31mTypeError\u001b[0m                                 Traceback (most recent call last)",
      "Cell \u001b[0;32mIn[11], line 5\u001b[0m\n\u001b[1;32m      2\u001b[0m \u001b[38;5;28;01mwhile\u001b[39;00m \u001b[38;5;28;01mTrue\u001b[39;00m:\n\u001b[1;32m      4\u001b[0m     \u001b[38;5;28;01mtry\u001b[39;00m:\n\u001b[0;32m----> 5\u001b[0m         poliza \u001b[38;5;241m=\u001b[39m \u001b[43msuscribir_poliza\u001b[49m\u001b[43m(\u001b[49m\n\u001b[1;32m      6\u001b[0m \u001b[43m            \u001b[49m\u001b[43mnombre_asegurado\u001b[49m\u001b[38;5;241;43m=\u001b[39;49m\u001b[38;5;124;43m\"\u001b[39;49m\u001b[38;5;124;43mHeber\u001b[39;49m\u001b[38;5;124;43m\"\u001b[39;49m\u001b[43m,\u001b[49m\n\u001b[1;32m      7\u001b[0m \u001b[43m            \u001b[49m\u001b[43medad_asegurado\u001b[49m\u001b[38;5;241;43m=\u001b[39;49m\u001b[43medad_asegurado\u001b[49m\n\u001b[1;32m      8\u001b[0m \u001b[43m        \u001b[49m\u001b[43m)\u001b[49m\n\u001b[1;32m      9\u001b[0m         \u001b[38;5;28mprint\u001b[39m(poliza)\n\u001b[1;32m     10\u001b[0m         \u001b[38;5;28;01mbreak\u001b[39;00m\n",
      "Cell \u001b[0;32mIn[10], line 11\u001b[0m, in \u001b[0;36msuscribir_poliza\u001b[0;34m(nombre_asegurado, edad_asegurado)\u001b[0m\n\u001b[1;32m      9\u001b[0m \u001b[38;5;28;01mdef\u001b[39;00m \u001b[38;5;21msuscribir_poliza\u001b[39m(nombre_asegurado: \u001b[38;5;28mstr\u001b[39m, edad_asegurado: \u001b[38;5;28mint\u001b[39m) \u001b[38;5;241m-\u001b[39m\u001b[38;5;241m>\u001b[39m Poliza:\n\u001b[0;32m---> 11\u001b[0m     \u001b[38;5;28;01mif\u001b[39;00m \u001b[43medad_asegurado\u001b[49m\u001b[38;5;241;43m<\u001b[39;49m\u001b[38;5;241;43m=\u001b[39;49m\u001b[38;5;241;43m0\u001b[39;49m:\n\u001b[1;32m     13\u001b[0m         \u001b[38;5;28;01mraise\u001b[39;00m \u001b[38;5;167;01mValueError\u001b[39;00m(\u001b[38;5;124m\"\u001b[39m\u001b[38;5;124mEdad de Asegurado debe ser > 0\u001b[39m\u001b[38;5;124m\"\u001b[39m)\n\u001b[1;32m     15\u001b[0m     \u001b[38;5;28;01melse\u001b[39;00m:\n",
      "\u001b[0;31mTypeError\u001b[0m: '<=' not supported between instances of 'str' and 'int'"
     ]
    }
   ],
   "source": [
    "edad_asegurado = input(\"Selecciona edad de asegurado \")\n",
    "while True:\n",
    "\n",
    "    try:\n",
    "        poliza = suscribir_poliza(\n",
    "            nombre_asegurado=\"Heber\",\n",
    "            edad_asegurado=edad_asegurado\n",
    "        )\n",
    "        print(poliza)\n",
    "        break\n",
    "    except ValueError:\n",
    "        print(\"Edad debe ser > 0\")\n",
    "        edad_asegurado = input(\"Selecciona edad de asegurado \")\n"
   ]
  },
  {
   "cell_type": "markdown",
   "id": "25d2e701",
   "metadata": {},
   "source": [
    "## Cláusula `else`.\n",
    "\n",
    "La cláusula `else`, puede indicarle a un programa que ejecute un determinado bloque de código sólo si no hay excepciones.\n",
    "\n",
    "Podemos re-escribir el código que teníamos de la siguiente forma, y quedará más limpio."
   ]
  },
  {
   "cell_type": "code",
   "execution_count": 12,
   "id": "46690f8d",
   "metadata": {},
   "outputs": [
    {
     "name": "stdin",
     "output_type": "stream",
     "text": [
      "Selecciona edad de asegurado  10\n"
     ]
    },
    {
     "name": "stdout",
     "output_type": "stream",
     "text": [
      "Poliza(nombre='Heber', edad=10)\n"
     ]
    }
   ],
   "source": [
    "edad_asegurado = int(input(\"Selecciona edad de asegurado \"))\n",
    "while True:\n",
    "\n",
    "    try:\n",
    "        poliza = suscribir_poliza(\n",
    "            nombre_asegurado=\"Heber\",\n",
    "            edad_asegurado=edad_asegurado\n",
    "        )\n",
    "    except ValueError:\n",
    "        print(\"Edad debe ser > 0\")\n",
    "        edad_asegurado = int(input(\"Selecciona edad de asegurado \"))\n",
    "    \n",
    "    else:\n",
    "        print(poliza)\n",
    "        break"
   ]
  },
  {
   "cell_type": "markdown",
   "id": "337623a7",
   "metadata": {},
   "source": [
    "## Cláusula `finally`.\n",
    "\n",
    "Imaginemos una situación en donde no importa si ocurre una excepción o no, siempre tenemos que ejecutar una acción al finalizar.\n",
    "\n",
    ">Al leer un archivo, no importa qué suceda siempre tenemos que cerrarlo.\n",
    "\n",
    "Esto lo podemos lograr con la cláusula `finally`:"
   ]
  },
  {
   "cell_type": "code",
   "execution_count": 13,
   "id": "8add1662",
   "metadata": {},
   "outputs": [
    {
     "name": "stdout",
     "output_type": "stream",
     "text": [
      "Cerrando Archivo\n"
     ]
    }
   ],
   "source": [
    "try:\n",
    "    f = open('ejemplo.txt')\n",
    "    x = f.read()[1]\n",
    "\n",
    "except FileNotFoundError:\n",
    "    print(\"Archivo no encintrado\")\n",
    "    x=''\n",
    "else:\n",
    "    print(\"Cerrando Archivo\")\n",
    "    x = x.upper()\n",
    "finally:\n",
    "    f.close()"
   ]
  },
  {
   "cell_type": "code",
   "execution_count": 14,
   "id": "940eb3ac",
   "metadata": {},
   "outputs": [
    {
     "data": {
      "text/plain": [
       "True"
      ]
     },
     "execution_count": 14,
     "metadata": {},
     "output_type": "execute_result"
    }
   ],
   "source": [
    "f.closed"
   ]
  },
  {
   "cell_type": "code",
   "execution_count": 15,
   "id": "7c346b20",
   "metadata": {},
   "outputs": [
    {
     "name": "stdout",
     "output_type": "stream",
     "text": [
      "Archivo no encintrado\n",
      "Cerrando Archivo\n"
     ]
    }
   ],
   "source": [
    "try:\n",
    "    f = open('ejemplo_1234.txt')\n",
    "    x = f.read()[10]\n",
    "\n",
    "except FileNotFoundError:\n",
    "    print(\"Archivo no encintrado\")\n",
    "    x=''\n",
    "else:\n",
    "    x = x.upper()\n",
    "finally:\n",
    "    print(\"Cerrando Archivo\")\n",
    "    f.close()"
   ]
  },
  {
   "cell_type": "code",
   "execution_count": 16,
   "id": "4d840152",
   "metadata": {},
   "outputs": [
    {
     "data": {
      "text/plain": [
       "True"
      ]
     },
     "execution_count": 16,
     "metadata": {},
     "output_type": "execute_result"
    }
   ],
   "source": [
    "f.closed"
   ]
  },
  {
   "cell_type": "code",
   "execution_count": 17,
   "id": "3c22ab56",
   "metadata": {},
   "outputs": [],
   "source": [
    "from dataclasses import dataclass\n",
    "\n",
    "class InvalidAgeError(Exception):\n",
    "    pass \n",
    "\n",
    "@dataclass\n",
    "class Poliza:\n",
    "    nombre: str\n",
    "    edad: int\n",
    "\n",
    "\n",
    "def suscribir_poliza(nombre_asegurado: str, edad_asegurado: int) -> Poliza:\n",
    "    \n",
    "    if edad_asegurado<=0:\n",
    "        \n",
    "        raise InvalidAgeError(\"Edad de Asegurado debe ser > 0\")\n",
    "    \n",
    "    else:\n",
    "        \n",
    "        return Poliza(nombre=nombre_asegurado, edad=edad_asegurado)"
   ]
  },
  {
   "cell_type": "code",
   "execution_count": 18,
   "id": "9a5d6bf3-0476-4c13-ba72-aec5e1805304",
   "metadata": {
    "scrolled": true
   },
   "outputs": [
    {
     "ename": "InvalidAgeError",
     "evalue": "Edad de Asegurado debe ser > 0",
     "output_type": "error",
     "traceback": [
      "\u001b[0;31m---------------------------------------------------------------------------\u001b[0m",
      "\u001b[0;31mInvalidAgeError\u001b[0m                           Traceback (most recent call last)",
      "Cell \u001b[0;32mIn[18], line 1\u001b[0m\n\u001b[0;32m----> 1\u001b[0m \u001b[43msuscribir_poliza\u001b[49m\u001b[43m(\u001b[49m\u001b[38;5;124;43m\"\u001b[39;49m\u001b[38;5;124;43mheber\u001b[39;49m\u001b[38;5;124;43m\"\u001b[39;49m\u001b[43m,\u001b[49m\u001b[43m \u001b[49m\u001b[38;5;241;43m0\u001b[39;49m\u001b[43m)\u001b[49m\n",
      "Cell \u001b[0;32mIn[17], line 16\u001b[0m, in \u001b[0;36msuscribir_poliza\u001b[0;34m(nombre_asegurado, edad_asegurado)\u001b[0m\n\u001b[1;32m     12\u001b[0m \u001b[38;5;28;01mdef\u001b[39;00m \u001b[38;5;21msuscribir_poliza\u001b[39m(nombre_asegurado: \u001b[38;5;28mstr\u001b[39m, edad_asegurado: \u001b[38;5;28mint\u001b[39m) \u001b[38;5;241m-\u001b[39m\u001b[38;5;241m>\u001b[39m Poliza:\n\u001b[1;32m     14\u001b[0m     \u001b[38;5;28;01mif\u001b[39;00m edad_asegurado\u001b[38;5;241m<\u001b[39m\u001b[38;5;241m=\u001b[39m\u001b[38;5;241m0\u001b[39m:\n\u001b[0;32m---> 16\u001b[0m         \u001b[38;5;28;01mraise\u001b[39;00m InvalidAgeError(\u001b[38;5;124m\"\u001b[39m\u001b[38;5;124mEdad de Asegurado debe ser > 0\u001b[39m\u001b[38;5;124m\"\u001b[39m)\n\u001b[1;32m     18\u001b[0m     \u001b[38;5;28;01melse\u001b[39;00m:\n\u001b[1;32m     20\u001b[0m         \u001b[38;5;28;01mreturn\u001b[39;00m Poliza(nombre\u001b[38;5;241m=\u001b[39mnombre_asegurado, edad\u001b[38;5;241m=\u001b[39medad_asegurado)\n",
      "\u001b[0;31mInvalidAgeError\u001b[0m: Edad de Asegurado debe ser > 0"
     ]
    }
   ],
   "source": [
    "suscribir_poliza(\"heber\", 0)"
   ]
  }
 ],
 "metadata": {
  "kernelspec": {
   "display_name": "Python 3 (ipykernel)",
   "language": "python",
   "name": "python3"
  },
  "language_info": {
   "codemirror_mode": {
    "name": "ipython",
    "version": 3
   },
   "file_extension": ".py",
   "mimetype": "text/x-python",
   "name": "python",
   "nbconvert_exporter": "python",
   "pygments_lexer": "ipython3",
   "version": "3.11.6"
  }
 },
 "nbformat": 4,
 "nbformat_minor": 5
}
