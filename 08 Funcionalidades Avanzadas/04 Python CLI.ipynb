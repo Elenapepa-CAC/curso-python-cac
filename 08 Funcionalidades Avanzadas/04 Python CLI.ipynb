{
 "cells": [
  {
   "cell_type": "markdown",
   "id": "e464cdbf",
   "metadata": {},
   "source": [
    "# Python CLI\n",
    "\n",
    "Los objetivos de aprendizaje son:\n",
    "\n",
    "1. Qué es una CLI\n",
    "    - Estructura\n",
    "2. CLIs Básicas con Python\n",
    "    - sys.argv\n",
    "    - argparse\n",
    "    - Añadir Argumentos y Opciones\n",
    " \n",
    "    \n",
    "## ¿Qué es una CLI?\n",
    "\n",
    "Las interfaces de línea de comandos permiten interactuar **programaticamente** con una aplicación o programa a través de la línea de comandos, terminal o consola del sistema operativo.\n",
    "\n",
    "Por ejemplo, el comando `ls` (`dir` Windows) lista las carpetas y directorios de una ruta. Por defecto el el actual directorio."
   ]
  },
  {
   "cell_type": "code",
   "execution_count": 1,
   "id": "5d57c42b",
   "metadata": {},
   "outputs": [
    {
     "name": "stdout",
     "output_type": "stream",
     "text": [
      "\u001b[1m\u001b[36m__pycache__\u001b[m\u001b[m   test_utils.py utils.py\n"
     ]
    }
   ],
   "source": [
    "!ls version_2/"
   ]
  },
  {
   "cell_type": "markdown",
   "id": "3ec8134d",
   "metadata": {},
   "source": [
    "Supongamos que deseamos información más completa sobre su directorio y su contenido, el comando `ls` tiene una un conjunto útiles de opciones que podemos usar para personalizar el comportamiento del comando.\n",
    "\n",
    "Por ejemplo:"
   ]
  },
  {
   "cell_type": "code",
   "execution_count": 2,
   "id": "8c721b66",
   "metadata": {
    "scrolled": true
   },
   "outputs": [
    {
     "name": "stdout",
     "output_type": "stream",
     "text": [
      "total 16\n",
      "drwxr-xr-x  4 heber.trujillo  staff  128 Jan 14 18:10 \u001b[1m\u001b[36m__pycache__\u001b[m\u001b[m\n",
      "-rw-r--r--@ 1 heber.trujillo  staff  407 Jan 13 11:43 test_utils.py\n",
      "-rw-r--r--@ 1 heber.trujillo  staff  164 Jan 13 11:43 utils.py\n"
     ]
    }
   ],
   "source": [
    "!ls -l version_2/"
   ]
  },
  {
   "cell_type": "markdown",
   "id": "14924de7",
   "metadata": {},
   "source": [
    "La salida de `ls` muestra mucha más información sobre los archivos e.g. permisos, el propietario, el grupo, la fecha y el tamaño. También muestra el espacio total que utilizan estos archivos en el disco.\n",
    "\n",
    "Este cabio resulta del uso de la opción -l\n",
    "\n",
    "### Estructura\n",
    "\n",
    "Un comando puede tener los siguientes elementos:\n",
    "\n",
    "- **Comando**: Un programa que se ejecuta en la línea de comando. Por lo general, se identifica con el nombre del programa o rutina subyacente, e.g. `poetry`.\n",
    "<br>\n",
    "\n",
    "- **Argumento**: Pieza de información obligatoria u opcional que utiliza un comando para realizar una acción prevista. Los comandos suelen aceptar uno o varios argumentos, que puede proporcionar como una lista separada por espacios en blanco o por comas en la línea de comandos.\n",
    "<br>\n",
    "\n",
    "- **Opciones**: Un argumento opcional que modifica el comportamiento de un comando. Las opciones se pasan a los comandos usando un nombre específico, como `-l` en el ejemplo anterior.\n",
    "<br>\n",
    "\n",
    "- **Parámetro**: Un argumento que utiliza una opción para realizar la operación o acción prevista.\n",
    "<br>\n",
    "\n",
    "- **Subcomando**: Un nombre predefinido que se puede pasar a una aplicación para ejecutar una acción específica.\n",
    "\n",
    "\n",
    "Por ejemplo:\n",
    "\n",
    "```shell\n",
    "poetry new cac-poetry --name cac_con_poetry\n",
    "```\n",
    "\n",
    "- poetry: Comando\n",
    "- new: Subcomando\n",
    "- cac-poetry: Argumento\n",
    "- --name: Opción\n",
    "- cac_con_poetry: Parámetro\n",
    "\n",
    "\n",
    "## CLIs Básicas con Python\n",
    "\n",
    "Python viene con un par de herramientas que podemos usar para escribir CLIs para nuestros scripts o aplicaciones. \n",
    "\n",
    "### `sys.argv`\n",
    "\n",
    "El  atributo `argv` del módulo `sys` almacena dentro de una lista los argumentos que pasa a un programa en la línea de comandos. El primer item de `argv` es el nombre del programa.\n",
    "\n",
    "Supongamos que queremos escribir un programa para enumerar todos los archivos en un directorio determinado, similar a lo que hace `ls`."
   ]
  },
  {
   "cell_type": "markdown",
   "id": "fcdf989e",
   "metadata": {},
   "source": [
    "\n",
    "```python\n",
    "# ls_argv.py \n",
    "\n",
    "import sys\n",
    "from pathlib import Path\n",
    "\n",
    "print(sys.argv)\n",
    "\n",
    "if (args_count := len(sys.argv)) > 2:\n",
    "    print(f\"Se esperaba un argumento, no {args_count - 1}\")\n",
    "    raise SystemExit(2)\n",
    "elif args_count < 2:\n",
    "    print(\"Se debe indicar el directorio\")\n",
    "    raise SystemExit(2)\n",
    "\n",
    "target_dir: Path = Path(sys.argv[1])\n",
    "\n",
    "if not target_dir.is_dir():\n",
    "    print(f\"El directorio {sys.argv[1]} no existe\")\n",
    "    raise SystemExit(1)\n",
    "\n",
    "for entry in target_dir.iterdir():\n",
    "    print(entry.name)\n",
    "```"
   ]
  },
  {
   "cell_type": "code",
   "execution_count": 7,
   "id": "55d26934-06c0-4b03-a8a4-9f6cfe3c2a26",
   "metadata": {},
   "outputs": [
    {
     "name": "stdout",
     "output_type": "stream",
     "text": [
      "El contenido de argv es: ['ls_argv.py', 'version_2']\n",
      "test_utils.py\n",
      ".pytest_cache\n",
      "__pycache__\n",
      "utils.py\n"
     ]
    }
   ],
   "source": [
    "!python ls_argv.py version_2"
   ]
  },
  {
   "cell_type": "markdown",
   "id": "ae76be92",
   "metadata": {},
   "source": [
    "> **Nota**: Se trata del [operador walrus](https://docs.python.org/3/reference/expressions.html#assignment-expressions) `:=` asigna un valor a una variable lo evalúa como expresión booleana.\n",
    "\n",
    "Para ejecutar el escript usamos el siguiente comando:\n",
    "``` shell\n",
    "python ls_argv.py version_2\n",
    "```\n",
    "\n",
    "Aunque el programa funciona, analizar los argumentos de la línea de comandos manualmente usando el atributo `sys.argv` no es una solución escalable para aplicaciones CLI más complejas.\n",
    "\n",
    "\n",
    "## `argparse`\n",
    "\n",
    "Una forma mucho más conveniente de crear aplicaciones CLI es usar el módulo `argparse`, que viene en la biblioteca estándar.\n",
    "\n",
    "Este módulo se lanzó por primera vez en Python 3.2 con PEP 389 y es una forma rápida de crear aplicaciones sin instalar paquetes de terceros, como [Typer](https://typer.tiangolo.com/) o [Click](https://click.palletsprojects.com/en/8.1.x/).\n",
    "\n",
    "\n",
    "Para usar `argparse` se deben seguir los siguientes pasos:\n",
    "\n",
    "1. Importar `argparse`.\n",
    "<br>\n",
    "\n",
    "2. Crear una instancia de la clase `ArgumentParser`.\n",
    "<br>\n",
    "\n",
    "3. Añadir argumentos y opciones a la instancia de `ArgumentParser` usando el método `.add_argument()`.\n",
    "<br>\n",
    "\n",
    "4. LLamar al método `.parse_args()` para obtener los argumentos en forma de un objeto `Namespace`.\n",
    "\n",
    "Por ejemplo:"
   ]
  },
  {
   "cell_type": "markdown",
   "id": "83570781",
   "metadata": {},
   "source": [
    "```python \n",
    "# ls_argparse.py\n",
    "\n",
    "import argparse\n",
    "from pathlib import Path\n",
    "\n",
    "parser = argparse.ArgumentParser()\n",
    "\n",
    "parser.add_argument(\"path\")\n",
    "\n",
    "args = parser.parse_args()\n",
    "\n",
    "target_dir = Path(args.path)\n",
    "\n",
    "if not target_dir.exists():\n",
    "    print(f\"El directorio {sys.argv[1]} no existe\")\n",
    "    raise SystemExit(1)\n",
    "\n",
    "for entry in target_dir.iterdir():\n",
    "    print(entry.name)\n",
    "```"
   ]
  },
  {
   "cell_type": "markdown",
   "id": "3dc0edd0",
   "metadata": {
    "jp-MarkdownHeadingCollapsed": true
   },
   "source": [
    "El código ha cambiado significativamente. La diferencia más notable con la versión anterior es que los *conditional statements* para verificar los argumentos proporcionados por el usuario ya no están porque `argparse` verifica automáticamente la presencia de argumentos.\n",
    "\n",
    "````\n",
    "python ls_argparse.py version_2 \n",
    "````\n",
    "\n",
    "\n",
    "Si ejecutamos el siguiente comando:\n",
    "\n",
    "```\n",
    "python ls_argparse.py\n",
    "```\n",
    "\n",
    "Veremos una nueva característica, ahora nuestro programa acepta una opción -h opcional. Si ejecutamos:\n",
    "\n",
    "````\n",
    "python ls_argparse.py -h\n",
    "````\n",
    "\n",
    "Veremos un mensaje de ayuda con instrucciones de uso. \n",
    "\n",
    "\n",
    "El módulo `argparse` reconoce dos tipos diferentes de argumentos de línea de comandos:\n",
    "\n",
    "- **Argumentos posicionales**: Que definimos como como argumentos previamente.\n",
    "<br>\n",
    "\n",
    "- **Argumentos opcionales**: Que definimos como opciones, a.k.a. flags o switches.\n",
    "\n",
    "\n",
    "En `ls_argparse.py` `path` es un argumento posicional.\n",
    "\n",
    "### Añadir Argumentos y Opciones\n",
    "\n",
    "El método `.add_argument()` de la clase `ArgumentParser` se puede usar para añadir ambos. \n",
    "\n",
    "El primer Argumento del método [`.add_argument()`](https://docs.python.org/3/library/argparse.html#argparse.ArgumentParser.add_argument) establece la diferencia entre argumentos y opciones. \n",
    "\n",
    "Cuando se llama a `parse_args()`, los argumentos opcionales se identificarán con el prefijo `-` o `--`.\n",
    "\n",
    "Veamos un ejemplo\n",
    "\n",
    "``` python\n",
    "\n",
    "# ls_argparse_2.py\n",
    "\n",
    "import argparse\n",
    "import datetime\n",
    "from pathlib import Path, PosixPath\n",
    "\n",
    "parser = argparse.ArgumentParser()\n",
    "\n",
    "parser.add_argument(\"path\")\n",
    "\n",
    "parser.add_argument(\"-l\", \"--long\", action=\"store_true\")\n",
    "\n",
    "args = parser.parse_args()\n",
    "\n",
    "target_dir = Path(args.path)\n",
    "\n",
    "if not target_dir.exists():\n",
    "    print(f\"El directorio {sys.argv[1]} no existe\")\n",
    "    raise SystemExit(1)\n",
    "\n",
    "def build_output(entry: PosixPath, long: bool = False):\n",
    "    if long:\n",
    "        size = entry.stat().st_size\n",
    "        date = datetime.datetime.fromtimestamp(\n",
    "            entry.stat().st_mtime).strftime(\n",
    "            \"%b %d %H:%M:%S\"\n",
    "        )\n",
    "        return f\"{size:>6d} {date} {entry.name}\"\n",
    "    return entry.name\n",
    "\n",
    "for entry in target_dir.iterdir():\n",
    "    print(build_output(entry, long=args.long))\n",
    "```"
   ]
  },
  {
   "cell_type": "markdown",
   "id": "9a959d5f",
   "metadata": {},
   "source": [
    "Ejecutemos el comando:\n",
    "\n",
    "````\n",
    "python ls_argparse_2.py version_2 -l\n",
    "````\n",
    "\n",
    "Para el argumento opcional `-l` hemos establecido la acción `\"store_true\"`, significa que esta opción almacenará un valor booleano `True` si proporciona la opción en la línea de comando y `False` en caso contrario.\n",
    "\n",
    "\n",
    "### Parsing Command-Line.\n",
    "\n",
    "En este contexto `Parsing` hace referencia a analizar y almacenar los argumentos y opciones dentro de un `Namespace`, en el ejemplo anterior lo llamamos `args`.\n",
    "\n",
    "```` python\n",
    "args = parser.parse_args()\n",
    "````\n",
    "\n",
    "El método `.parse_args()` convierte las strings dentro de la lista de argumentos en objetos y y los asigna a atributos del `Namespace`:"
   ]
  },
  {
   "cell_type": "code",
   "execution_count": 8,
   "id": "855fe9fb",
   "metadata": {},
   "outputs": [
    {
     "data": {
      "text/plain": [
       "_StoreAction(option_strings=['-c', '--cobertura'], dest='cobertura', nargs=None, const=None, default='RC', type=<class 'str'>, choices=None, required=False, help=None, metavar=None)"
      ]
     },
     "execution_count": 8,
     "metadata": {},
     "output_type": "execute_result"
    }
   ],
   "source": [
    "from argparse import ArgumentParser\n",
    "parser = ArgumentParser()\n",
    "parser.add_argument(\"asegurado\")\n",
    "parser.add_argument(\"-v\", \"--vigente\", action=\"store_true\")\n",
    "parser.add_argument(\"-c\", \"--cobertura\", type=str, action=\"store\", default=\"RC\")"
   ]
  },
  {
   "cell_type": "code",
   "execution_count": 9,
   "id": "9a02e454",
   "metadata": {},
   "outputs": [
    {
     "data": {
      "text/plain": [
       "Namespace(asegurado='heber', vigente=False, cobertura='RC')"
      ]
     },
     "execution_count": 9,
     "metadata": {},
     "output_type": "execute_result"
    }
   ],
   "source": [
    "args = parser.parse_args(args=[\"heber\"])\n",
    "args"
   ]
  },
  {
   "cell_type": "code",
   "execution_count": 10,
   "id": "92c9d3f0",
   "metadata": {},
   "outputs": [
    {
     "data": {
      "text/plain": [
       "Namespace(asegurado='heber', vigente=True, cobertura='RC')"
      ]
     },
     "execution_count": 10,
     "metadata": {},
     "output_type": "execute_result"
    }
   ],
   "source": [
    "args = parser.parse_args(args=[\"heber\", \"-v\"])\n",
    "args"
   ]
  },
  {
   "cell_type": "code",
   "execution_count": 11,
   "id": "4b2ee276",
   "metadata": {},
   "outputs": [
    {
     "data": {
      "text/plain": [
       "__main__.Parametros"
      ]
     },
     "execution_count": 11,
     "metadata": {},
     "output_type": "execute_result"
    }
   ],
   "source": [
    "from dataclasses import dataclass\n",
    "\n",
    "@dataclass\n",
    "class Parametros:\n",
    "    asegurado: str\n",
    "    vigente: bool\n",
    "    cobertura: str\n",
    "\n",
    "args = parser.parse_args(args=[\"heber\", \"-v\"], namespace=Parametros)\n",
    "args"
   ]
  },
  {
   "cell_type": "code",
   "execution_count": 12,
   "id": "d1140881",
   "metadata": {},
   "outputs": [
    {
     "data": {
      "text/plain": [
       "'heber'"
      ]
     },
     "execution_count": 12,
     "metadata": {},
     "output_type": "execute_result"
    }
   ],
   "source": [
    "args.asegurado"
   ]
  }
 ],
 "metadata": {
  "kernelspec": {
   "display_name": "Python 3 (ipykernel)",
   "language": "python",
   "name": "python3"
  },
  "language_info": {
   "codemirror_mode": {
    "name": "ipython",
    "version": 3
   },
   "file_extension": ".py",
   "mimetype": "text/x-python",
   "name": "python",
   "nbconvert_exporter": "python",
   "pygments_lexer": "ipython3",
   "version": "3.11.6"
  }
 },
 "nbformat": 4,
 "nbformat_minor": 5
}
