{
 "cells": [
  {
   "cell_type": "markdown",
   "id": "f3a62871",
   "metadata": {},
   "source": [
    "# Git y Github\n",
    "\n",
    "Los objetivos de aprendizaje son:\n",
    "\n",
    "1. ¿Qué es Git?\n",
    "    - Control de versiones\n",
    "    - Control de versiones distribuido\n",
    "2. Uso básico\n",
    "    - Crear un nuevo repo\n",
    "    - Añadir Archivos\n",
    "    - Commit\n",
    "3. Staging\n",
    "4. .gitignore\n",
    "5. ¿Qué no añadir a un repo?\n",
    "6. SHA\n",
    "7. Git Log\n",
    "8. Regresar en el tiempo\n",
    "9. Branchs\n",
    "    - Merging\n",
    "    - Rebase\n",
    "    - Cherry-Picking\n",
    "10. Repositorios Remotos\n",
    "    - Clone\n",
    "    - Fetch\n",
    "    - Pull\n",
    "    - Push \n",
    "    - PRs\n",
    "    \n",
    "## ¿Qué es Git?\n",
    "\n",
    "¿Alguna vez has trabajado en un proyecto que dejó de funcionar después de realizar un cambio? y ¿después de hacer el cambio no estabas muy segur@ de cómo recuperarlo? **Git puede ser la solución**\n",
    "\n",
    "\n",
    "Git es un sistema de control de versiones distribuido (DVCS), es decir:\n",
    "\n",
    "\n",
    "- **Sistema de control de versiones**: Es un conjunto de herramientas que rastrean el historial de cambios de un conjunto de archivos, a.k.a. Repositorio. Git también permite comparar archivos entre diferentes versiones (commits), así como recuperar un archivo (o todos los archivos) de cualquier versión dentro del historial del repositorio.\n",
    "\n",
    "\n",
    "- **Distribuido**: Git no tiene un servidor central con la versión definitiva del repositorio. Todos los usuarios tienen una copia completa del repositorio.\n",
    "\n",
    "## Uso básico\n",
    "\n",
    "Comenzaremos trabajando con Git en local. Una vez que lo dominemos, agregaremos GitHub.\n",
    "\n",
    "\n",
    "### Crear un nuevo Repo\n",
    "\n",
    "Primero configuraremos nuestro nombre de usuario, recomiendo usar el mismo nombre de usuario que en GitHub.\n",
    "\n",
    "``` shell\n",
    "!git config --global user.name \"nombre de usuario\"\n",
    "```\n"
   ]
  },
  {
   "cell_type": "code",
   "execution_count": 1,
   "id": "ccfda1fb",
   "metadata": {},
   "outputs": [
    {
     "name": "stdout",
     "output_type": "stream",
     "text": [
      "heber.trujillo\n"
     ]
    }
   ],
   "source": [
    "!git config --global user.name "
   ]
  },
  {
   "cell_type": "markdown",
   "id": "289b0db4",
   "metadata": {},
   "source": [
    "Primero necesitaremos un repositorio para trabajar. Para ello crearemos un nuevo proyecto con poetry"
   ]
  },
  {
   "cell_type": "code",
   "execution_count": 2,
   "id": "84697a22",
   "metadata": {},
   "outputs": [
    {
     "name": "stdout",
     "output_type": "stream",
     "text": [
      "Created package \u001b[34mgit_test\u001b[39m in \u001b[34mgit-test\u001b[39m\n"
     ]
    }
   ],
   "source": [
    "!poetry new git-test"
   ]
  },
  {
   "cell_type": "markdown",
   "id": "4d00a41a",
   "metadata": {},
   "source": [
    "Ahora cambiaremos al directorio del repositorio dentro del kernel para poder ejecutar los comandos desde acá."
   ]
  },
  {
   "cell_type": "code",
   "execution_count": 3,
   "id": "6b96712c",
   "metadata": {},
   "outputs": [],
   "source": [
    "import os \n",
    "os.chdir(\"./git-test\")"
   ]
  },
  {
   "cell_type": "markdown",
   "id": "13c1d4ec",
   "metadata": {},
   "source": [
    "Verificamos:"
   ]
  },
  {
   "cell_type": "code",
   "execution_count": 4,
   "id": "5d6f6313",
   "metadata": {},
   "outputs": [
    {
     "name": "stdout",
     "output_type": "stream",
     "text": [
      "README.md      \u001b[1m\u001b[36mgit_test\u001b[m\u001b[m       pyproject.toml \u001b[1m\u001b[36mtests\u001b[m\u001b[m\n"
     ]
    }
   ],
   "source": [
    "!ls"
   ]
  },
  {
   "cell_type": "markdown",
   "id": "ea7c008c",
   "metadata": {},
   "source": [
    "Para inicializar git ejecutaremos el siguiente comando:"
   ]
  },
  {
   "cell_type": "code",
   "execution_count": 5,
   "id": "18ab0485",
   "metadata": {},
   "outputs": [
    {
     "name": "stdout",
     "output_type": "stream",
     "text": [
      "Initialized empty Git repository in /Users/heber.trujillo/projects/curso-python-cac/09 Git y Github/git-test/.git/\n"
     ]
    }
   ],
   "source": [
    "!git init"
   ]
  },
  {
   "cell_type": "markdown",
   "id": "cf4da46b",
   "metadata": {},
   "source": [
    "Con el repositorio inicializado podemos usar el comando `git status` para ver el estatus de nuestro repo."
   ]
  },
  {
   "cell_type": "code",
   "execution_count": 6,
   "id": "d0eca7ee",
   "metadata": {},
   "outputs": [
    {
     "name": "stdout",
     "output_type": "stream",
     "text": [
      "On branch main\n",
      "\n",
      "No commits yet\n",
      "\n",
      "Untracked files:\n",
      "  (use \"git add <file>...\" to include in what will be committed)\n",
      "\t\u001b[31mREADME.md\u001b[m\n",
      "\t\u001b[31mgit_test/\u001b[m\n",
      "\t\u001b[31mpyproject.toml\u001b[m\n",
      "\t\u001b[31mtests/\u001b[m\n",
      "\n",
      "nothing added to commit but untracked files present (use \"git add\" to track)\n"
     ]
    }
   ],
   "source": [
    "!git status"
   ]
  },
  {
   "cell_type": "markdown",
   "id": "54095208",
   "metadata": {},
   "source": [
    "Esto muestra:\n",
    "\n",
    "- **On branch main**: En qué rama estamos `main` (hablaremos de las ramas más adelante)\n",
    "<br>\n",
    "\n",
    "- **No commits yet**: Significa que todavía no hay cambios versus la última versión registrada del repo.\n",
    "<br>\n",
    "\n",
    "- **Untracked files**: Una lista de los archivos que no son parte del repositorio y que no están bajo control de versión.\n",
    "<br>\n",
    "\n",
    "- **nothing added to commit but untracked files present (use \"git add\" to track)**: Sin diferencias con la última versión registrada, pero sí identifica archivos que no están siendo rastreados por el control de versiones.\n",
    "\n",
    "### Añadir Archivos\n",
    "\n",
    "Podemos añadir los archivos no rastreados al sistema de control de versiones usando el siguiente comando:"
   ]
  },
  {
   "cell_type": "code",
   "execution_count": 7,
   "id": "c905a0ed",
   "metadata": {},
   "outputs": [],
   "source": [
    "!git add README.md"
   ]
  },
  {
   "cell_type": "markdown",
   "id": "5dc91f9a",
   "metadata": {},
   "source": [
    "Veamos el estatus"
   ]
  },
  {
   "cell_type": "code",
   "execution_count": 8,
   "id": "4b37773f",
   "metadata": {},
   "outputs": [
    {
     "name": "stdout",
     "output_type": "stream",
     "text": [
      "On branch main\n",
      "\n",
      "No commits yet\n",
      "\n",
      "Changes to be committed:\n",
      "  (use \"git rm --cached <file>...\" to unstage)\n",
      "\t\u001b[32mnew file:   README.md\u001b[m\n",
      "\n",
      "Untracked files:\n",
      "  (use \"git add <file>...\" to include in what will be committed)\n",
      "\t\u001b[31mgit_test/\u001b[m\n",
      "\t\u001b[31mpyproject.toml\u001b[m\n",
      "\t\u001b[31mtests/\u001b[m\n",
      "\n"
     ]
    }
   ],
   "source": [
    "!git status"
   ]
  },
  {
   "cell_type": "markdown",
   "id": "b8b5c789",
   "metadata": {},
   "source": [
    "**Changes to be committed**: Indica que el estado actual de la rama `main` tiene una diferencia vs la última versión registrada.\n",
    "\n",
    "Podemos añadir el resto de archivos usando el siguiente comando:"
   ]
  },
  {
   "cell_type": "code",
   "execution_count": 9,
   "id": "bebdad6c",
   "metadata": {},
   "outputs": [],
   "source": [
    "!git add ."
   ]
  },
  {
   "cell_type": "code",
   "execution_count": 10,
   "id": "fe3629bd",
   "metadata": {},
   "outputs": [
    {
     "name": "stdout",
     "output_type": "stream",
     "text": [
      "On branch main\n",
      "\n",
      "No commits yet\n",
      "\n",
      "Changes to be committed:\n",
      "  (use \"git rm --cached <file>...\" to unstage)\n",
      "\t\u001b[32mnew file:   README.md\u001b[m\n",
      "\t\u001b[32mnew file:   git_test/__init__.py\u001b[m\n",
      "\t\u001b[32mnew file:   pyproject.toml\u001b[m\n",
      "\t\u001b[32mnew file:   tests/__init__.py\u001b[m\n",
      "\n"
     ]
    }
   ],
   "source": [
    "!git status"
   ]
  },
  {
   "cell_type": "markdown",
   "id": "b151a433",
   "metadata": {},
   "source": [
    "### Commit\n",
    "\n",
    "Cuando hacemos *commit* de los cambios le estamos diciendo a Git que haga una \"fotografía\" del estado actual del repo y que confirme todos los cambios propuestos como válidos para esta siguiente versión.\n",
    "\n",
    "Para hacer *commit* debemos ejecutar el siguiente comando:"
   ]
  },
  {
   "cell_type": "code",
   "execution_count": 11,
   "id": "0af53e36",
   "metadata": {},
   "outputs": [
    {
     "name": "stdout",
     "output_type": "stream",
     "text": [
      "[main (root-commit) 0bf8006] Inicializando proyecto.\n",
      " 4 files changed, 14 insertions(+)\n",
      " create mode 100644 README.md\n",
      " create mode 100644 git_test/__init__.py\n",
      " create mode 100644 pyproject.toml\n",
      " create mode 100644 tests/__init__.py\n"
     ]
    }
   ],
   "source": [
    "!git commit -m \"Inicializando proyecto.\""
   ]
  },
  {
   "cell_type": "markdown",
   "id": "1a06e56e",
   "metadata": {},
   "source": [
    "El comando *commit* regresa info de lo que acabamos de hacer, la mayoría no es tan útil. Lo más relevante es el SHA de la confirmación `(root-commit) <SHA>`, hablaremos de esto más adelante.\n",
    "\n",
    "\n",
    "Veamos el estatus:"
   ]
  },
  {
   "cell_type": "code",
   "execution_count": 12,
   "id": "3e8d04e1",
   "metadata": {},
   "outputs": [
    {
     "name": "stdout",
     "output_type": "stream",
     "text": [
      "On branch main\n",
      "nothing to commit, working tree clean\n"
     ]
    }
   ],
   "source": [
    "!git status"
   ]
  },
  {
   "cell_type": "markdown",
   "id": "4fe7c8bd",
   "metadata": {},
   "source": [
    "## Staging\n",
    "\n",
    "\n",
    "El área de `Staging` es en dónde Git realiza un seguimiento de los cambios que queremos que estén en el próxima *commit*.\n",
    "\n",
    "Cuando ejecutamos `git add README.rst` le dijimos a Git que queríamos mover el nuevo archivo `README.rst` al área de `staging`. El archivo pasó de la sección sin seguimiento a la sección *to-be-commited*.\n",
    "\n",
    "\n",
    ">**Nota**: En `Staging` se refleja el contenido exacto del archivo cuando ejecutamos `git add`, Si modificamos el archivo aquí, el archivo aparecerá tanto en `Staging` como en `unstaged`.\n",
    "\n",
    "Veamos qué significa esto, primero abriré el archivo `README.rst` y añadiré \"Hola\":"
   ]
  },
  {
   "cell_type": "code",
   "execution_count": 14,
   "id": "da35507d",
   "metadata": {},
   "outputs": [
    {
     "name": "stdout",
     "output_type": "stream",
     "text": [
      "On branch main\n",
      "Changes not staged for commit:\n",
      "  (use \"git add <file>...\" to update what will be committed)\n",
      "  (use \"git restore <file>...\" to discard changes in working directory)\n",
      "\t\u001b[31mmodified:   README.md\u001b[m\n",
      "\n",
      "no changes added to commit (use \"git add\" and/or \"git commit -a\")\n"
     ]
    }
   ],
   "source": [
    "!git status"
   ]
  },
  {
   "cell_type": "markdown",
   "id": "52d76d26",
   "metadata": {},
   "source": [
    "Git ha detectado cambios no registrados por el sistema de control de versiones (SCV) en el archivo."
   ]
  },
  {
   "cell_type": "code",
   "execution_count": 15,
   "id": "0827e149",
   "metadata": {},
   "outputs": [],
   "source": [
    "!git add README.md"
   ]
  },
  {
   "cell_type": "code",
   "execution_count": 16,
   "id": "b2df5b5f",
   "metadata": {},
   "outputs": [
    {
     "name": "stdout",
     "output_type": "stream",
     "text": [
      "On branch main\n",
      "Changes to be committed:\n",
      "  (use \"git restore --staged <file>...\" to unstage)\n",
      "\t\u001b[32mmodified:   README.md\u001b[m\n",
      "\n"
     ]
    }
   ],
   "source": [
    "!git status"
   ]
  },
  {
   "cell_type": "markdown",
   "id": "46c812e4",
   "metadata": {},
   "source": [
    "Hemos añadido los cambios, y de esta manera están listos para formar parte de la siguiente versión.\n",
    "\n",
    "Ahora modificaré el archivo `README.rst` añadiendo \"Hola Mundo.\":"
   ]
  },
  {
   "cell_type": "code",
   "execution_count": 17,
   "id": "7eeae396",
   "metadata": {},
   "outputs": [
    {
     "name": "stdout",
     "output_type": "stream",
     "text": [
      "On branch main\n",
      "Changes to be committed:\n",
      "  (use \"git restore --staged <file>...\" to unstage)\n",
      "\t\u001b[32mmodified:   README.md\u001b[m\n",
      "\n",
      "Changes not staged for commit:\n",
      "  (use \"git add <file>...\" to update what will be committed)\n",
      "  (use \"git restore <file>...\" to discard changes in working directory)\n",
      "\t\u001b[31mmodified:   README.md\u001b[m\n",
      "\n",
      "Untracked files:\n",
      "  (use \"git add <file>...\" to include in what will be committed)\n",
      "\t\u001b[31m.DS_Store\u001b[m\n",
      "\n"
     ]
    }
   ],
   "source": [
    "!git status"
   ]
  },
  {
   "cell_type": "markdown",
   "id": "0d394221",
   "metadata": {},
   "source": [
    "Con Git, en un punto dado (sin contar con todo el historial de versiones) pueden existir tres versiones de un mismo archivo: \n",
    "\n",
    "- **Changes not staged for commit**: La versión que estamos editando en nuestro disco duro.\n",
    "<br>\n",
    "\n",
    "- **Changes to be committed**: La versión que Git almacena en `Staging`, i.e. últimos cambios añadidos.\n",
    "<br>\n",
    "\n",
    "- **La última versión registada en el repo**: La versión generada después de usar `git commit`. \n",
    "\n",
    "Ahora añadiremos los últimos cambios y haremos commit."
   ]
  },
  {
   "cell_type": "code",
   "execution_count": 18,
   "id": "fd975ddb",
   "metadata": {},
   "outputs": [],
   "source": [
    "!git add ."
   ]
  },
  {
   "cell_type": "code",
   "execution_count": 19,
   "id": "b77dbe6f",
   "metadata": {},
   "outputs": [
    {
     "name": "stdout",
     "output_type": "stream",
     "text": [
      "[main c2bf7b5] feat: update README file.\n",
      " 2 files changed, 1 insertion(+)\n",
      " create mode 100644 .DS_Store\n"
     ]
    }
   ],
   "source": [
    "!git commit -m \"feat: update README file.\""
   ]
  },
  {
   "cell_type": "markdown",
   "id": "f1df88f9",
   "metadata": {},
   "source": [
    "Veremos que se ha generado un nuevo SHA, `master <nuevo SHA>`.\n",
    "\n",
    "## .gitignore\n",
    "\n",
    "A veces querremos que git no vea algunos archivos, e.g. un archivo con credenciales. Ahí es donde entra el archivo .gitignore.\n",
    "\n",
    "Crearemos un archivo `credenciales.py` en la práctica esto se hace mediante el uso de variables de entorno, y en desarrollo local suelen guardarse en un archivo llamado [`.env`](https://www.python-engineer.com/posts/dotenv-python/)"
   ]
  },
  {
   "cell_type": "code",
   "execution_count": 20,
   "id": "9e82f949",
   "metadata": {},
   "outputs": [],
   "source": [
    "!echo \"#credenciales\" > ./credenciales.py"
   ]
  },
  {
   "cell_type": "code",
   "execution_count": 21,
   "id": "820c822f",
   "metadata": {},
   "outputs": [
    {
     "name": "stdout",
     "output_type": "stream",
     "text": [
      "On branch main\n",
      "Changes not staged for commit:\n",
      "  (use \"git add <file>...\" to update what will be committed)\n",
      "  (use \"git restore <file>...\" to discard changes in working directory)\n",
      "\t\u001b[31mmodified:   .DS_Store\u001b[m\n",
      "\n",
      "Untracked files:\n",
      "  (use \"git add <file>...\" to include in what will be committed)\n",
      "\t\u001b[31mcredenciales.py\u001b[m\n",
      "\n",
      "no changes added to commit (use \"git add\" and/or \"git commit -a\")\n"
     ]
    }
   ],
   "source": [
    "!git status"
   ]
  },
  {
   "cell_type": "markdown",
   "id": "db1a9075",
   "metadata": {},
   "source": [
    "Para que se ignorar el archivo `credenciales.py` (y su contenido), agregaremos un archivo .gitignore a nuestro repositorio."
   ]
  },
  {
   "cell_type": "code",
   "execution_count": 22,
   "id": "c5006acd",
   "metadata": {},
   "outputs": [],
   "source": [
    "!echo \"credenciales.py\" > .gitignore"
   ]
  },
  {
   "cell_type": "code",
   "execution_count": 23,
   "id": "8e578b00",
   "metadata": {},
   "outputs": [
    {
     "name": "stdout",
     "output_type": "stream",
     "text": [
      "On branch main\n",
      "Changes not staged for commit:\n",
      "  (use \"git add <file>...\" to update what will be committed)\n",
      "  (use \"git restore <file>...\" to discard changes in working directory)\n",
      "\t\u001b[31mmodified:   .DS_Store\u001b[m\n",
      "\n",
      "Untracked files:\n",
      "  (use \"git add <file>...\" to include in what will be committed)\n",
      "\t\u001b[31m.gitignore\u001b[m\n",
      "\t\u001b[31m.ipynb_checkpoints/\u001b[m\n",
      "\n",
      "no changes added to commit (use \"git add\" and/or \"git commit -a\")\n"
     ]
    }
   ],
   "source": [
    "!git status"
   ]
  },
  {
   "cell_type": "markdown",
   "id": "1eaa2a83",
   "metadata": {},
   "source": [
    "Ahora ya no aparece el archivo `credenciales.py`, no obstante sí vemos el nuevo archivo `.gitignore`, que es un archivo que debemos añadir al SCV."
   ]
  },
  {
   "cell_type": "code",
   "execution_count": 24,
   "id": "f11b6781",
   "metadata": {},
   "outputs": [
    {
     "name": "stdout",
     "output_type": "stream",
     "text": [
      "[main 5bc71ac] feat: add gitignore file.\n",
      " 1 file changed, 1 insertion(+)\n",
      " create mode 100644 .gitignore\n"
     ]
    }
   ],
   "source": [
    "!git add .gitignore && git commit -m \"feat: add gitignore file.\""
   ]
  },
  {
   "cell_type": "code",
   "execution_count": 25,
   "id": "5c0c16d7",
   "metadata": {},
   "outputs": [
    {
     "name": "stdout",
     "output_type": "stream",
     "text": [
      "On branch main\n",
      "Changes not staged for commit:\n",
      "  (use \"git add <file>...\" to update what will be committed)\n",
      "  (use \"git restore <file>...\" to discard changes in working directory)\n",
      "\t\u001b[31mmodified:   .DS_Store\u001b[m\n",
      "\n",
      "no changes added to commit (use \"git add\" and/or \"git commit -a\")\n"
     ]
    }
   ],
   "source": [
    "!git status"
   ]
  },
  {
   "cell_type": "markdown",
   "id": "d44f6282",
   "metadata": {},
   "source": [
    "## ¿Qué no añadir a un repo?\n",
    "\n",
    "No debemos poner todos los archivos dentro del SCV, existen limitaciones, así como problemas de seguridad que debemos tener en consideración, una regla sencilla es:\n",
    "\n",
    "> Solo añadir source files, nunca los archivos generados.\n",
    "\n",
    "En este contexto, un source files es cualquier archivo que hagamos nosotros, generalmente escribiendo en un editor. Un archivo generado es algo que crea la computadora, generalmente al procesar un source files.\n",
    "\n",
    "al usar Git, y especialmente cuando trabajemos con GitHub, nunca debemos colocar información confidencial en un repositorio.\n",
    "\n",
    "## SHA\n",
    "\n",
    "Cuando Git almacena cosas (archivos, directorios, confirmaciones, etc.) en su repositorio, las almacena mediante el uso de una función hash. \n",
    "\n",
    "una función hash toma una cosa y produce un identificador único para esa cosa que es mucho más compacta (20 bytes, en nuestro caso). Este ID se llama \"SHA\" en Git.\n",
    "\n",
    "Git usa los SHAs para indexar todo en su repositorio. Cada archivo tiene un SHA que refleja el contenido de ese archivo. Cada directorio, a su vez, tiene SHA. Si un archivo en ese directorio cambia, el SHA del directorio también cambia.\n",
    "\n",
    "Cada *commit* contiene el SHA del directorio padre dentro de nuestro repo, junto con otra info, así es como un número de 20 bytes describe el etado completo de nuestro Repo.\n",
    "\n",
    "\n",
    "```` shell\n",
    "commit e12848ab4c8af3a310af30953dace79833f477eb \n",
    "````\n",
    "\n",
    "## Git Log\n",
    "\n",
    "Muestra el historial de *commits* realizados hasta este momento:"
   ]
  },
  {
   "cell_type": "code",
   "execution_count": 35,
   "id": "fd53657d",
   "metadata": {
    "scrolled": true
   },
   "outputs": [
    {
     "name": "stdout",
     "output_type": "stream",
     "text": [
      "\u001b[33mcommit ff77d16024c72be8542e746cb1ed0507d15ac688\u001b[m\u001b[33m (\u001b[m\u001b[1;36mHEAD -> \u001b[m\u001b[1;32mmain\u001b[m\u001b[33m)\u001b[m\n",
      "Author: heber.trujillo <heber.trujillo@qonto.com>\n",
      "Date:   Wed Jan 24 18:14:16 2024 +0100\n",
      "\n",
      "    delete .DS_Store\n",
      "\n",
      "\u001b[33mcommit 5bc71ac43c5a05b1801bf5cb6be2eb32127626bf\u001b[m\n",
      "Author: heber.trujillo <heber.trujillo@qonto.com>\n",
      "Date:   Tue Jan 23 19:44:05 2024 +0100\n",
      "\n",
      "    feat: add gitignore file.\n",
      "\n",
      "\u001b[33mcommit c2bf7b5a22ce0b0fa3c4aa0c6187f0a95cdafe2a\u001b[m\n",
      "Author: heber.trujillo <heber.trujillo@qonto.com>\n",
      "Date:   Tue Jan 23 19:31:01 2024 +0100\n",
      "\n",
      "    feat: update README file.\n",
      "\n",
      "\u001b[33mcommit 0bf80067fe232360fffb51a6cc348a0e731d45a5\u001b[m\n",
      "Author: heber.trujillo <heber.trujillo@qonto.com>\n",
      "Date:   Tue Jan 23 19:23:07 2024 +0100\n",
      "\n",
      "    Inicializando proyecto.\n"
     ]
    }
   ],
   "source": [
    "!git log"
   ]
  },
  {
   "cell_type": "markdown",
   "id": "eae2aa7e",
   "metadata": {},
   "source": [
    "## Regresar en el tiempo\n",
    "\n",
    "Debido a que Git recuerda cada *commit* realizado y su SHA, puedemos decirle a Git que vaya a cualquiera de esos *commits* para ver el repositorio tal como era en ese momento.\n",
    "\n",
    "Contenido actual del archivo README.rst:\n",
    "``` rst\n",
    "Hola Mundo.\n",
    "\n",
    "```\n",
    "\n",
    "\n",
    "Para regresar el estado original usaremos el commando:"
   ]
  },
  {
   "cell_type": "code",
   "execution_count": 36,
   "id": "cbf91fc8",
   "metadata": {},
   "outputs": [
    {
     "name": "stdout",
     "output_type": "stream",
     "text": [
      "Note: switching to '0bf80067fe232360fffb51a6cc348a0e731d45a5'.\n",
      "\n",
      "You are in 'detached HEAD' state. You can look around, make experimental\n",
      "changes and commit them, and you can discard any commits you make in this\n",
      "state without impacting any branches by switching back to a branch.\n",
      "\n",
      "If you want to create a new branch to retain commits you create, you may\n",
      "do so (now or later) by using -c with the switch command. Example:\n",
      "\n",
      "  git switch -c <new-branch-name>\n",
      "\n",
      "Or undo this operation with:\n",
      "\n",
      "  git switch -\n",
      "\n",
      "Turn off this advice by setting config variable advice.detachedHead to false\n",
      "\n",
      "HEAD is now at 0bf8006 Inicializando proyecto.\n"
     ]
    }
   ],
   "source": [
    "!git checkout 0bf80067fe232360fffb51a6cc348a0e731d45a5"
   ]
  },
  {
   "cell_type": "code",
   "execution_count": 37,
   "id": "b06009a1",
   "metadata": {},
   "outputs": [
    {
     "name": "stdout",
     "output_type": "stream",
     "text": [
      "\u001b[33mcommit 0bf80067fe232360fffb51a6cc348a0e731d45a5\u001b[m\u001b[33m (\u001b[m\u001b[1;36mHEAD\u001b[m\u001b[33m)\u001b[m\n",
      "Author: heber.trujillo <heber.trujillo@qonto.com>\n",
      "Date:   Tue Jan 23 19:23:07 2024 +0100\n",
      "\n",
      "    Inicializando proyecto.\n"
     ]
    }
   ],
   "source": [
    "!git log"
   ]
  },
  {
   "cell_type": "markdown",
   "id": "3b775712",
   "metadata": {},
   "source": [
    "Vamos a procesar la nueva terminología:\n",
    "\n",
    "- **HEAD**: Es el nombre de Git para cualquier SHA que estemos viendo al momento. **NO** significa lo que está en el sistema de archivos o lo que está en `Staging`. Entonces, si editamos un archivo, la versión en el sistema de archivos es diferente a la versión en HEAD.\n",
    "\n",
    "\n",
    "- **branch**: Es una \"etiqueta\" que le damos a un SHA. Tiene algunas otras propiedades que son útiles, pero por ahora, pensemos en una rama como una etiqueta de un SHA.\n",
    "\n",
    "\n",
    "Por tanto:\n",
    "\n",
    "- **detached HEAD**: Significa que nuestro HEAD apunta a un SHA que no tiene una rama ( etiqueta) asociada.\n",
    "\n",
    "\n",
    "Si miramos el directorio del repo veremos que el archivo .gitignore no está y que el archivo README.rst está vacío, justo el estado del primer *commit*.\n",
    "\n",
    "Bien. Ahora, ¿cómo volvemos a donde estábamos? Hay dos formas, una de las cuales es igual que hicmos antes para volver al primer *commit*.\n",
    "\n",
    "La otra es mediante un *checkout* a la rama (branch) master."
   ]
  },
  {
   "cell_type": "code",
   "execution_count": 39,
   "id": "aee89802",
   "metadata": {},
   "outputs": [
    {
     "name": "stdout",
     "output_type": "stream",
     "text": [
      "Previous HEAD position was 0bf8006 Inicializando proyecto.\n",
      "Switched to branch 'main'\n"
     ]
    }
   ],
   "source": [
    "!git checkout main"
   ]
  },
  {
   "cell_type": "markdown",
   "id": "2673d566",
   "metadata": {},
   "source": [
    "Esto nos devolverá al último *commit* SHA de la rama master, que en nuestro caso tiene el mensaje \"feat: add gitignore file.\"\n",
    "\n",
    "## Branchs\n",
    "\n",
    "Las ramas (*branchs*) brindan una manera de mantener separados los flujos de desarrollo. Si bien esto puede ser útil cuando trabajamos solo, es esencial cuando trabaja en equipo.\n",
    "\n",
    "Imaginemos que estamos trabajando en un equipo, y que estamos desarrollando una funcionalidad para agregar al proyecto. Mientras trabajamos en ello, no quierremos agregar los cambios a la rama principal `master`, ya que todavía no funcionan correctamente y podría estropear el código.\n",
    "\n",
    "\n",
    "Podríamos esperar para hacer *commit* de los cambios hasta terminar por completo, pero eso no es muy seguro y no siempre es práctico. Entonces, en lugar de trabajar sobre la rama `master`, crearemos una nueva rama:\n"
   ]
  },
  {
   "cell_type": "code",
   "execution_count": 40,
   "id": "c69ca367",
   "metadata": {},
   "outputs": [
    {
     "name": "stdout",
     "output_type": "stream",
     "text": [
      "Switched to a new branch 'feat/add-func'\n"
     ]
    }
   ],
   "source": [
    "!git checkout -b feat/add-func"
   ]
  },
  {
   "cell_type": "code",
   "execution_count": 42,
   "id": "efb4c4b1-090e-4106-ba0c-b78a8b859dfc",
   "metadata": {},
   "outputs": [
    {
     "name": "stdout",
     "output_type": "stream",
     "text": [
      "* \u001b[32mfeat/add-func\u001b[m\n",
      "  main\u001b[m\n"
     ]
    }
   ],
   "source": [
    "!git branch"
   ]
  },
  {
   "cell_type": "code",
   "execution_count": 41,
   "id": "2d09a949",
   "metadata": {},
   "outputs": [
    {
     "name": "stdout",
     "output_type": "stream",
     "text": [
      "On branch feat/add-func\n",
      "Untracked files:\n",
      "  (use \"git add <file>...\" to include in what will be committed)\n",
      "\t\u001b[31m.ipynb_checkpoints/\u001b[m\n",
      "\n",
      "nothing added to commit but untracked files present (use \"git add\" to track)\n"
     ]
    }
   ],
   "source": [
    "!git status"
   ]
  },
  {
   "cell_type": "markdown",
   "id": "3a6a7089",
   "metadata": {},
   "source": [
    "Usamos la opción `-b` del comando `checkout` para creara una nueva rama.\n",
    "\n",
    "Al ejecutar `git status` git muestra que el nombre de la rama ha cambiado. Veamos el log:"
   ]
  },
  {
   "cell_type": "code",
   "execution_count": 43,
   "id": "cc19e86a",
   "metadata": {
    "scrolled": true
   },
   "outputs": [
    {
     "name": "stdout",
     "output_type": "stream",
     "text": [
      "\u001b[33mcommit ff77d16024c72be8542e746cb1ed0507d15ac688\u001b[m\u001b[33m (\u001b[m\u001b[1;36mHEAD -> \u001b[m\u001b[1;32mfeat/add-func\u001b[m\u001b[33m, \u001b[m\u001b[1;32mmain\u001b[m\u001b[33m)\u001b[m\n",
      "Author: heber.trujillo <heber.trujillo@qonto.com>\n",
      "Date:   Wed Jan 24 18:14:16 2024 +0100\n",
      "\n",
      "    delete .DS_Store\n",
      "\n",
      "\u001b[33mcommit 5bc71ac43c5a05b1801bf5cb6be2eb32127626bf\u001b[m\n",
      "Author: heber.trujillo <heber.trujillo@qonto.com>\n",
      "Date:   Tue Jan 23 19:44:05 2024 +0100\n",
      "\n",
      "    feat: add gitignore file.\n",
      "\n",
      "\u001b[33mcommit c2bf7b5a22ce0b0fa3c4aa0c6187f0a95cdafe2a\u001b[m\n",
      "Author: heber.trujillo <heber.trujillo@qonto.com>\n",
      "Date:   Tue Jan 23 19:31:01 2024 +0100\n",
      "\n",
      "    feat: update README file.\n",
      "\n",
      "\u001b[33mcommit 0bf80067fe232360fffb51a6cc348a0e731d45a5\u001b[m\n",
      "Author: heber.trujillo <heber.trujillo@qonto.com>\n",
      "Date:   Tue Jan 23 19:23:07 2024 +0100\n",
      "\n",
      "    Inicializando proyecto.\n"
     ]
    }
   ],
   "source": [
    "!git log"
   ]
  },
  {
   "cell_type": "markdown",
   "id": "2c31e173",
   "metadata": {},
   "source": [
    "Cuando creamos una nueva rama, ésta comenzará desde la ubicación en la que estábamos. En este caso, estábamos en la parte superior de `master`.\n",
    "\n",
    "Ahora, crearemos una nueva feature:"
   ]
  },
  {
   "cell_type": "code",
   "execution_count": 44,
   "id": "0acd317a",
   "metadata": {},
   "outputs": [],
   "source": [
    "!echo \"'Neva feature python'\" > ./git_test/feature.py"
   ]
  },
  {
   "cell_type": "code",
   "execution_count": 50,
   "id": "37edf48d",
   "metadata": {},
   "outputs": [
    {
     "name": "stdout",
     "output_type": "stream",
     "text": [
      "On branch feat/add-func\n",
      "Changes to be committed:\n",
      "  (use \"git restore --staged <file>...\" to unstage)\n",
      "\t\u001b[32mmodified:   .gitignore\u001b[m\n",
      "\t\u001b[32mnew file:   git_test/feature.py\u001b[m\n",
      "\n"
     ]
    }
   ],
   "source": [
    "!git status"
   ]
  },
  {
   "cell_type": "code",
   "execution_count": 49,
   "id": "7dbf47ee",
   "metadata": {},
   "outputs": [],
   "source": [
    "!git add ."
   ]
  },
  {
   "cell_type": "code",
   "execution_count": 51,
   "id": "1e7d922b",
   "metadata": {},
   "outputs": [
    {
     "name": "stdout",
     "output_type": "stream",
     "text": [
      "[feat/add-func a450201] feat: new feature in python.\n",
      " 2 files changed, 2 insertions(+)\n",
      " create mode 100644 git_test/feature.py\n"
     ]
    }
   ],
   "source": [
    "!git commit -m \"feat: new feature in python.\""
   ]
  },
  {
   "cell_type": "markdown",
   "id": "034dbdb4",
   "metadata": {},
   "source": [
    "Si revisamos el log, veremos un nuevo commit:"
   ]
  },
  {
   "cell_type": "code",
   "execution_count": 52,
   "id": "ad4c018e",
   "metadata": {},
   "outputs": [
    {
     "name": "stdout",
     "output_type": "stream",
     "text": [
      "\u001b[33mcommit a45020172ba802f39a838c39d1d3c5f1890701ae\u001b[m\u001b[33m (\u001b[m\u001b[1;36mHEAD -> \u001b[m\u001b[1;32mfeat/add-func\u001b[m\u001b[33m)\u001b[m\n",
      "Author: heber.trujillo <heber.trujillo@qonto.com>\n",
      "Date:   Wed Jan 24 18:28:46 2024 +0100\n",
      "\n",
      "    feat: new feature in python.\n",
      "\n",
      "\u001b[33mcommit ff77d16024c72be8542e746cb1ed0507d15ac688\u001b[m\u001b[33m (\u001b[m\u001b[1;32mmain\u001b[m\u001b[33m)\u001b[m\n",
      "Author: heber.trujillo <heber.trujillo@qonto.com>\n",
      "Date:   Wed Jan 24 18:14:16 2024 +0100\n",
      "\n",
      "    delete .DS_Store\n",
      "\n",
      "\u001b[33mcommit 5bc71ac43c5a05b1801bf5cb6be2eb32127626bf\u001b[m\n",
      "Author: heber.trujillo <heber.trujillo@qonto.com>\n",
      "Date:   Tue Jan 23 19:44:05 2024 +0100\n",
      "\n",
      "    feat: add gitignore file.\n",
      "\n",
      "\u001b[33mcommit c2bf7b5a22ce0b0fa3c4aa0c6187f0a95cdafe2a\u001b[m\n",
      "Author: heber.trujillo <heber.trujillo@qonto.com>\n",
      "Date:   Tue Jan 23 19:31:01 2024 +0100\n",
      "\n",
      "    feat: update README file.\n",
      "\n",
      "\u001b[33mcommit 0bf80067fe232360fffb51a6cc348a0e731d45a5\u001b[m\n",
      "Author: heber.trujillo <heber.trujillo@qonto.com>\n",
      "Date:   Tue Jan 23 19:23:07 2024 +0100\n",
      "\n",
      "    Inicializando proyecto.\n"
     ]
    }
   ],
   "source": [
    "!git log"
   ]
  },
  {
   "cell_type": "markdown",
   "id": "ac5ef730",
   "metadata": {},
   "source": [
    "Regresemos a `master` y miremos los logs:"
   ]
  },
  {
   "cell_type": "code",
   "execution_count": 54,
   "id": "f8bf7fa9",
   "metadata": {},
   "outputs": [
    {
     "name": "stdout",
     "output_type": "stream",
     "text": [
      "Switched to branch 'main'\n",
      "\u001b[33mcommit ff77d16024c72be8542e746cb1ed0507d15ac688\u001b[m\u001b[33m (\u001b[m\u001b[1;36mHEAD -> \u001b[m\u001b[1;32mmain\u001b[m\u001b[33m)\u001b[m\n",
      "Author: heber.trujillo <heber.trujillo@qonto.com>\n",
      "Date:   Wed Jan 24 18:14:16 2024 +0100\n",
      "\n",
      "    delete .DS_Store\n",
      "\n",
      "\u001b[33mcommit 5bc71ac43c5a05b1801bf5cb6be2eb32127626bf\u001b[m\n",
      "Author: heber.trujillo <heber.trujillo@qonto.com>\n",
      "Date:   Tue Jan 23 19:44:05 2024 +0100\n",
      "\n",
      "    feat: add gitignore file.\n",
      "\n",
      "\u001b[33mcommit c2bf7b5a22ce0b0fa3c4aa0c6187f0a95cdafe2a\u001b[m\n",
      "Author: heber.trujillo <heber.trujillo@qonto.com>\n",
      "Date:   Tue Jan 23 19:31:01 2024 +0100\n",
      "\n",
      "    feat: update README file.\n",
      "\n",
      "\u001b[33mcommit 0bf80067fe232360fffb51a6cc348a0e731d45a5\u001b[m\n",
      "Author: heber.trujillo <heber.trujillo@qonto.com>\n",
      "Date:   Tue Jan 23 19:23:07 2024 +0100\n",
      "\n",
      "    Inicializando proyecto.\n"
     ]
    }
   ],
   "source": [
    "!git checkout main && git log"
   ]
  },
  {
   "cell_type": "markdown",
   "id": "c4fd3ef2",
   "metadata": {},
   "source": [
    "El nuevo commit no está acá.\n",
    "\n",
    "Git tiene una forma integrada de comparar el estado de dos ramas:"
   ]
  },
  {
   "cell_type": "code",
   "execution_count": 57,
   "id": "272676d6",
   "metadata": {},
   "outputs": [
    {
     "name": "stdout",
     "output_type": "stream",
     "text": [
      "\u001b[31m!\u001b[m [feat/add-func] feat: new feature in python.\n",
      " \u001b[32m*\u001b[m [main] delete .DS_Store\n",
      "--\n",
      "\u001b[31m+\u001b[m  [feat/add-func] feat: new feature in python.\n",
      "\u001b[31m+\u001b[m\u001b[32m*\u001b[m [main] delete .DS_Store\n"
     ]
    }
   ],
   "source": [
    "!git show-branch feat/add-func main"
   ]
  },
  {
   "cell_type": "markdown",
   "id": "4df03a62",
   "metadata": {},
   "source": [
    "La info que se muestra es un poco confusa al principio. \n",
    "\n",
    "- **Dos primeras lineas**: El primer carácter que no es un espacio en cada línea es `*` o `!` seguido del nombre de la rama y luego el *commit message* más reciente de cada rama.\n",
    "    - `*` se usa para indicar en qué rama estamos actualmente\n",
    "    - `!` se utiliza para todas las demás ramas. `!` está en la columna que coincide con los *commits* en la tabla inferior.\n",
    "\n",
    "La tercera línea es un separador.\n",
    "\n",
    "- **Desde la cuarta línea hasta la penúltima**: se listarán los *commits* si aparecen con el símbolo `+` significará que están en la rama actual, si aparecen con el símbolo `*` significará que no están en la rama actual pero sí en la que estamos comparando.\n",
    "\n",
    "\n",
    "- **Última línea**: Muestra el primer *commit* que comparten las dos ramas.\n",
    "\n",
    "Ahora que tenemos una rama la funcionalidad desarolladoa. ¿Cómo la compartimos con el resto del equipo?\n",
    "\n",
    "Hay tres formas principales de obtener de llevar los commits de una rama a otra:\n",
    "\n",
    "- merging\n",
    "- rebasing\n",
    "- cherry-picking\n",
    "\n",
    "\n",
    "### Merging\n",
    "\n",
    "Es la forma más simple. Cuando macemos `merge` de `feat/add_func` a `master`, Git creará una nuevo *commit* que cominará los SHA más nuevos de las dos ramas. Si todas los *commits* en la rama `feat/add_func` están por delante del *commit* más nuevo de la rama `master`, simplemente se hará un `fast-foward merge`, i.e. se colocarán los nuevos *commits* `feat/add_func` por delante de los *commits* de `master`.\n",
    "\n"
   ]
  },
  {
   "cell_type": "code",
   "execution_count": 58,
   "id": "d2050687",
   "metadata": {},
   "outputs": [
    {
     "name": "stdout",
     "output_type": "stream",
     "text": [
      "Already on 'main'\n"
     ]
    }
   ],
   "source": [
    "!git checkout main"
   ]
  },
  {
   "cell_type": "code",
   "execution_count": 60,
   "id": "e6ea0258",
   "metadata": {},
   "outputs": [
    {
     "name": "stdout",
     "output_type": "stream",
     "text": [
      "Updating ff77d16..a450201\n",
      "Fast-forward\n",
      " .gitignore          | 1 \u001b[32m+\u001b[m\n",
      " git_test/feature.py | 1 \u001b[32m+\u001b[m\n",
      " 2 files changed, 2 insertions(+)\n",
      " create mode 100644 git_test/feature.py\n"
     ]
    }
   ],
   "source": [
    "!git merge feat/add-func"
   ]
  },
  {
   "cell_type": "markdown",
   "id": "7af1e790",
   "metadata": {},
   "source": [
    "Si hubiéramos hecho cambios en `master` antes del `merge`, Git habría creado un nuevo *commit* que sería la combinación de los cambios de las dos ramas.\n",
    "\n",
    "Una de las cosas en las que Git es bastante bueno es en comprender los ancestros comunes de diferentes ramas y fusionar automáticamente los cambios.\n",
    "\n",
    "> **Nota**: Si la misma sección de código se ha modificado en ambas ramas, Git no puede averiguar qué hacer. Cuando esto sucede, detiene el `merge`. Esto se denomina `merge conflict`.\n",
    "\n",
    "\n",
    "### Rebasing\n",
    "\n",
    "Es similar al `merge`. En un `merge`, si ambas ramas tienen cambios, se crea un nuevo *commit* de `merge`. Al hacer `rebasing`, Git tomará los *commits* de la rama que integraremos y los reproducirá, uno a la vez, en la parte superior de la otra rama.\n",
    "\n",
    "\n",
    "### Cherry-Picking\n",
    "\n",
    "Es otro método para mover *commits* de una rama a otra. A diferencia del `merge` y `rebase`, con `cherry-picking` especificamos exactamente a qué *commits* queremos. La forma más fácil de hacer esto es simplemente especificando un solo SHA:\n",
    "\n",
    "```shell\n",
    "git cherry-pick c8290f21fc4bae610cc37734d48906828ffabac8\n",
    "```\n",
    "\n",
    "Esto le dice a Git que tome los cambios que se hicieron en c8290f21 y los aplique a la rama actual.\n",
    "\n",
    "Esta característica puede ser muy útil cuando queremos un cambio específico pero no toda la rama en la que se realizó el cambio.\n",
    "\n",
    "## Repositorios Remotos\n",
    "\n",
    "Todos los comandos que hemos discutido hasta este punto funcionan solo con su repositorio local. No se comunican con un servidor o a través de la red.\n",
    "\n",
    "Hay cuatro comandos principales de Git que pueden comunicarnos con repositorios remotos:\n",
    "\n",
    "- clone\n",
    "- fetch\n",
    "- pull\n",
    "- push\n",
    "\n",
    "\n",
    "### Clone \n",
    "\n",
    "Primero crearemos un repositorio en [GitHub](https://github.com/), después usaremos su URL para clonarlo en local."
   ]
  },
  {
   "cell_type": "code",
   "execution_count": 61,
   "id": "89a6cef7",
   "metadata": {},
   "outputs": [],
   "source": [
    "import os\n",
    "os.chdir(\"..\")\n",
    "os.chdir(\"..\")"
   ]
  },
  {
   "cell_type": "code",
   "execution_count": 62,
   "id": "65ad43fe",
   "metadata": {},
   "outputs": [
    {
     "name": "stdout",
     "output_type": "stream",
     "text": [
      "Cloning into 'test-repo-curso-2024'...\n",
      "remote: Enumerating objects: 5, done.\u001b[K\n",
      "remote: Counting objects: 100% (5/5), done.\u001b[K\n",
      "remote: Compressing objects: 100% (4/4), done.\u001b[K\n",
      "remote: Total 5 (delta 0), reused 0 (delta 0), pack-reused 0\u001b[K\n",
      "Receiving objects: 100% (5/5), done.\n"
     ]
    }
   ],
   "source": [
    "!git clone https://github.com/HeberTU/test-repo-curso-2024.git"
   ]
  },
  {
   "cell_type": "code",
   "execution_count": 63,
   "id": "abe97926",
   "metadata": {},
   "outputs": [
    {
     "name": "stdout",
     "output_type": "stream",
     "text": [
      "LICENSE   README.md\n"
     ]
    }
   ],
   "source": [
    "!cd test-repo-curso-2024 && ls"
   ]
  },
  {
   "cell_type": "code",
   "execution_count": 64,
   "id": "a36e328a",
   "metadata": {},
   "outputs": [],
   "source": [
    "os.chdir(\"./test-repo-curso-2024/\")"
   ]
  },
  {
   "cell_type": "code",
   "execution_count": 65,
   "id": "26f929a2-05f8-4441-bcef-a06c00aba92d",
   "metadata": {},
   "outputs": [
    {
     "name": "stdout",
     "output_type": "stream",
     "text": [
      "On branch main\n",
      "Your branch is up to date with 'origin/main'.\n",
      "\n",
      "nothing to commit, working tree clean\n"
     ]
    }
   ],
   "source": [
    "!git status"
   ]
  },
  {
   "cell_type": "markdown",
   "id": "896e4975",
   "metadata": {},
   "source": [
    "Ahora tenemos el repositorioc en local. Esto incluye todos los commits y todas las `branches`.\n",
    "\n",
    "### Push\n",
    "\n",
    "Envía la información sobre la rama que estamos trabajando y le pregunta al `remote` si le gustaría actualizar su versión de esa rama para que coincida con la nuestra.\n",
    "\n",
    "Antes de usar el comando `push`, actualziaremos el repo:"
   ]
  },
  {
   "cell_type": "code",
   "execution_count": 66,
   "id": "338ba661",
   "metadata": {},
   "outputs": [
    {
     "name": "stdout",
     "output_type": "stream",
     "text": [
      "Switched to a new branch 'feat/new-feat'\n"
     ]
    }
   ],
   "source": [
    "!git checkout -b feat/new-feat"
   ]
  },
  {
   "cell_type": "code",
   "execution_count": 67,
   "id": "d8282446",
   "metadata": {},
   "outputs": [],
   "source": [
    "!echo \"'Hola'\" > ./hola.py"
   ]
  },
  {
   "cell_type": "code",
   "execution_count": 68,
   "id": "ec181136",
   "metadata": {},
   "outputs": [],
   "source": [
    "!git add hola.py"
   ]
  },
  {
   "cell_type": "code",
   "execution_count": 69,
   "id": "56e631a2",
   "metadata": {},
   "outputs": [
    {
     "name": "stdout",
     "output_type": "stream",
     "text": [
      "[feat/new-feat 082b6a5] feat: add hola\n",
      " 1 file changed, 1 insertion(+)\n",
      " create mode 100644 hola.py\n"
     ]
    }
   ],
   "source": [
    "!git commit -m \"feat: add hola\""
   ]
  },
  {
   "cell_type": "code",
   "execution_count": 70,
   "id": "f5c2a194-166a-47ba-886a-939d41bec936",
   "metadata": {},
   "outputs": [
    {
     "name": "stdout",
     "output_type": "stream",
     "text": [
      "fatal: The current branch feat/new-feat has no upstream branch.\n",
      "To push the current branch and set the remote as upstream, use\n",
      "\n",
      "    git push --set-upstream origin feat/new-feat\n",
      "\n",
      "To have this happen automatically for branches without a tracking\n",
      "upstream, see 'push.autoSetupRemote' in 'git help config'.\n",
      "\n"
     ]
    }
   ],
   "source": [
    "!git push"
   ]
  },
  {
   "cell_type": "code",
   "execution_count": 71,
   "id": "13bcf0a0",
   "metadata": {},
   "outputs": [
    {
     "name": "stdout",
     "output_type": "stream",
     "text": [
      "Username for 'https://github.com': ^C\n"
     ]
    }
   ],
   "source": [
    "!git push --set-upstream origin feat/new-feat"
   ]
  },
  {
   "cell_type": "markdown",
   "id": "9ec19498",
   "metadata": {},
   "source": [
    "### Pull Request\n",
    "\n",
    "Se trata de una manera más estructurada de integrar cambios a un repositorio remoto, de esta manera podemos incorporar:\n",
    "\n",
    "- Revisiones: Podemos pedir a colegas que revisen nuestras cambios y añadan sugerencias.\n",
    "\n",
    "- Workflows: Podemos añadir rutinas que verifique que los cambios propuestos cumplan con requisitos de formato o que pasen un set de pruebas, e.g. `pytest`.\n",
    "\n",
    "Ahora iremos al repo y haremos una solicitud para integrar nuestros cambios...\n",
    "\n",
    "\n",
    "¿Cómo incorporamos los cambios más nuevos a nuestro repositorio local?\n",
    "\n",
    "### Fetch\n",
    "\n",
    "Cuando clonamos un nuevo repositorio, Git no solo copia una sola versión de los archivos en ese proyecto. Copia todo el repositorio y lo usa para crear un nuevo repositorio en local.\n",
    "\n",
    "Git no crea `branches` locales, excepto para `master` o `main`. Sin embargo, realiza un seguimiento de las `branches` que estaban en el servidor. Para hacerlo, Git crea un conjunto de `branches` que comienzan con `remotes/origin/<branch_name>`.\n",
    "\n",
    "`git fetch` actualiza todas las `branches` dentro de `remotes/origin`. Solo modificará las `branches` almacenadas en `remotes/origin` y ninguna de las `branches` locales.\n",
    "\n",
    "\n",
    "### Pull\n",
    "\n",
    "Git pull es simplemente la combinación de dos comandos:\n",
    "\n",
    "- Hace un git fetch para actualizar las `branches` dentro de `remotes/origin`.\n",
    "\n",
    "- Si la `branch` en la que estamos está vinculada a una `branch` remota, entonces se hará un `merge` de la `branch` `remotes/origin` a nuestra `branch` local."
   ]
  },
  {
   "cell_type": "code",
   "execution_count": null,
   "id": "ab652977",
   "metadata": {},
   "outputs": [],
   "source": [
    "!git branch"
   ]
  },
  {
   "cell_type": "code",
   "execution_count": null,
   "id": "7d20be8b",
   "metadata": {},
   "outputs": [],
   "source": [
    "!git checkout master"
   ]
  },
  {
   "cell_type": "code",
   "execution_count": null,
   "id": "fbf94c32",
   "metadata": {},
   "outputs": [],
   "source": [
    "!git pull"
   ]
  }
 ],
 "metadata": {
  "kernelspec": {
   "display_name": "Python 3 (ipykernel)",
   "language": "python",
   "name": "python3"
  },
  "language_info": {
   "codemirror_mode": {
    "name": "ipython",
    "version": 3
   },
   "file_extension": ".py",
   "mimetype": "text/x-python",
   "name": "python",
   "nbconvert_exporter": "python",
   "pygments_lexer": "ipython3",
   "version": "3.11.6"
  }
 },
 "nbformat": 4,
 "nbformat_minor": 5
}
