{
 "cells": [
  {
   "cell_type": "markdown",
   "metadata": {},
   "source": [
    "# Series\n",
    "\n",
    "Objetivos de Aprendizaje\n",
    "\n",
    "1. ¿Qué es una serie?\n",
    "2. ¿Cómo crear una serie?\n",
    "3. Series vs Listas\n",
    "    - Atributos\n",
    "    - Métodos\n",
    "    - Filtros\n",
    "\n",
    "## ¿Qué es una serie?\n",
    "\n",
    "En esta lección veremos una descripción general de uno de los dos tipos de estructuras disponibles en Pandas, las Series.\n",
    "\n",
    "Las [Series](https://pandas.pydata.org/docs/reference/series.html) son una matriz etiquetada y unidimensional (~lista) capaz de contener cualquier tipo de datos (enteros, cadenas de texto, número de punto flotante, etc.). Las etiquetas suelen denominarse índices.\n",
    "\n",
    "> **Principio básico de Pandas**: La alineación entre datos e índices es intrínseca a las, i.e. el vínculo entre los índices y los datos no se romperá a menos que el usuario lo haga explícitamente.\n",
    "\n",
    "Antes de iniciar importaremos los paquetes necesarios\n"
   ]
  },
  {
   "cell_type": "code",
   "execution_count": 1,
   "metadata": {},
   "outputs": [],
   "source": [
    "import numpy as np\n",
    "import pandas as pd"
   ]
  },
  {
   "cell_type": "markdown",
   "metadata": {},
   "source": [
    "## ¿Cómo crear una Serie?\n",
    "\n",
    "Para crear una Serie en Pandas, es necesario hacer uso de su [constructor](https://pandas.pydata.org/docs/reference/api/pandas.Series.html#pandas.Series):\n",
    "\n",
    "```python\n",
    "\n",
    "s = pd.Series(data, index)\n",
    "\n",
    "```\n",
    "\n",
    "Dónde: \n",
    "\n",
    "1. `data`: Se refiere a los datos que serán almacenados en la Serie, pueden ser en la forma de una lista, dict, np.array.\n",
    "    \n",
    "2. `index`: Las etiquetas que estarán emparejadas con los datos, tienen que ser un vector unidimensional.\n",
    "\n",
    "El resto de parámetro son opcionales.\n",
    "\n",
    "Veamos un par de ejemplos:"
   ]
  },
  {
   "cell_type": "code",
   "execution_count": 2,
   "metadata": {},
   "outputs": [
    {
     "data": {
      "text/plain": [
       "a    1\n",
       "b    2\n",
       "c    3\n",
       "e    4\n",
       "f    5\n",
       "dtype: int64"
      ]
     },
     "execution_count": 2,
     "metadata": {},
     "output_type": "execute_result"
    }
   ],
   "source": [
    "# Desde una lista de datos e índices\n",
    "data = [1, 2, 3, 4, 5]\n",
    "index = [\"a\", \"b\", \"c\", \"e\", \"f\"]\n",
    "\n",
    "s = pd.Series(data, index)\n",
    "\n",
    "s"
   ]
  },
  {
   "cell_type": "code",
   "execution_count": 3,
   "metadata": {},
   "outputs": [
    {
     "data": {
      "text/plain": [
       "a    1\n",
       "b    2\n",
       "c    3\n",
       "dtype: int64"
      ]
     },
     "execution_count": 3,
     "metadata": {},
     "output_type": "execute_result"
    }
   ],
   "source": [
    "# Desde diccionario\n",
    "d = {\"a\": 1, \"b\": 2, \"c\": 3}\n",
    "s = pd.Series(d)\n",
    "s"
   ]
  },
  {
   "cell_type": "code",
   "execution_count": 4,
   "metadata": {
    "scrolled": true
   },
   "outputs": [
    {
     "data": {
      "text/plain": [
       "0    0.000000\n",
       "1    0.241153\n",
       "2    0.133699\n",
       "3    0.673075\n",
       "dtype: float64"
      ]
     },
     "execution_count": 4,
     "metadata": {},
     "output_type": "execute_result"
    }
   ],
   "source": [
    "# Desde un np.array()\n",
    "serie_1 = pd.Series(np.random.randn(40)) \n",
    "\n",
    "serie_2 = pd.Series(map(lambda x: x*np.random.rand() ,range(40)))\n",
    "\n",
    "# Podemos acceder a sus datos, tal y como se se tratara de una lista\n",
    "serie_2[:4]"
   ]
  },
  {
   "cell_type": "code",
   "execution_count": 5,
   "metadata": {
    "scrolled": true
   },
   "outputs": [
    {
     "data": {
      "text/plain": [
       "1"
      ]
     },
     "execution_count": 5,
     "metadata": {},
     "output_type": "execute_result"
    }
   ],
   "source": [
    "# También podemos acceder a los datos tal y como si se tratara de un dict \n",
    "s[\"a\"]"
   ]
  },
  {
   "cell_type": "markdown",
   "metadata": {},
   "source": [
    "> **Nota**: En la mayoría de las situaciones estaremos creando Series desde un archivo externo, por ejemplo un *.csv "
   ]
  },
  {
   "cell_type": "code",
   "execution_count": 6,
   "metadata": {},
   "outputs": [
    {
     "name": "stdout",
     "output_type": "stream",
     "text": [
      "Overwriting ejemplo.csv\n"
     ]
    }
   ],
   "source": [
    "%%writefile ejemplo.csv\n",
    "\"a\"\n",
    "\"b\"\n",
    "\"c\"\n",
    "\"d\""
   ]
  },
  {
   "cell_type": "code",
   "execution_count": 9,
   "metadata": {},
   "outputs": [
    {
     "data": {
      "text/plain": [
       "0    b\n",
       "1    c\n",
       "2    d\n",
       "Name: a, dtype: object"
      ]
     },
     "execution_count": 9,
     "metadata": {},
     "output_type": "execute_result"
    }
   ],
   "source": [
    "pd.read_csv(\"ejemplo.csv\").squeeze(\"columns\")"
   ]
  },
  {
   "cell_type": "markdown",
   "metadata": {},
   "source": [
    "Todo esto es interesante, pero...\n",
    "\n",
    "## Series vs Listas\n",
    "\n",
    "Al igual que las listas, una serie es una abstracción de una estructura de datos. En este sentido una serie es más conveniente por las funcionalidades que añade en comparación con las listas.\n",
    "\n",
    "Primero crearemos una serie a partir de número generados aletoriamente desde una distribución [normal estándar](https://es.wikipedia.org/wiki/Tabla_normal_est%C3%A1ndar)."
   ]
  },
  {
   "cell_type": "code",
   "execution_count": 10,
   "metadata": {},
   "outputs": [],
   "source": [
    "serie = pd.Series(np.random.randn(5000))"
   ]
  },
  {
   "cell_type": "code",
   "execution_count": 11,
   "metadata": {},
   "outputs": [
    {
     "data": {
      "text/plain": [
       "0      -0.046176\n",
       "1       0.745638\n",
       "2       1.419435\n",
       "3      -0.340620\n",
       "4      -0.485778\n",
       "          ...   \n",
       "4995    2.084960\n",
       "4996   -0.969669\n",
       "4997    0.218329\n",
       "4998   -1.977039\n",
       "4999   -1.954332\n",
       "Length: 5000, dtype: float64"
      ]
     },
     "execution_count": 11,
     "metadata": {},
     "output_type": "execute_result"
    }
   ],
   "source": [
    "serie"
   ]
  },
  {
   "cell_type": "markdown",
   "metadata": {},
   "source": [
    "### Atributos\n",
    "\n",
    "En esta sección revisaremos algunos de los atributos más comunes."
   ]
  },
  {
   "cell_type": "code",
   "execution_count": 12,
   "metadata": {},
   "outputs": [
    {
     "data": {
      "text/plain": [
       "dtype('float64')"
      ]
     },
     "execution_count": 12,
     "metadata": {},
     "output_type": "execute_result"
    }
   ],
   "source": [
    "# Tipo de datos que almacena\n",
    "serie.dtype"
   ]
  },
  {
   "cell_type": "code",
   "execution_count": 13,
   "metadata": {},
   "outputs": [
    {
     "data": {
      "text/plain": [
       "5000"
      ]
     },
     "execution_count": 13,
     "metadata": {},
     "output_type": "execute_result"
    }
   ],
   "source": [
    "# Número de elementos\n",
    "serie.size"
   ]
  },
  {
   "cell_type": "code",
   "execution_count": 14,
   "metadata": {},
   "outputs": [
    {
     "data": {
      "text/plain": [
       "array([-0.04617605,  0.74563758,  1.41943494, ...,  0.2183286 ,\n",
       "       -1.97703914, -1.95433171])"
      ]
     },
     "execution_count": 14,
     "metadata": {},
     "output_type": "execute_result"
    }
   ],
   "source": [
    "# Regresa en forma de array los datos de una Serie\n",
    "serie.values"
   ]
  },
  {
   "cell_type": "code",
   "execution_count": 15,
   "metadata": {},
   "outputs": [
    {
     "data": {
      "text/plain": [
       "RangeIndex(start=0, stop=5000, step=1)"
      ]
     },
     "execution_count": 15,
     "metadata": {},
     "output_type": "execute_result"
    }
   ],
   "source": [
    "# acceder a los índices de una Serie\n",
    "serie.index"
   ]
  },
  {
   "cell_type": "markdown",
   "metadata": {},
   "source": [
    "### Métodos\n",
    "\n",
    "En esta sección veremos algunos de los métodos más comunes y útiles de Pandas\n",
    "\n",
    "#### .head() & .tail()"
   ]
  },
  {
   "cell_type": "code",
   "execution_count": 16,
   "metadata": {},
   "outputs": [
    {
     "data": {
      "text/plain": [
       "0   -0.046176\n",
       "1    0.745638\n",
       "2    1.419435\n",
       "3   -0.340620\n",
       "4   -0.485778\n",
       "dtype: float64"
      ]
     },
     "execution_count": 16,
     "metadata": {},
     "output_type": "execute_result"
    }
   ],
   "source": [
    "serie.head()"
   ]
  },
  {
   "cell_type": "code",
   "execution_count": 17,
   "metadata": {},
   "outputs": [
    {
     "data": {
      "text/plain": [
       "4998   -1.977039\n",
       "4999   -1.954332\n",
       "dtype: float64"
      ]
     },
     "execution_count": 17,
     "metadata": {},
     "output_type": "execute_result"
    }
   ],
   "source": [
    "serie.tail(2)"
   ]
  },
  {
   "cell_type": "markdown",
   "metadata": {},
   "source": [
    "#### .sort_values()\n",
    "\n",
    "Sirve para ordenar de manera descendente o ascendente los valores de una serie.\n",
    "\n",
    "El método contiene varios parámetros que puedes explorar [aquí](https://pandas.pydata.org/docs/reference/api/pandas.Series.sort_values.html#pandas.Series.sort_values), pero de un inicio es importante hacer referencia en dos de ellos:\n",
    "\n",
    "1. ascending: `True` (valor por defecto) / `False`.\n",
    "    Indica si ordenaremos de manera ascendente o descendente.\n",
    "    \n",
    "2. inplace: `True` / `False` (valor por defecto).\n",
    "    Indica si la operación modificará o no permanentemente a la Serie.\n",
    "\n",
    "Veamos un ejemplo:"
   ]
  },
  {
   "cell_type": "code",
   "execution_count": 18,
   "metadata": {},
   "outputs": [
    {
     "data": {
      "text/plain": [
       "4038   -3.704489\n",
       "1141   -3.649041\n",
       "1479   -3.278508\n",
       "2472   -3.241084\n",
       "322    -3.194142\n",
       "dtype: float64"
      ]
     },
     "execution_count": 18,
     "metadata": {},
     "output_type": "execute_result"
    }
   ],
   "source": [
    "serie.sort_values().head()"
   ]
  },
  {
   "cell_type": "code",
   "execution_count": 19,
   "metadata": {},
   "outputs": [
    {
     "data": {
      "text/plain": [
       "0   -0.046176\n",
       "1    0.745638\n",
       "2    1.419435\n",
       "3   -0.340620\n",
       "4   -0.485778\n",
       "dtype: float64"
      ]
     },
     "execution_count": 19,
     "metadata": {},
     "output_type": "execute_result"
    }
   ],
   "source": [
    "serie.head()"
   ]
  },
  {
   "cell_type": "code",
   "execution_count": 20,
   "metadata": {},
   "outputs": [],
   "source": [
    "serie.sort_values(ascending = False, inplace = True)"
   ]
  },
  {
   "cell_type": "code",
   "execution_count": 21,
   "metadata": {},
   "outputs": [
    {
     "data": {
      "text/plain": [
       "1970    3.621421\n",
       "2301    3.191740\n",
       "3281    3.131647\n",
       "4071    3.035614\n",
       "1684    2.891884\n",
       "          ...   \n",
       "322    -3.194142\n",
       "2472   -3.241084\n",
       "1479   -3.278508\n",
       "1141   -3.649041\n",
       "4038   -3.704489\n",
       "Length: 5000, dtype: float64"
      ]
     },
     "execution_count": 21,
     "metadata": {},
     "output_type": "execute_result"
    }
   ],
   "source": [
    "serie"
   ]
  },
  {
   "cell_type": "markdown",
   "metadata": {},
   "source": [
    "> Si el parámetro `inplace = True` la respuesta es `None`"
   ]
  },
  {
   "cell_type": "markdown",
   "metadata": {},
   "source": [
    "#### .sort_index() \n",
    "\n",
    "Ordenar la Serie usando los índices.\n",
    "\n",
    "El método contiene varios parámetros que puedes explorar [aquí](https://pandas.pydata.org/docs/reference/api/pandas.Series.sort_index.html)."
   ]
  },
  {
   "cell_type": "code",
   "execution_count": 22,
   "metadata": {},
   "outputs": [
    {
     "data": {
      "text/plain": [
       "0      -0.046176\n",
       "1       0.745638\n",
       "2       1.419435\n",
       "3      -0.340620\n",
       "4      -0.485778\n",
       "          ...   \n",
       "4995    2.084960\n",
       "4996   -0.969669\n",
       "4997    0.218329\n",
       "4998   -1.977039\n",
       "4999   -1.954332\n",
       "Length: 5000, dtype: float64"
      ]
     },
     "execution_count": 22,
     "metadata": {},
     "output_type": "execute_result"
    }
   ],
   "source": [
    "serie.sort_index()"
   ]
  },
  {
   "cell_type": "code",
   "execution_count": 23,
   "metadata": {},
   "outputs": [
    {
     "data": {
      "text/plain": [
       "1970    3.621421\n",
       "2301    3.191740\n",
       "3281    3.131647\n",
       "4071    3.035614\n",
       "1684    2.891884\n",
       "dtype: float64"
      ]
     },
     "execution_count": 23,
     "metadata": {},
     "output_type": "execute_result"
    }
   ],
   "source": [
    "serie.head()"
   ]
  },
  {
   "cell_type": "code",
   "execution_count": 24,
   "metadata": {},
   "outputs": [],
   "source": [
    "serie.sort_index(inplace = True)"
   ]
  },
  {
   "cell_type": "code",
   "execution_count": 25,
   "metadata": {},
   "outputs": [
    {
     "data": {
      "text/plain": [
       "0      -0.046176\n",
       "1       0.745638\n",
       "2       1.419435\n",
       "3      -0.340620\n",
       "4      -0.485778\n",
       "          ...   \n",
       "4995    2.084960\n",
       "4996   -0.969669\n",
       "4997    0.218329\n",
       "4998   -1.977039\n",
       "4999   -1.954332\n",
       "Length: 5000, dtype: float64"
      ]
     },
     "execution_count": 25,
     "metadata": {},
     "output_type": "execute_result"
    }
   ],
   "source": [
    "serie"
   ]
  },
  {
   "cell_type": "markdown",
   "metadata": {},
   "source": [
    "#### .apply()\n",
    "\n",
    "Aplica una función a los valores de una serie.\n",
    "\n",
    "**Función simple**"
   ]
  },
  {
   "cell_type": "code",
   "execution_count": 27,
   "metadata": {},
   "outputs": [],
   "source": [
    "def pos_neg(valor: float) -> str:\n",
    "    \n",
    "    if valor>= 0:\n",
    "        return \"Positivo\"\n",
    "    else:\n",
    "        return \"Negativo\"\n",
    "    "
   ]
  },
  {
   "cell_type": "code",
   "execution_count": 26,
   "metadata": {},
   "outputs": [
    {
     "data": {
      "text/plain": [
       "0   -0.046176\n",
       "1    0.745638\n",
       "2    1.419435\n",
       "3   -0.340620\n",
       "4   -0.485778\n",
       "dtype: float64"
      ]
     },
     "execution_count": 26,
     "metadata": {},
     "output_type": "execute_result"
    }
   ],
   "source": [
    "serie.head()"
   ]
  },
  {
   "cell_type": "code",
   "execution_count": 28,
   "metadata": {},
   "outputs": [
    {
     "data": {
      "text/plain": [
       "0    Negativo\n",
       "1    Positivo\n",
       "2    Positivo\n",
       "3    Negativo\n",
       "4    Negativo\n",
       "dtype: object"
      ]
     },
     "execution_count": 28,
     "metadata": {},
     "output_type": "execute_result"
    }
   ],
   "source": [
    "serie.apply(pos_neg).head()"
   ]
  },
  {
   "cell_type": "markdown",
   "metadata": {},
   "source": [
    "**Función con parámetros**"
   ]
  },
  {
   "cell_type": "code",
   "execution_count": 29,
   "metadata": {
    "scrolled": true
   },
   "outputs": [],
   "source": [
    "def restar_valor(valor: float, r: float) -> float:\n",
    "    return valor - r"
   ]
  },
  {
   "cell_type": "code",
   "execution_count": 30,
   "metadata": {},
   "outputs": [
    {
     "data": {
      "text/plain": [
       "0   -0.046176\n",
       "1    0.745638\n",
       "2    1.419435\n",
       "3   -0.340620\n",
       "4   -0.485778\n",
       "dtype: float64"
      ]
     },
     "execution_count": 30,
     "metadata": {},
     "output_type": "execute_result"
    }
   ],
   "source": [
    "serie.head()"
   ]
  },
  {
   "cell_type": "code",
   "execution_count": 31,
   "metadata": {
    "scrolled": true
   },
   "outputs": [
    {
     "data": {
      "text/plain": [
       "0   -2.046176\n",
       "1   -1.254362\n",
       "2   -0.580565\n",
       "3   -2.340620\n",
       "4   -2.485778\n",
       "dtype: float64"
      ]
     },
     "execution_count": 31,
     "metadata": {},
     "output_type": "execute_result"
    }
   ],
   "source": [
    "serie.apply(\n",
    "    restar_valor,\n",
    "    args=(2,)\n",
    ").head()"
   ]
  },
  {
   "cell_type": "markdown",
   "metadata": {},
   "source": [
    "**Funciones lambda**"
   ]
  },
  {
   "cell_type": "code",
   "execution_count": 32,
   "metadata": {},
   "outputs": [
    {
     "data": {
      "text/plain": [
       "0    0.002132\n",
       "1    0.555975\n",
       "2    2.014796\n",
       "3    0.116022\n",
       "4    0.235980\n",
       "dtype: float64"
      ]
     },
     "execution_count": 32,
     "metadata": {},
     "output_type": "execute_result"
    }
   ],
   "source": [
    "serie.apply(lambda x: x ** 2).head()"
   ]
  },
  {
   "cell_type": "code",
   "execution_count": 33,
   "metadata": {},
   "outputs": [
    {
     "data": {
      "text/plain": [
       "0   -2.046176\n",
       "1   -1.254362\n",
       "2   -0.580565\n",
       "3   -2.340620\n",
       "4   -2.485778\n",
       "dtype: float64"
      ]
     },
     "execution_count": 33,
     "metadata": {},
     "output_type": "execute_result"
    }
   ],
   "source": [
    "serie.apply(lambda x: restar_valor(x, 2)).head()"
   ]
  },
  {
   "cell_type": "markdown",
   "metadata": {},
   "source": [
    "#### Método Numéricos de Reducción"
   ]
  },
  {
   "cell_type": "code",
   "execution_count": 35,
   "metadata": {},
   "outputs": [
    {
     "data": {
      "text/plain": [
       "-39.061499482914954"
      ]
     },
     "execution_count": 35,
     "metadata": {},
     "output_type": "execute_result"
    }
   ],
   "source": [
    "# Sumar todos los valore\n",
    "serie.sum()"
   ]
  },
  {
   "cell_type": "code",
   "execution_count": 36,
   "metadata": {},
   "outputs": [
    {
     "data": {
      "text/plain": [
       "5000"
      ]
     },
     "execution_count": 36,
     "metadata": {},
     "output_type": "execute_result"
    }
   ],
   "source": [
    "# Número de registros\n",
    "serie.count()"
   ]
  },
  {
   "cell_type": "code",
   "execution_count": 37,
   "metadata": {},
   "outputs": [
    {
     "data": {
      "text/plain": [
       "-0.007812299896582991"
      ]
     },
     "execution_count": 37,
     "metadata": {},
     "output_type": "execute_result"
    }
   ],
   "source": [
    "# Promedio\n",
    "serie.mean()"
   ]
  },
  {
   "cell_type": "code",
   "execution_count": 38,
   "metadata": {},
   "outputs": [
    {
     "data": {
      "text/plain": [
       "1.0036483806231875"
      ]
     },
     "execution_count": 38,
     "metadata": {},
     "output_type": "execute_result"
    }
   ],
   "source": [
    "# desviación estándar\n",
    "serie.std()"
   ]
  },
  {
   "cell_type": "code",
   "execution_count": 39,
   "metadata": {
    "scrolled": true
   },
   "outputs": [
    {
     "name": "stdout",
     "output_type": "stream",
     "text": [
      "-3.7044890568704174\n",
      "3.621421070700868\n"
     ]
    }
   ],
   "source": [
    "# Máximo y Mínimo\n",
    "print(serie.min())\n",
    "print(serie.max())"
   ]
  },
  {
   "cell_type": "markdown",
   "metadata": {},
   "source": [
    "También es posible saber cuál es el índice del valor mínimo/máximo mediante el uso del método `.idxmin()`/`.idxmax()`, veamos cómo funciona:"
   ]
  },
  {
   "cell_type": "code",
   "execution_count": 40,
   "metadata": {},
   "outputs": [
    {
     "name": "stdout",
     "output_type": "stream",
     "text": [
      "El valor mínimo está en la posición (renglón): 4038\n",
      "El valor mínimo es: -3.7044890568704174\n"
     ]
    }
   ],
   "source": [
    "print(\"El valor mínimo está en la posición (renglón): {}\".format(serie.idxmin()))\n",
    "print(\"El valor mínimo es: {}\".format(serie.iloc[serie.idxmin()]))"
   ]
  },
  {
   "cell_type": "code",
   "execution_count": 43,
   "metadata": {},
   "outputs": [
    {
     "data": {
      "text/plain": [
       "-3.7044890568704174"
      ]
     },
     "execution_count": 43,
     "metadata": {},
     "output_type": "execute_result"
    }
   ],
   "source": [
    "serie.iloc[4038]"
   ]
  },
  {
   "cell_type": "code",
   "execution_count": 44,
   "metadata": {},
   "outputs": [
    {
     "data": {
      "text/plain": [
       "0.00039145466962781713"
      ]
     },
     "execution_count": 44,
     "metadata": {},
     "output_type": "execute_result"
    }
   ],
   "source": [
    "# Mediana\n",
    "serie.median()"
   ]
  },
  {
   "cell_type": "code",
   "execution_count": 45,
   "metadata": {},
   "outputs": [
    {
     "data": {
      "text/plain": [
       "count    5000.000000\n",
       "mean       -0.007812\n",
       "std         1.003648\n",
       "min        -3.704489\n",
       "25%        -0.681906\n",
       "50%         0.000391\n",
       "75%         0.678722\n",
       "max         3.621421\n",
       "dtype: float64"
      ]
     },
     "execution_count": 45,
     "metadata": {},
     "output_type": "execute_result"
    }
   ],
   "source": [
    "# Resumen estadístico\n",
    "serie.describe()"
   ]
  },
  {
   "cell_type": "markdown",
   "metadata": {},
   "source": [
    "Otro método interesante es `.value_count()`"
   ]
  },
  {
   "cell_type": "code",
   "execution_count": 46,
   "metadata": {},
   "outputs": [
    {
     "data": {
      "text/plain": [
       "0    4\n",
       "1    7\n",
       "2    8\n",
       "3    5\n",
       "4    6\n",
       "dtype: int64"
      ]
     },
     "execution_count": 46,
     "metadata": {},
     "output_type": "execute_result"
    }
   ],
   "source": [
    "serie_enteros = pd.Series(data = np.random.randint(low = 1, high = 10, size = 100000))\n",
    "serie_enteros.head()"
   ]
  },
  {
   "cell_type": "code",
   "execution_count": 47,
   "metadata": {},
   "outputs": [
    {
     "data": {
      "text/plain": [
       "4    11277\n",
       "9    11271\n",
       "7    11233\n",
       "3    11182\n",
       "1    11117\n",
       "6    11075\n",
       "5    11018\n",
       "8    10975\n",
       "2    10852\n",
       "dtype: int64"
      ]
     },
     "execution_count": 47,
     "metadata": {},
     "output_type": "execute_result"
    }
   ],
   "source": [
    "serie_enteros.value_counts()"
   ]
  },
  {
   "cell_type": "code",
   "execution_count": 48,
   "metadata": {},
   "outputs": [
    {
     "data": {
      "text/plain": [
       "1    0.11117\n",
       "2    0.10852\n",
       "3    0.11182\n",
       "4    0.11277\n",
       "5    0.11018\n",
       "6    0.11075\n",
       "7    0.11233\n",
       "8    0.10975\n",
       "9    0.11271\n",
       "dtype: float64"
      ]
     },
     "execution_count": 48,
     "metadata": {},
     "output_type": "execute_result"
    }
   ],
   "source": [
    "serie_enteros.value_counts().sort_index()/serie_enteros.count()"
   ]
  },
  {
   "cell_type": "markdown",
   "metadata": {},
   "source": [
    "#### Vectorización de Operaciones.\n",
    "\n",
    "Cuando trabajamos con Series de vaelores numéricos no es necesario realizar un loop para hacer operaciones valor a valor, podemos aplicar una operación tomando ventaja de los múltiples cores de nuestra computadora."
   ]
  },
  {
   "cell_type": "code",
   "execution_count": 49,
   "metadata": {},
   "outputs": [
    {
     "data": {
      "text/plain": [
       "a    0.555367\n",
       "b    0.929566\n",
       "c    0.747302\n",
       "d    0.085672\n",
       "e    0.117244\n",
       "dtype: float64"
      ]
     },
     "execution_count": 49,
     "metadata": {},
     "output_type": "execute_result"
    }
   ],
   "source": [
    "s1 = pd.Series(data = np.random.uniform(size = 5), index = [\"a\",\"b\",\"c\", \"d\", \"e\"])\n",
    "s1"
   ]
  },
  {
   "cell_type": "code",
   "execution_count": 50,
   "metadata": {},
   "outputs": [
    {
     "data": {
      "text/plain": [
       "e    0\n",
       "d    1\n",
       "c    2\n",
       "b    3\n",
       "f    4\n",
       "dtype: int64"
      ]
     },
     "execution_count": 50,
     "metadata": {},
     "output_type": "execute_result"
    }
   ],
   "source": [
    "s2 = pd.Series(data = np.arange(5), index = [\"e\",\"d\",\"c\", \"b\",\"f\"])\n",
    "s2"
   ]
  },
  {
   "cell_type": "markdown",
   "metadata": {},
   "source": [
    "En este caso podemos ver que las operaciones aritméticas se alinean automáticamente en relación a los índices. Dando lugar a un valor `NaN` (Not a Number) en los sitios en los que sólo existe el índice en sólo una Serie."
   ]
  },
  {
   "cell_type": "code",
   "execution_count": 51,
   "metadata": {},
   "outputs": [
    {
     "data": {
      "text/plain": [
       "a         NaN\n",
       "b    3.929566\n",
       "c    2.747302\n",
       "d    1.085672\n",
       "e    0.117244\n",
       "f         NaN\n",
       "dtype: float64"
      ]
     },
     "execution_count": 51,
     "metadata": {},
     "output_type": "execute_result"
    }
   ],
   "source": [
    "s1 + s2"
   ]
  },
  {
   "cell_type": "code",
   "execution_count": 52,
   "metadata": {},
   "outputs": [
    {
     "data": {
      "text/plain": [
       "a    10.555367\n",
       "b    10.929566\n",
       "c    10.747302\n",
       "d    10.085672\n",
       "e    10.117244\n",
       "dtype: float64"
      ]
     },
     "execution_count": 52,
     "metadata": {},
     "output_type": "execute_result"
    }
   ],
   "source": [
    "s1 + 10"
   ]
  },
  {
   "cell_type": "code",
   "execution_count": 53,
   "metadata": {},
   "outputs": [
    {
     "data": {
      "text/plain": [
       "e     1.000000\n",
       "d     2.718282\n",
       "c     7.389056\n",
       "b    20.085537\n",
       "f    54.598150\n",
       "dtype: float64"
      ]
     },
     "execution_count": 53,
     "metadata": {},
     "output_type": "execute_result"
    }
   ],
   "source": [
    "np.exp(s2)"
   ]
  },
  {
   "cell_type": "markdown",
   "metadata": {},
   "source": [
    "#### Filtros\n",
    "\n",
    "También es posible vectorizar condiciones lógicas, para quedarnos sólo con los elementos que cumplan la condición."
   ]
  },
  {
   "cell_type": "code",
   "execution_count": 54,
   "metadata": {},
   "outputs": [
    {
     "data": {
      "text/plain": [
       "0      -0.046176\n",
       "1       0.745638\n",
       "2       1.419435\n",
       "3      -0.340620\n",
       "4      -0.485778\n",
       "          ...   \n",
       "4995    2.084960\n",
       "4996   -0.969669\n",
       "4997    0.218329\n",
       "4998   -1.977039\n",
       "4999   -1.954332\n",
       "Length: 5000, dtype: float64"
      ]
     },
     "execution_count": 54,
     "metadata": {},
     "output_type": "execute_result"
    }
   ],
   "source": [
    "serie"
   ]
  },
  {
   "cell_type": "code",
   "execution_count": 55,
   "metadata": {},
   "outputs": [
    {
     "data": {
      "text/plain": [
       "0       False\n",
       "1        True\n",
       "2        True\n",
       "3       False\n",
       "4       False\n",
       "        ...  \n",
       "4995     True\n",
       "4996    False\n",
       "4997     True\n",
       "4998    False\n",
       "4999    False\n",
       "Length: 5000, dtype: bool"
      ]
     },
     "execution_count": 55,
     "metadata": {},
     "output_type": "execute_result"
    }
   ],
   "source": [
    "serie>0"
   ]
  },
  {
   "cell_type": "code",
   "execution_count": 56,
   "metadata": {
    "scrolled": true
   },
   "outputs": [
    {
     "data": {
      "text/plain": [
       "1       0.745638\n",
       "2       1.419435\n",
       "7       1.055186\n",
       "8       0.627867\n",
       "9       1.111951\n",
       "          ...   \n",
       "4992    0.430026\n",
       "4993    1.781881\n",
       "4994    1.395271\n",
       "4995    2.084960\n",
       "4997    0.218329\n",
       "Length: 2501, dtype: float64"
      ]
     },
     "execution_count": 56,
     "metadata": {},
     "output_type": "execute_result"
    }
   ],
   "source": [
    "serie[serie>0]"
   ]
  },
  {
   "cell_type": "markdown",
   "metadata": {},
   "source": [
    "¿Cómo combinamos operaciones lógicas, i.e. cómo usar `and` y `or`?"
   ]
  },
  {
   "cell_type": "code",
   "execution_count": null,
   "metadata": {},
   "outputs": [],
   "source": [
    "# En este caso, filtraremos sólo los valores más extremos de la distribución normal\n",
    "serie[\n",
    "    (serie > (serie.mean() + 2.95*serie.std())) \n",
    "    | (serie < (serie.mean() - 2.95*serie.std()))\n",
    "]"
   ]
  },
  {
   "cell_type": "code",
   "execution_count": null,
   "metadata": {},
   "outputs": [],
   "source": [
    "import math \n",
    "serie[\n",
    "    (serie.apply(math.trunc) % 2 ==0) \n",
    "    & (serie.apply(math.trunc) > 0)\n",
    "]"
   ]
  }
 ],
 "metadata": {
  "kernelspec": {
   "display_name": "Python 3 (ipykernel)",
   "language": "python",
   "name": "python3"
  },
  "language_info": {
   "codemirror_mode": {
    "name": "ipython",
    "version": 3
   },
   "file_extension": ".py",
   "mimetype": "text/x-python",
   "name": "python",
   "nbconvert_exporter": "python",
   "pygments_lexer": "ipython3",
   "version": "3.11.6"
  }
 },
 "nbformat": 4,
 "nbformat_minor": 4
}
