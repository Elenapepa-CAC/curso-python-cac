{
 "cells": [
  {
   "cell_type": "markdown",
   "id": "10866519",
   "metadata": {},
   "source": [
    "# Crear Tablas \n",
    "\n",
    "Los objetivos de aprendizaje son:\n",
    "\n",
    "1. Crear modelo de datos\n",
    "2. Definir campos y columnas\n",
    "3. Crear el DB Engine\n",
    "4. Crear la Base de Datos y la Tabla\n",
    "\n",
    "## Crear modelo de datos\n",
    "\n",
    "Lo primero que debemos hacer es crear una clase para representar los datos en la tabla, a esto se le conoce como modelo de datos.\n",
    "\n",
    "Tomaremos como ejemplo la tabla `asegurados` que vimos antes."
   ]
  },
  {
   "cell_type": "code",
   "execution_count": 1,
   "id": "c1518a66",
   "metadata": {},
   "outputs": [],
   "source": [
    "from typing import Optional\n",
    "from sqlmodel import SQLModel, Field\n",
    "\n",
    "class Asegurado(SQLModel, table=True):\n",
    "    id: Optional[int] = Field(default=None, primary_key=True)\n",
    "    nombre: str\n",
    "    lob: str\n",
    "    edad: Optional[int] = None"
   ]
  },
  {
   "cell_type": "markdown",
   "id": "3c967b9f",
   "metadata": {},
   "source": [
    "- La clase `Asegurado` representa la tabla asegurados. Cada instancia de esta clase representará un registro de la tabla.\n",
    "<br>\n",
    "\n",
    "- Usamos la configuración `table=True` para decirle a `SQLModel` que la clase `Asegurado` es una tabla.\n",
    "\n",
    "## Definir columnas\n",
    "\n",
    "El siguiente paso es definir las columnas de la clase usando atributos y anotaciones.\n",
    "\n",
    "- El nombre de cada atributo será el nombre de la columna de la tabla.\n",
    "<br>\n",
    "\n",
    "- El tipo de cada atributo será también el tipo de columna de la tabla.\n",
    "<br>\n",
    "\n",
    "``` python\n",
    "    id: Optional[int] = Field(default=None, primary_key=True)\n",
    "    nombre: str\n",
    "    lob: str\n",
    "    edad: Optional[int] = None\n",
    "```\n",
    "\n",
    "- `edad: Optional[int] = None`: Significa que la columna no es obligatoria, acepta valores enteros y por defecto tendrá valor `NULL`.\n",
    "<br>\n",
    "\n",
    "- `id: Optional[int] = Field(default=None, primary_key=True)`: Es la **primary key** de la tabla, para indicarlo usamos la clase `Field` con el atributo `primary_key=True`.\n",
    "\n",
    ">**Nota**: usamos `Optional` como anotación de `id` porque su valor no lo genera nuestro código, sino la aplicación de BD.\n",
    "\n",
    "- El resto de columnas sólo son del tipo `TEXT` en la base de datos.\n",
    "\n",
    "\n",
    "## Crear el DB Engine\n",
    "\n",
    "Para interactuar con la base de datos usando `SQLAlchemy` necesitamos crear un `Engine`. \n",
    "\n",
    ">**Nota**: SQLModel está construido sobre SQLAlchemy\n",
    "\n",
    "El engine es un objeto que gestiona:\n",
    "\n",
    "- La conexión con la base de datos.\n",
    "\n",
    "- La traducción de nuestros comandos al dialecto de la BD.\n",
    "\n",
    "Crear el motor es muy simple, sólo tenemos que llamar a la función `create_engine()` con una URL de la base de datos:"
   ]
  },
  {
   "cell_type": "code",
   "execution_count": 2,
   "id": "b755ec36",
   "metadata": {},
   "outputs": [
    {
     "data": {
      "text/plain": [
       "Engine(sqlite:///database.db)"
      ]
     },
     "execution_count": 2,
     "metadata": {},
     "output_type": "execute_result"
    }
   ],
   "source": [
    "from sqlmodel import create_engine\n",
    "\n",
    "sqlite_file_name = \"database.db\"\n",
    "sqlite_url = f\"sqlite:///{sqlite_file_name}\"\n",
    "\n",
    "engine = create_engine(sqlite_url, echo=True)\n",
    "engine"
   ]
  },
  {
   "cell_type": "markdown",
   "id": "127b5c75",
   "metadata": {},
   "source": [
    "Cada base de datos soportada por `SQLAlchemy` tiene su propio tipo de URL. Nosotros estamos usando SQLite porque normalmente viene pre-instalada en todos lo sistemas operativos. \n",
    "\n",
    "Para SQLite usamos `sqlite:/// ` segida del path de la base de datos: \n",
    "\n",
    "- `\"sqlite:///database.db\"`\n",
    "- `\"sqlite:///databases/local/application.db\"`\n",
    "\n",
    "En este ejemplo, también estamos usando el argumento `echo=True`. Hará que el motor imprima todos los comandos SQL.\n",
    "\n",
    "\n",
    ">**Nota**: Solo debería existir una única instancia de la clase `Engine` en nuestra aplicación que se reutiliza en todas partes. Hay otra clase llamada `Session` que nos ayuda a gestionar un único `Engine`, la veremos más adelante.\n",
    "\n",
    "\n",
    "\n",
    "La [documentación de SQLAlchemy](https://docs.sqlalchemy.org/en/20/core/engines.html) contiene los detalles de configuración para conectar con otras bases de datos.\n"
   ]
  },
  {
   "cell_type": "markdown",
   "id": "e248470c",
   "metadata": {},
   "source": [
    "## Crear la Base de Datos y la Tabla\n",
    "\n",
    "Crear el `engine` no creará el archivo `database.db`. Para ello deberemos de ejecutar el comando:\n",
    "\n",
    "```python\n",
    "SQLModel.metadata.create_all(engine)\n",
    "```\n",
    "\n",
    "Al ejecutarlo se creará también la tabla `asegurado`.\n",
    "\n",
    "\n",
    "### Metadata\n",
    "\n",
    "La clase `SQLModel` tiene un atributo llamado `metadata`, que es una instancia de la clase [`MetaData`](https://docs.sqlalchemy.org/en/14/core/metadata.html).\n",
    "\n",
    "La clase `MetaData` es un contenedor que almacena la información que describe la base de datos, e.g. tablas, columnas, nombre de la base de datos, etc.\n",
    "\n",
    "Cuando creamos una clase que hereda de `SQLModel` con la configuración `table = True`, ésta quedará registradas en el atributo `metadata` de la clase `SQLModel`.\n",
    "\n",
    "\n",
    "### Método `.create_all()`\n",
    "\n",
    "Toma un `engine` y lo usa para crear la base de datos y todas las tablas registradas dentro de la instancia de la clase `MetaData`.\n",
    "\n",
    ">**Nota**: Siempre deberemos llamar al método `.create_all()` después de crear todas las clases que representen tablas dentro de la base de datos."
   ]
  },
  {
   "cell_type": "code",
   "execution_count": 3,
   "id": "026ad604",
   "metadata": {},
   "outputs": [
    {
     "name": "stdout",
     "output_type": "stream",
     "text": [
      "2024-02-05 18:55:15,606 INFO sqlalchemy.engine.Engine BEGIN (implicit)\n",
      "2024-02-05 18:55:15,606 INFO sqlalchemy.engine.Engine PRAGMA main.table_info(\"asegurado\")\n",
      "2024-02-05 18:55:15,606 INFO sqlalchemy.engine.Engine [raw sql] ()\n",
      "2024-02-05 18:55:15,606 INFO sqlalchemy.engine.Engine PRAGMA temp.table_info(\"asegurado\")\n",
      "2024-02-05 18:55:15,606 INFO sqlalchemy.engine.Engine [raw sql] ()\n",
      "2024-02-05 18:55:15,606 INFO sqlalchemy.engine.Engine \n",
      "CREATE TABLE asegurado (\n",
      "\tid INTEGER NOT NULL, \n",
      "\tnombre VARCHAR NOT NULL, \n",
      "\tlob VARCHAR NOT NULL, \n",
      "\tedad INTEGER, \n",
      "\tPRIMARY KEY (id)\n",
      ")\n",
      "\n",
      "\n",
      "2024-02-05 18:55:15,606 INFO sqlalchemy.engine.Engine [no key 0.00002s] ()\n",
      "2024-02-05 18:55:15,607 INFO sqlalchemy.engine.Engine COMMIT\n"
     ]
    }
   ],
   "source": [
    "!python crear_base_de_datos.py"
   ]
  },
  {
   "cell_type": "code",
   "execution_count": null,
   "id": "8cb4d509",
   "metadata": {},
   "outputs": [],
   "source": []
  }
 ],
 "metadata": {
  "kernelspec": {
   "display_name": "Python 3 (ipykernel)",
   "language": "python",
   "name": "python3"
  },
  "language_info": {
   "codemirror_mode": {
    "name": "ipython",
    "version": 3
   },
   "file_extension": ".py",
   "mimetype": "text/x-python",
   "name": "python",
   "nbconvert_exporter": "python",
   "pygments_lexer": "ipython3",
   "version": "3.11.6"
  }
 },
 "nbformat": 4,
 "nbformat_minor": 5
}
