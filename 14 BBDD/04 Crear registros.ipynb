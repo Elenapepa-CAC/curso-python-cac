{
 "cells": [
  {
   "cell_type": "markdown",
   "id": "a63a76d3",
   "metadata": {},
   "source": [
    "# Crear Registros\n",
    "\n",
    "Los objetivos de aprendizaje son:\n",
    "\n",
    "1. Datos en Código vs Datos en Bases de Datos\n",
    "2. Crear Datos con SQLModel\n",
    "    - Instancias de modelos de datos\n",
    "    - Crear una session\n",
    "    - Añadir instancias a la sesión\n",
    "    - Commit\n",
    "    - Cerrar la sesión.\n",
    "    \n",
    "\n",
    "## Datos en Código vs Datos en Bases de Datos\n",
    "\n",
    "Al trabajar con una base de datos en un lenguaje de programación existirán datos en: \n",
    "\n",
    "- **La memoria**: Almacenamiento temporal, e.g. objetos y variables que creamos en nuestro código.\n",
    "<br>\n",
    "\n",
    "- **Base de datos**: Almacenamiento permanente gestionados por una aplicación externa.\n",
    "\n",
    "Esto implica que:\n",
    "\n",
    "1. Obtendremos datos de la BD y los almacenaremos en la memoria dentro de variables.\n",
    "<br>\n",
    "\n",
    "2. Crearemos objetos que querremos guardar en la BD, y que enviaremos de alguna manera.\n",
    "\n",
    "\n",
    "## Crear Datos con SQLMode\n",
    "\n",
    "Dado que Python y la Base de Datos son sistemas independientes deberemos seguir los siguientes pasos:\n",
    "\n",
    "1. Crear los datos en Python, e.g. en una variable.\n",
    "<br>\n",
    "\n",
    "2. guardar/enviar los datos a la base de datos.\n",
    "\n",
    "### Instancias de modelos de datos\n",
    "\n",
    "Ya creamos una clase `Asegurado` que representa la tabla de `asegurado` en la base de datos.\n",
    "\n",
    "Cada instancia de la clase `Asegurado` que creemos representará una fila en la tabla `asegurado`.\n",
    "\n",
    "Entonces, el primer paso es simplemente crear una instancia de clase `Asegurado`.\n",
    "\n",
    "Crearemos 4:"
   ]
  },
  {
   "cell_type": "code",
   "execution_count": 1,
   "id": "6e62ecfe",
   "metadata": {},
   "outputs": [
    {
     "name": "stdout",
     "output_type": "stream",
     "text": [
      "2024-02-05 19:05:46,675 INFO sqlalchemy.engine.Engine BEGIN (implicit)\n",
      "2024-02-05 19:05:46,675 INFO sqlalchemy.engine.Engine PRAGMA main.table_info(\"asegurado\")\n",
      "2024-02-05 19:05:46,675 INFO sqlalchemy.engine.Engine [raw sql] ()\n",
      "2024-02-05 19:05:46,676 INFO sqlalchemy.engine.Engine COMMIT\n"
     ]
    },
    {
     "data": {
      "text/plain": [
       "Asegurado(id=None, nombre='Heber', lob='Autos', edad=30)"
      ]
     },
     "execution_count": 1,
     "metadata": {},
     "output_type": "execute_result"
    }
   ],
   "source": [
    "from crear_base_de_datos import Asegurado\n",
    "\n",
    "asegurado_1 = Asegurado(nombre=\"Heber\", lob=\"Autos\", edad=30)\n",
    "asegurado_2 = Asegurado(nombre=\"Joaquim\", lob=\"Hogar\", edad=35)\n",
    "asegurado_3 = Asegurado(nombre=\"Antonio\", lob=\"Autos\", edad=40)\n",
    "asegurado_4 = Asegurado(nombre=\"Juan\", lob=\"Hogar\", edad=25)\n",
    "    \n",
    "asegurado_1"
   ]
  },
  {
   "cell_type": "markdown",
   "id": "4f5caf85",
   "metadata": {},
   "source": [
    ">**Nota**: El atributo `id` es `None`, pero al mismo tiempo la BD exige que sea único y diferente de `NULL`. Esto es así porque la BD se encargará de gestionar la llave primaria."
   ]
  },
  {
   "cell_type": "markdown",
   "id": "661912ba",
   "metadata": {},
   "source": [
    "### Crear una session\n",
    "\n",
    "Hasta ahora solo hemos utilizado la clase `Engine` para interactuar con la base de datos.\n",
    "\n",
    "El `engine` debe ser un único objeto que comparta toda nuestra aplicación, y que se encarga de comunicarse con la base de datos, gestionar las conexiones, etc.\n",
    "\n",
    "En la práctica no es recomendable usar directamente un `Engine`, es mejor utilizar otra herramienta que se construye sobre el `Engine`, la clase `Session`.\n",
    "\n",
    "A diferencia del `engine` que es único para toda la aplicación, podemos crear una instancia nueva de la clase `Session` para cada grupo de operaciones que querramos enviar a la BD.\n",
    "\n",
    "Es decir, cada vez que realizamos una operación(es) crearemos una sesión usando un único `engine`, y una vez finalizada la operación cerraríamos la sesión."
   ]
  },
  {
   "cell_type": "code",
   "execution_count": 2,
   "id": "62423c7d",
   "metadata": {},
   "outputs": [
    {
     "data": {
      "text/plain": [
       "<sqlmodel.orm.session.Session at 0x107921a90>"
      ]
     },
     "execution_count": 2,
     "metadata": {},
     "output_type": "execute_result"
    }
   ],
   "source": [
    "from sqlmodel import Session, create_engine\n",
    "\n",
    "sqlite_file_name = \"database.db\"\n",
    "sqlite_url = f\"sqlite:///{sqlite_file_name}\"\n",
    "\n",
    "engine = create_engine(sqlite_url, echo=True)\n",
    "session = Session(engine)\n",
    "session"
   ]
  },
  {
   "cell_type": "markdown",
   "id": "f811f6a7",
   "metadata": {},
   "source": [
    "### Añadir instancias a la sesión\n",
    "\n",
    "Ahora que tenemos algunas instancias del modelo asegurado (algunos objetos en la memoria) y una sesión, el siguiente paso es agregarlos a la sesión:\n"
   ]
  },
  {
   "cell_type": "code",
   "execution_count": 3,
   "id": "b7e9eefc",
   "metadata": {},
   "outputs": [],
   "source": [
    "session.add(asegurado_1)\n",
    "session.add(asegurado_2)\n",
    "session.add(asegurado_3)\n",
    "session.add(asegurado_4)"
   ]
  },
  {
   "cell_type": "markdown",
   "id": "80b09d46",
   "metadata": {},
   "source": [
    "En este momento, los asegurados `asegurado_<i>` no están almacenados en la base de datos.\n",
    "\n",
    "La sesión mantiene en memoria todos los objetos que deben guardarse en la base de datos más adelante.\n",
    "\n",
    "Una vez que estemos listos, podemos confirmar esos cambios, y luego la sesión usará el `engine` para enviar el comando SQL apropiado (`INSERT`) a la base de datos, de esa manera la API de la Base de Datos creará los registros.\n",
    "\n",
    "Todo en un solo *batch*. Esto hace que las interacciones con la base de datos sean más eficientes.\n",
    "\n",
    ">**Nota**: Las bases de datos SQL cumplen un conjunto de propiedades conocidas como ACID (atomicity, consistency, isolation, durability). La implementación de `SQLModel` busca cumplir con estas propiedades. \n",
    "\n",
    "\n",
    "### Commit\n",
    "\n",
    "Ahora que tenemos a los asegurados dentro de la sesión, y que estamos listos para guardar todo eso en la base de datos, podemos confirmar los cambios:"
   ]
  },
  {
   "cell_type": "code",
   "execution_count": 4,
   "id": "daf2282c",
   "metadata": {},
   "outputs": [
    {
     "name": "stdout",
     "output_type": "stream",
     "text": [
      "2024-02-05 19:10:23,401 INFO sqlalchemy.engine.Engine BEGIN (implicit)\n",
      "2024-02-05 19:10:23,404 INFO sqlalchemy.engine.Engine INSERT INTO asegurado (nombre, lob, edad) VALUES (?, ?, ?)\n",
      "2024-02-05 19:10:23,405 INFO sqlalchemy.engine.Engine [generated in 0.00093s] ('Heber', 'Autos', 30)\n",
      "2024-02-05 19:10:23,407 INFO sqlalchemy.engine.Engine INSERT INTO asegurado (nombre, lob, edad) VALUES (?, ?, ?)\n",
      "2024-02-05 19:10:23,408 INFO sqlalchemy.engine.Engine [cached since 0.00361s ago] ('Joaquim', 'Hogar', 35)\n",
      "2024-02-05 19:10:23,409 INFO sqlalchemy.engine.Engine INSERT INTO asegurado (nombre, lob, edad) VALUES (?, ?, ?)\n",
      "2024-02-05 19:10:23,409 INFO sqlalchemy.engine.Engine [cached since 0.004997s ago] ('Antonio', 'Autos', 40)\n",
      "2024-02-05 19:10:23,410 INFO sqlalchemy.engine.Engine INSERT INTO asegurado (nombre, lob, edad) VALUES (?, ?, ?)\n",
      "2024-02-05 19:10:23,410 INFO sqlalchemy.engine.Engine [cached since 0.005932s ago] ('Juan', 'Hogar', 25)\n",
      "2024-02-05 19:10:23,411 INFO sqlalchemy.engine.Engine COMMIT\n"
     ]
    }
   ],
   "source": [
    "session.commit()"
   ]
  },
  {
   "cell_type": "markdown",
   "id": "e17fa7d2",
   "metadata": {},
   "source": [
    "Después de confirmar los cambios, pasa algo interesante con las instancias de la clase `Asegurado`:"
   ]
  },
  {
   "cell_type": "code",
   "execution_count": 5,
   "id": "a9cc2576",
   "metadata": {},
   "outputs": [
    {
     "data": {
      "text/plain": [
       "Asegurado()"
      ]
     },
     "execution_count": 5,
     "metadata": {},
     "output_type": "execute_result"
    }
   ],
   "source": [
    "asegurado_1"
   ]
  },
  {
   "cell_type": "markdown",
   "id": "3c603f02",
   "metadata": {},
   "source": [
    "Lo que sucede es que `SQLModel` está marcando internamente esos objetos como \"caducados\", no tienen la última versión de los datos.\n",
    "\n",
    "Esto se debe a que alguuna otra aplicación podría estar modificando los mismos datos que ya hemos integrado a la BD, e.g. el auto-incremental de la llave primaria.\n",
    "\n",
    "La próxima vez que accedamos a algún atributo, por ejemplo con:"
   ]
  },
  {
   "cell_type": "code",
   "execution_count": 6,
   "id": "fb9e614f",
   "metadata": {},
   "outputs": [
    {
     "name": "stdout",
     "output_type": "stream",
     "text": [
      "2024-02-05 19:11:27,165 INFO sqlalchemy.engine.Engine BEGIN (implicit)\n",
      "2024-02-05 19:11:27,168 INFO sqlalchemy.engine.Engine SELECT asegurado.id AS asegurado_id, asegurado.nombre AS asegurado_nombre, asegurado.lob AS asegurado_lob, asegurado.edad AS asegurado_edad \n",
      "FROM asegurado \n",
      "WHERE asegurado.id = ?\n",
      "2024-02-05 19:11:27,169 INFO sqlalchemy.engine.Engine [generated in 0.00084s] (1,)\n"
     ]
    },
    {
     "data": {
      "text/plain": [
       "'Heber'"
      ]
     },
     "execution_count": 6,
     "metadata": {},
     "output_type": "execute_result"
    }
   ],
   "source": [
    "asegurado_1.nombre"
   ]
  },
  {
   "cell_type": "markdown",
   "id": "b5cc50de",
   "metadata": {},
   "source": [
    "`SQLModel` se asegurará de ponerse en contacto con la base de datos y obtener la versión más reciente de los datos:"
   ]
  },
  {
   "cell_type": "code",
   "execution_count": 7,
   "id": "ad9f6fac",
   "metadata": {},
   "outputs": [
    {
     "data": {
      "text/plain": [
       "Asegurado(edad=30, nombre='Heber', lob='Autos', id=1)"
      ]
     },
     "execution_count": 7,
     "metadata": {},
     "output_type": "execute_result"
    }
   ],
   "source": [
    "asegurado_1"
   ]
  },
  {
   "cell_type": "markdown",
   "id": "c5a95576",
   "metadata": {},
   "source": [
    "la sesión actualiza los datos automáticamente en segundo plano, y como efecto secundario, cuando accedemos a un atributo.\n",
    "\n",
    "Pero también podemos hacerlo explícitamente."
   ]
  },
  {
   "cell_type": "code",
   "execution_count": 8,
   "id": "2e91df72",
   "metadata": {},
   "outputs": [
    {
     "data": {
      "text/plain": [
       "Asegurado()"
      ]
     },
     "execution_count": 8,
     "metadata": {},
     "output_type": "execute_result"
    }
   ],
   "source": [
    "asegurado_2"
   ]
  },
  {
   "cell_type": "code",
   "execution_count": 9,
   "id": "0f2790e1",
   "metadata": {},
   "outputs": [
    {
     "name": "stdout",
     "output_type": "stream",
     "text": [
      "2024-02-05 19:11:53,762 INFO sqlalchemy.engine.Engine SELECT asegurado.id, asegurado.nombre, asegurado.lob, asegurado.edad \n",
      "FROM asegurado \n",
      "WHERE asegurado.id = ?\n",
      "2024-02-05 19:11:53,764 INFO sqlalchemy.engine.Engine [generated in 0.00158s] (2,)\n"
     ]
    },
    {
     "data": {
      "text/plain": [
       "Asegurado(edad=35, nombre='Joaquim', lob='Hogar', id=2)"
      ]
     },
     "execution_count": 9,
     "metadata": {},
     "output_type": "execute_result"
    }
   ],
   "source": [
    "session.refresh(asegurado_2)\n",
    "asegurado_2"
   ]
  },
  {
   "cell_type": "markdown",
   "id": "4cedda8b",
   "metadata": {},
   "source": [
    "### Cerrar la sesión\n",
    "\n",
    "La sesión ocupa algunos recursos, e.g. conexiones del `engine`.\n",
    "\n",
    "Entonces, una vez que hayamos terminado, debemos cerrar la sesión para que libere esos recursos:"
   ]
  },
  {
   "cell_type": "code",
   "execution_count": 10,
   "id": "f03a6337",
   "metadata": {},
   "outputs": [
    {
     "name": "stdout",
     "output_type": "stream",
     "text": [
      "2024-02-05 19:12:21,046 INFO sqlalchemy.engine.Engine ROLLBACK\n"
     ]
    }
   ],
   "source": [
    "session.close()"
   ]
  },
  {
   "cell_type": "markdown",
   "id": "48cfbd8f",
   "metadata": {},
   "source": [
    "Pero, ¿qué pasa si nos olvidamos de cerrar la sesión?\n",
    "\n",
    "¿O si hay una excepción en el código y nunca se ejecuta `session.close()`?\n",
    "\n",
    "Para eso, hay una mejor manera de crear y cerrar la sesión:\n",
    "\n",
    "```python\n",
    "with Session(engine) as session:\n",
    "    session.add(asegurado_1)\n",
    "    session.add(asegurado_2)\n",
    "    session.add(asegurado_3)\n",
    "    session.add(asegurado_4)\n",
    "    \n",
    "    session.commit()\n",
    "```"
   ]
  }
 ],
 "metadata": {
  "kernelspec": {
   "display_name": "Python 3 (ipykernel)",
   "language": "python",
   "name": "python3"
  },
  "language_info": {
   "codemirror_mode": {
    "name": "ipython",
    "version": 3
   },
   "file_extension": ".py",
   "mimetype": "text/x-python",
   "name": "python",
   "nbconvert_exporter": "python",
   "pygments_lexer": "ipython3",
   "version": "3.11.6"
  }
 },
 "nbformat": 4,
 "nbformat_minor": 5
}
