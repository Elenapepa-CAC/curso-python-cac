{
 "cells": [
  {
   "cell_type": "markdown",
   "id": "da2f6203",
   "metadata": {},
   "source": [
    "# Leer registros\n",
    "\n",
    "Los objetivos de aprendizaje son:\n",
    "\n",
    "1. Comando `SELECT`\n",
    "    - SQL\n",
    "    - SQLModel\n",
    "        - Función `select()`\n",
    "        - Método `.exec()`\n",
    "        - Clase `Results`\n",
    "        - Método `.all()`\n",
    "2. COMANDO `WHERE`\n",
    "    - SQL\n",
    "    - SQLModel\n",
    "        - Clase `Select`\n",
    "        - Método `.where()`\n",
    "        - Operadores Lógicos\n",
    "\n",
    "\n",
    "## Comando `SELECT`\n",
    "\n",
    "### SQL\n",
    "\n",
    "Antes de escribir código en Python, hagamos una revisión rápida de cómo leer registros en SQL:\n",
    "\n",
    "```SQL\n",
    "SELECT id, nombre, lob, age FROM asegurado;\n",
    "\n",
    "```\n",
    "\n",
    "Podemos usar `*` para seleccionar todos los campos:\n",
    "\n",
    "```SQL\n",
    "SELECT * FROM asegurado;\n",
    "```\n",
    "\n",
    "Podemos sólo seleccionar un subconjunto de campos:\n",
    "\n",
    "\n",
    "```SQL\n",
    "SELECT id, nombre FROM asegurado;\n",
    "```\n",
    "\n",
    "Podemos indicar explicitamente de qué tabla tomar cada campo:\n",
    "\n",
    "```SQL\n",
    "SELECT a.id FROM asegurado as a;\n",
    "```\n",
    "\n",
    "### SQLModel\n",
    "\n",
    "El primer paso es crear un `engine`, de la misma manera que hicimos al crear las filas."
   ]
  },
  {
   "cell_type": "code",
   "execution_count": 1,
   "id": "ff53783e",
   "metadata": {},
   "outputs": [],
   "source": [
    "from sqlmodel import Session, create_engine\n",
    "\n",
    "sqlite_file_name = \"database.db\"\n",
    "sqlite_url = f\"sqlite:///{sqlite_file_name}\"\n",
    "\n",
    "engine = create_engine(sqlite_url, echo=True)"
   ]
  },
  {
   "cell_type": "markdown",
   "id": "22861964",
   "metadata": {},
   "source": [
    "#### Función `select()`\n",
    "\n",
    "Ahora crearemos una cláusula `SELECT` pero con SQLModel.\n",
    "\n",
    "Primero tenemos que importar la función `select`:"
   ]
  },
  {
   "cell_type": "code",
   "execution_count": 2,
   "id": "a3c36525",
   "metadata": {},
   "outputs": [],
   "source": [
    "from sqlmodel import select"
   ]
  },
  {
   "cell_type": "markdown",
   "id": "38b4a915",
   "metadata": {},
   "source": [
    "Luego usaremos la función `select` dentro de la cáusula `with` de python que nos ayudará a gestionar la sesión con la base de datos:\n",
    "\n",
    "``` python\n",
    "with Session(engine) as session:\n",
    "        statement = select(Asegurado)\n",
    "```\n",
    "\n",
    "Pasamos el modelo de datos `Asegurado` a la función `select()`, que es equivalente a seleccionar todas las columnas y registros de la tabla `asegurado`.\n",
    "\n",
    "\n",
    "#### Método `.exec()`\n",
    "\n",
    "Ahora que tenemos la instrucción select dentro de la variable `statement`, podemos usar la sesión para enviar a la APIDB el comando y que ésta se encarge de ejecutarlo y regresarnos los resultados:\n",
    "\n",
    "```python\n",
    "with Session(engine) as session:\n",
    "        statement = select(Asegurado)\n",
    "        results = session.exec(statement)\n",
    "\n",
    "```"
   ]
  },
  {
   "cell_type": "markdown",
   "id": "b4a9d08d",
   "metadata": {},
   "source": [
    "#### Clase `Results`\n",
    "\n",
    "La variable `results` es una instancia de la clase `Results`, que es un iterable que nos permite ir uno a uno por todos los registros que ha generado nuestra consulta a la base de datos."
   ]
  },
  {
   "cell_type": "code",
   "execution_count": 3,
   "id": "549f9b7d",
   "metadata": {},
   "outputs": [
    {
     "name": "stdout",
     "output_type": "stream",
     "text": [
      "2024-02-05 19:15:08,595 INFO sqlalchemy.engine.Engine BEGIN (implicit)\n",
      "2024-02-05 19:15:08,597 INFO sqlalchemy.engine.Engine PRAGMA main.table_info(\"asegurado\")\n",
      "2024-02-05 19:15:08,597 INFO sqlalchemy.engine.Engine [raw sql] ()\n",
      "2024-02-05 19:15:08,598 INFO sqlalchemy.engine.Engine COMMIT\n",
      "2024-02-05 19:15:08,600 INFO sqlalchemy.engine.Engine BEGIN (implicit)\n",
      "2024-02-05 19:15:08,605 INFO sqlalchemy.engine.Engine SELECT asegurado.id, asegurado.nombre, asegurado.lob, asegurado.edad \n",
      "FROM asegurado\n",
      "2024-02-05 19:15:08,606 INFO sqlalchemy.engine.Engine [generated in 0.00113s] ()\n",
      "2024-02-05 19:15:08,607 INFO sqlalchemy.engine.Engine ROLLBACK\n"
     ]
    }
   ],
   "source": [
    "from crear_base_de_datos import Asegurado\n",
    "\n",
    "with Session(engine) as session:\n",
    "        statement = select(Asegurado)\n",
    "        results = session.exec(statement)\n",
    "        asegurados = [a for a in results]"
   ]
  },
  {
   "cell_type": "code",
   "execution_count": 4,
   "id": "11180b9b",
   "metadata": {},
   "outputs": [
    {
     "data": {
      "text/plain": [
       "[Asegurado(lob='Autos', edad=30, id=1, nombre='Heber'),\n",
       " Asegurado(lob='Hogar', edad=35, id=2, nombre='Joaquim'),\n",
       " Asegurado(lob='Autos', edad=40, id=3, nombre='Antonio'),\n",
       " Asegurado(lob='Hogar', edad=25, id=4, nombre='Juan')]"
      ]
     },
     "execution_count": 4,
     "metadata": {},
     "output_type": "execute_result"
    }
   ],
   "source": [
    "asegurados"
   ]
  },
  {
   "cell_type": "code",
   "execution_count": 5,
   "id": "31c7742d",
   "metadata": {},
   "outputs": [
    {
     "name": "stdout",
     "output_type": "stream",
     "text": [
      "2024-02-05 19:15:21,843 INFO sqlalchemy.engine.Engine BEGIN (implicit)\n",
      "2024-02-05 19:15:21,845 INFO sqlalchemy.engine.Engine SELECT asegurado.id, asegurado.nombre, asegurado.lob, asegurado.edad \n",
      "FROM asegurado\n",
      "2024-02-05 19:15:21,846 INFO sqlalchemy.engine.Engine [cached since 13.24s ago] ()\n",
      "2024-02-05 19:15:21,848 INFO sqlalchemy.engine.Engine ROLLBACK\n"
     ]
    }
   ],
   "source": [
    "from crear_base_de_datos import Asegurado\n",
    "\n",
    "with Session(engine) as session:\n",
    "        statement = select(Asegurado)\n",
    "        asegurados = session.exec(statement).all()"
   ]
  },
  {
   "cell_type": "code",
   "execution_count": 6,
   "id": "1106baef",
   "metadata": {},
   "outputs": [
    {
     "data": {
      "text/plain": [
       "[Asegurado(lob='Autos', edad=30, id=1, nombre='Heber'),\n",
       " Asegurado(lob='Hogar', edad=35, id=2, nombre='Joaquim'),\n",
       " Asegurado(lob='Autos', edad=40, id=3, nombre='Antonio'),\n",
       " Asegurado(lob='Hogar', edad=25, id=4, nombre='Juan')]"
      ]
     },
     "execution_count": 6,
     "metadata": {},
     "output_type": "execute_result"
    }
   ],
   "source": [
    "asegurados"
   ]
  },
  {
   "cell_type": "markdown",
   "id": "f075cd2f",
   "metadata": {},
   "source": [
    "Podemos crear un `DataFrame` usando los resultados:"
   ]
  },
  {
   "cell_type": "code",
   "execution_count": 7,
   "id": "0a66cbab",
   "metadata": {},
   "outputs": [
    {
     "data": {
      "text/html": [
       "<div>\n",
       "<style scoped>\n",
       "    .dataframe tbody tr th:only-of-type {\n",
       "        vertical-align: middle;\n",
       "    }\n",
       "\n",
       "    .dataframe tbody tr th {\n",
       "        vertical-align: top;\n",
       "    }\n",
       "\n",
       "    .dataframe thead th {\n",
       "        text-align: right;\n",
       "    }\n",
       "</style>\n",
       "<table border=\"1\" class=\"dataframe\">\n",
       "  <thead>\n",
       "    <tr style=\"text-align: right;\">\n",
       "      <th></th>\n",
       "      <th>lob</th>\n",
       "      <th>edad</th>\n",
       "      <th>id</th>\n",
       "      <th>nombre</th>\n",
       "    </tr>\n",
       "  </thead>\n",
       "  <tbody>\n",
       "    <tr>\n",
       "      <th>0</th>\n",
       "      <td>Autos</td>\n",
       "      <td>30</td>\n",
       "      <td>1</td>\n",
       "      <td>Heber</td>\n",
       "    </tr>\n",
       "    <tr>\n",
       "      <th>1</th>\n",
       "      <td>Hogar</td>\n",
       "      <td>35</td>\n",
       "      <td>2</td>\n",
       "      <td>Joaquim</td>\n",
       "    </tr>\n",
       "    <tr>\n",
       "      <th>2</th>\n",
       "      <td>Autos</td>\n",
       "      <td>40</td>\n",
       "      <td>3</td>\n",
       "      <td>Antonio</td>\n",
       "    </tr>\n",
       "    <tr>\n",
       "      <th>3</th>\n",
       "      <td>Hogar</td>\n",
       "      <td>25</td>\n",
       "      <td>4</td>\n",
       "      <td>Juan</td>\n",
       "    </tr>\n",
       "  </tbody>\n",
       "</table>\n",
       "</div>"
      ],
      "text/plain": [
       "     lob  edad  id   nombre\n",
       "0  Autos    30   1    Heber\n",
       "1  Hogar    35   2  Joaquim\n",
       "2  Autos    40   3  Antonio\n",
       "3  Hogar    25   4     Juan"
      ]
     },
     "execution_count": 7,
     "metadata": {},
     "output_type": "execute_result"
    }
   ],
   "source": [
    "import pandas as pd\n",
    "pd.DataFrame.from_records([i.dict() for i in asegurados])"
   ]
  },
  {
   "cell_type": "markdown",
   "id": "90ecac7f",
   "metadata": {},
   "source": [
    "## COMANDO `WHERE`\n",
    "\n",
    "### SQL \n",
    "\n",
    "SQL admite la cláusula `WHERE` para filtrar datos:\n",
    "\n",
    "``` SQL\n",
    "SELECT * FROM asegurado WHERE id=1;\n",
    "\n",
    "SELECT * FROM asegurado WHERE id=1 AND nombre='Heber' OR lob='Hogar';\n",
    "```\n",
    "\n",
    "\n",
    "### SQLModel\n",
    "\n",
    "#### Clase `Select`\n",
    "\n",
    "la función `select()`regresa una instancia de la clase `SelectOfScalar`, esta clase contiene distintos métodos.\n",
    "\n",
    "#### Método `.where()`\n",
    "\n",
    "De la misma manera que agregamos `WHERE` a una instrucción SQL para filtrar filas, podemos agregar el método `.where()` a la instancia de la clase `SelectOfScalar` para filtrar filas:\n"
   ]
  },
  {
   "cell_type": "code",
   "execution_count": 8,
   "id": "99331522",
   "metadata": {},
   "outputs": [
    {
     "name": "stdout",
     "output_type": "stream",
     "text": [
      "2024-02-05 19:16:39,500 INFO sqlalchemy.engine.Engine BEGIN (implicit)\n",
      "2024-02-05 19:16:39,501 INFO sqlalchemy.engine.Engine SELECT asegurado.id, asegurado.nombre, asegurado.lob, asegurado.edad \n",
      "FROM asegurado \n",
      "WHERE asegurado.lob = ?\n",
      "2024-02-05 19:16:39,502 INFO sqlalchemy.engine.Engine [generated in 0.00054s] ('Autos',)\n",
      "2024-02-05 19:16:39,504 INFO sqlalchemy.engine.Engine ROLLBACK\n"
     ]
    },
    {
     "data": {
      "text/plain": [
       "[Asegurado(lob='Autos', edad=30, id=1, nombre='Heber'),\n",
       " Asegurado(lob='Autos', edad=40, id=3, nombre='Antonio')]"
      ]
     },
     "execution_count": 8,
     "metadata": {},
     "output_type": "execute_result"
    }
   ],
   "source": [
    "from crear_base_de_datos import Asegurado\n",
    "\n",
    "with Session(engine) as session:\n",
    "        statement = select(Asegurado).where(Asegurado.lob == \"Autos\")\n",
    "        asegurados = session.exec(statement).all()\n",
    "asegurados"
   ]
  },
  {
   "cell_type": "markdown",
   "id": "3528d2f4",
   "metadata": {},
   "source": [
    "El método `.where()` regresa una instancia de la clase `SelectOfScalar`, así que podemos concatener múltipls llamadas:"
   ]
  },
  {
   "cell_type": "code",
   "execution_count": 10,
   "id": "0724f2f2",
   "metadata": {},
   "outputs": [
    {
     "name": "stdout",
     "output_type": "stream",
     "text": [
      "2023-02-06 19:27:37,668 INFO sqlalchemy.engine.Engine BEGIN (implicit)\n",
      "2023-02-06 19:27:37,671 INFO sqlalchemy.engine.Engine SELECT asegurado.id, asegurado.nombre, asegurado.lob, asegurado.edad \n",
      "FROM asegurado \n",
      "WHERE asegurado.lob = ? AND asegurado.edad < ?\n",
      "2023-02-06 19:27:37,672 INFO sqlalchemy.engine.Engine [generated in 0.00139s] ('Autos', 35)\n",
      "2023-02-06 19:27:37,674 INFO sqlalchemy.engine.Engine ROLLBACK\n"
     ]
    },
    {
     "data": {
      "text/plain": [
       "[Asegurado(edad=30, id=1, nombre='Heber', lob='Autos')]"
      ]
     },
     "execution_count": 10,
     "metadata": {},
     "output_type": "execute_result"
    }
   ],
   "source": [
    "from crear_base_de_datos import Asegurado\n",
    "\n",
    "with Session(engine) as session:\n",
    "        statement = select(Asegurado).where(Asegurado.lob == \"Autos\").where(Asegurado.edad <35)\n",
    "        asegurados = session.exec(statement).all()\n",
    "asegurados"
   ]
  },
  {
   "cell_type": "markdown",
   "id": "e1402d1d",
   "metadata": {},
   "source": [
    "#### Operadores Lógicos\n",
    "\n",
    "Hemos visto que la expresión:\n",
    "\n",
    "```python\n",
    "select(Asegurado).where(Asegurado.lob == \"Autos\").where(Asegurado.edad <35)\n",
    "````\n",
    "\n",
    "Es equivalente a:\n",
    "\n",
    "```SQL\n",
    "SELECT * FROM asegurado WHERE asegurado.lob = 'AUTOS' AND asegurado.edad < 35;\n",
    "```\n",
    "\n",
    "¿Qué pasa si queremos usar `OR`?¿Qué pasa si queremos ser más explícitos y usar `AND`?\n",
    "\n",
    "Podemos usar los operdores lógicos `or_` y `and_`"
   ]
  },
  {
   "cell_type": "code",
   "execution_count": 11,
   "id": "574caad4",
   "metadata": {},
   "outputs": [
    {
     "name": "stdout",
     "output_type": "stream",
     "text": [
      "2023-02-06 19:29:05,480 INFO sqlalchemy.engine.Engine BEGIN (implicit)\n",
      "2023-02-06 19:29:05,483 INFO sqlalchemy.engine.Engine SELECT asegurado.id, asegurado.nombre, asegurado.lob, asegurado.edad \n",
      "FROM asegurado \n",
      "WHERE asegurado.lob = ? AND asegurado.edad < ?\n",
      "2023-02-06 19:29:05,484 INFO sqlalchemy.engine.Engine [generated in 0.00132s] ('Autos', 35)\n",
      "2023-02-06 19:29:05,486 INFO sqlalchemy.engine.Engine ROLLBACK\n"
     ]
    },
    {
     "data": {
      "text/plain": [
       "[Asegurado(edad=30, id=1, nombre='Heber', lob='Autos')]"
      ]
     },
     "execution_count": 11,
     "metadata": {},
     "output_type": "execute_result"
    }
   ],
   "source": [
    "from sqlmodel import and_, or_\n",
    "\n",
    "with Session(engine) as session:\n",
    "        statement = select(Asegurado).where(\n",
    "            and_(\n",
    "                Asegurado.lob == \"Autos\",\n",
    "                Asegurado.edad <35,\n",
    "            )\n",
    "        )\n",
    "        asegurados = session.exec(statement).all()\n",
    "asegurados"
   ]
  },
  {
   "cell_type": "code",
   "execution_count": 52,
   "id": "c3e6bb4e",
   "metadata": {},
   "outputs": [
    {
     "name": "stdout",
     "output_type": "stream",
     "text": [
      "2023-01-28 13:11:48,681 INFO sqlalchemy.engine.Engine BEGIN (implicit)\n",
      "2023-01-28 13:11:48,683 INFO sqlalchemy.engine.Engine SELECT asegurado.id, asegurado.nombre, asegurado.lob, asegurado.edad \n",
      "FROM asegurado \n",
      "WHERE asegurado.lob = ? OR asegurado.nombre = ?\n",
      "2023-01-28 13:11:48,685 INFO sqlalchemy.engine.Engine [cached since 189.3s ago] ('Autos', 'Juan')\n",
      "2023-01-28 13:11:48,688 INFO sqlalchemy.engine.Engine ROLLBACK\n"
     ]
    },
    {
     "data": {
      "text/plain": [
       "[Asegurado(id=1, edad=30, nombre='Heber', lob='Autos'),\n",
       " Asegurado(id=3, edad=40, nombre='Antonio', lob='Autos'),\n",
       " Asegurado(id=4, edad=25, nombre='Juan', lob='Hogar')]"
      ]
     },
     "execution_count": 52,
     "metadata": {},
     "output_type": "execute_result"
    }
   ],
   "source": [
    "from sqlmodel import and_, or_\n",
    "\n",
    "with Session(engine) as session:\n",
    "        statement = select(Asegurado).where(\n",
    "            or_(\n",
    "                Asegurado.lob == \"Autos\",\n",
    "                Asegurado.nombre == \"Juan\",\n",
    "            )\n",
    "        )\n",
    "        asegurados = session.exec(statement).all()\n",
    "asegurados"
   ]
  }
 ],
 "metadata": {
  "kernelspec": {
   "display_name": "Python 3 (ipykernel)",
   "language": "python",
   "name": "python3"
  },
  "language_info": {
   "codemirror_mode": {
    "name": "ipython",
    "version": 3
   },
   "file_extension": ".py",
   "mimetype": "text/x-python",
   "name": "python",
   "nbconvert_exporter": "python",
   "pygments_lexer": "ipython3",
   "version": "3.11.6"
  }
 },
 "nbformat": 4,
 "nbformat_minor": 5
}
