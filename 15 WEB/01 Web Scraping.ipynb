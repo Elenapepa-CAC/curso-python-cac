{
 "cells": [
  {
   "cell_type": "markdown",
   "id": "20a0c61b",
   "metadata": {},
   "source": [
    "# Web Scraping\n",
    "\n",
    "Los objetivos de aprendizaje son:\n",
    "\n",
    "1. Extraer datos de sitios web\n",
    "    - Crear un Scraper\n",
    "    - Extraer datos con métodos string\n",
    "2. BeautifulSoup\n",
    "    - Clase BeautifulSoup\n",
    "    - Métodos\n",
    "3. Interactuar con formularios HTML\n",
    "    - Browser\n",
    "    - Enviar Formulario\n",
    "\n",
    "\n",
    "## Extraer datos de sitios web\n",
    "\n",
    "\n",
    "La recopilación de datos de sitios web mediante un proceso automatizado se conoce como web scraping. \n",
    "\n",
    "Algunos sitios web prohíben explícitamente que los usuarios extraigan sus datos con herramientas automatizadas.\n",
    "\n",
    "Hacer muchas solicitudes repetidas al servidor de un sitio web puede consumir ancho de banda, ralentizar el sitio web para otros usuarios y potencialmente sobrecargar el servidor de modo que el sitio web deje de responder por completo.\n",
    "\n",
    "\n",
    "> **Importante**: Las siguientes técnicas pueden ser ilegales cuando se utilizan en sitios web que prohíben el web scraping.\n",
    "\n",
    "\n",
    "La página que usaremos en esta clase ha sido diseñada explícitamente para propósitos académicos en el área WEB.\n",
    "\n",
    "\n",
    "### Crear un Scraper\n",
    "\n",
    "`urllib` es un paquete útil para hacer web scraping, y forma parte de la librería standar de Python. \n",
    "\n",
    "En particular, el módulo `urllib.request` contiene una función llamada `urlopen()` que puedemos usar para abrir una URL dentro de un programa."
   ]
  },
  {
   "cell_type": "code",
   "execution_count": 1,
   "id": "58197684",
   "metadata": {},
   "outputs": [],
   "source": [
    "from urllib.request import urlopen\n",
    "url = \"http://olympus.realpython.org/profiles/aphrodite\"\n",
    "page = urlopen(url)"
   ]
  },
  {
   "cell_type": "markdown",
   "id": "459d4aaf",
   "metadata": {},
   "source": [
    "La función `urlopen()` regresa un objeto de la clase `HTTPResponse`.\n",
    "\n",
    "Para extraer el HTML de la página debemos:\n",
    "\n",
    "1. Usar el método `.read()` del objeto `HTTPResponse`, que devuelve una secuencia de bytes. \n",
    "\n",
    "2. Usar el método `.decode()` del objeto `bytes` para decodificar los bytes en una string usando UTF-8."
   ]
  },
  {
   "cell_type": "code",
   "execution_count": 2,
   "id": "3748c018",
   "metadata": {},
   "outputs": [
    {
     "name": "stdout",
     "output_type": "stream",
     "text": [
      "<html>\n",
      "<head>\n",
      "<title>Profile: Aphrodite</title>\n",
      "</head>\n",
      "<body bgcolor=\"yellow\">\n",
      "<center>\n",
      "<br><br>\n",
      "<img src=\"/static/aphrodite.gif\" />\n",
      "<h2>Name: Aphrodite</h2>\n",
      "<br><br>\n",
      "Favorite animal: Dove\n",
      "<br><br>\n",
      "Favorite color: Red\n",
      "<br><br>\n",
      "Hometown: Mount Olympus\n",
      "</center>\n",
      "</body>\n",
      "</html>\n",
      "\n"
     ]
    }
   ],
   "source": [
    "html_bytes = page.read()\n",
    "html = html_bytes.decode(\"utf-8\")\n",
    "print(html)"
   ]
  },
  {
   "cell_type": "markdown",
   "id": "9ce530ab",
   "metadata": {},
   "source": [
    "### Extraer datos con métodos string\n",
    "\n",
    "Una forma de extraer información del HTML es usar los métodos de la clase string.\n",
    "\n",
    "Supongamos que queremos extraer el texto `'Profile: Aphrodite'`, podríamos hacer lo siguiente:"
   ]
  },
  {
   "cell_type": "code",
   "execution_count": 3,
   "id": "5ad8c358",
   "metadata": {},
   "outputs": [
    {
     "data": {
      "text/plain": [
       "'Profile: Aphrodite'"
      ]
     },
     "execution_count": 3,
     "metadata": {},
     "output_type": "execute_result"
    }
   ],
   "source": [
    "def get_title(html: str)->str:\n",
    "    title_index = html.find(\"<title>\")\n",
    "    start_index = title_index + len(\"<title>\")\n",
    "    end_index = html.find(\"</title>\")\n",
    "    title = html[start_index:end_index]\n",
    "    return title\n",
    "\n",
    "get_title(html)"
   ]
  },
  {
   "cell_type": "markdown",
   "id": "54351def",
   "metadata": {},
   "source": [
    "El HTML del mundo real puede ser mucho más complicado y mucho menos predecible que el HTML de la página que estamos usando, por ejemplo:"
   ]
  },
  {
   "cell_type": "code",
   "execution_count": 4,
   "id": "769403a2",
   "metadata": {},
   "outputs": [
    {
     "data": {
      "text/plain": [
       "'\\n<head>\\n<title >Profile: Poseidon'"
      ]
     },
     "execution_count": 4,
     "metadata": {},
     "output_type": "execute_result"
    }
   ],
   "source": [
    "url = \"http://olympus.realpython.org/profiles/poseidon\"\n",
    "page = urlopen(url)\n",
    "html = page.read().decode(\"utf-8\")\n",
    "get_title(html)"
   ]
  },
  {
   "cell_type": "code",
   "execution_count": 5,
   "id": "45bd0ffb",
   "metadata": {},
   "outputs": [
    {
     "name": "stdout",
     "output_type": "stream",
     "text": [
      "<html>\n",
      "<head>\n",
      "<title >Profile: Poseidon</title>\n",
      "</head>\n",
      "<body bgcolor=\"yellow\">\n",
      "<center>\n",
      "<br><br>\n",
      "<img src=\"/static/poseidon.jpg\" />\n",
      "<h2>Name: Poseidon</h2>\n",
      "<br><br>\n",
      "Favorite animal: Dolphin\n",
      "<br><br>\n",
      "Favorite color: Blue\n",
      "<br><br>\n",
      "Hometown: Sea\n",
      "</center>\n",
      "</body>\n",
      "</html>\n",
      "\n"
     ]
    }
   ],
   "source": [
    "print(html)"
   ]
  },
  {
   "cell_type": "markdown",
   "id": "7efe5db6",
   "metadata": {},
   "source": [
    "El HTML de la página `/profiles/poseidon` se parece a la página /`profiles/aphrodite`, pero hay una pequeña diferencia. El tag de apertura `<título>` tiene un espacio adicional antes del corchete angular de cierre (>).\n",
    "\n",
    "Este tipo de problemas pueden ocurrir de innumerables formas impredecibles.\n",
    "\n",
    "## BeautifulSoup\n",
    "\n",
    "Es un paquete de Python diseñado para extraer datos de archivos HTML y XML.\n",
    "\n",
    "### Clase BeautifulSoup\n",
    "\n",
    "La siguiente celda de código hace 3 cosas:\n",
    "\n",
    "1. Abre la URL http://olympus.realpython.org/profiles/dionysus usando `urlopen()`.\n",
    "<br>\n",
    "\n",
    "2. Lee el HTML de la página como una string y lo asigna a la variable html.\n",
    "<br>\n",
    "\n",
    "3. Crea un objeto `BeautifulSoup` y lo asigna a la variable de soup.\n",
    "\n",
    "Para crear una instancia de la clase `BeautifulSoup` usamos dos argumentos:\n",
    "\n",
    "- El primer argumento es el HTML que se va a analizar.\n",
    "- El segundo argumento, la string \"html.parser\" que se usa para analizar documentos tipo HTLM."
   ]
  },
  {
   "cell_type": "code",
   "execution_count": 5,
   "id": "e01a9f7c",
   "metadata": {},
   "outputs": [
    {
     "data": {
      "text/plain": [
       "<html>\n",
       "<head>\n",
       "<title>Profile: Dionysus</title>\n",
       "</head>\n",
       "<body bgcolor=\"yellow\">\n",
       "<center>\n",
       "<br/><br/>\n",
       "<img src=\"/static/dionysus.jpg\"/>\n",
       "<h2>Name: Dionysus</h2>\n",
       "<img src=\"/static/grapes.png\"/><br/><br/>\n",
       "Hometown: Mount Olympus\n",
       "<br/><br/>\n",
       "Favorite animal: Leopard <br/>\n",
       "<br/>\n",
       "Favorite Color: Wine\n",
       "</center>\n",
       "</body>\n",
       "</html>"
      ]
     },
     "execution_count": 5,
     "metadata": {},
     "output_type": "execute_result"
    }
   ],
   "source": [
    "from bs4 import BeautifulSoup\n",
    "from urllib.request import urlopen\n",
    "\n",
    "url = \"http://olympus.realpython.org/profiles/dionysus\"\n",
    "page = urlopen(url)\n",
    "html = page.read().decode(\"utf-8\")\n",
    "soup = BeautifulSoup(html, \"html.parser\")\n",
    "soup"
   ]
  },
  {
   "cell_type": "markdown",
   "id": "203deda1",
   "metadata": {},
   "source": [
    "### Métodos\n",
    "\n",
    "La clase `BeautifulSoup` cuenta con muchos método muy útiles para extraer texto, por ejemplo `.get_text()`:"
   ]
  },
  {
   "cell_type": "code",
   "execution_count": 6,
   "id": "c3ab8ee5",
   "metadata": {},
   "outputs": [
    {
     "name": "stdout",
     "output_type": "stream",
     "text": [
      "\n",
      "\n",
      "Profile: Dionysus\n",
      "\n",
      "\n",
      "\n",
      "\n",
      "\n",
      "Name: Dionysus\n",
      "\n",
      "Hometown: Mount Olympus\n",
      "\n",
      "Favorite animal: Leopard \n",
      "\n",
      "Favorite Color: Wine\n",
      "\n",
      "\n",
      "\n",
      "\n"
     ]
    }
   ],
   "source": [
    "print(soup.get_text())"
   ]
  },
  {
   "cell_type": "markdown",
   "id": "fa984a9d",
   "metadata": {},
   "source": [
    "Normalmente las etiquetas HTML son los elementos que señalan los datos que queremos extraer.\n",
    "\n",
    "Por ejemplo, tal vez queremos recuperar las URL de todas las imágenes de la página. Estos enlaces están contenidos en el atributo src de las etiquetas `<img>`.\n",
    "\n",
    "En este caso, podemos usar `find_all()` para devolver una lista de todas las instancias de una etiqueta:"
   ]
  },
  {
   "cell_type": "code",
   "execution_count": 7,
   "id": "4ceb7ae8",
   "metadata": {},
   "outputs": [
    {
     "data": {
      "text/plain": [
       "[<img src=\"/static/dionysus.jpg\"/>, <img src=\"/static/grapes.png\"/>]"
      ]
     },
     "execution_count": 7,
     "metadata": {},
     "output_type": "execute_result"
    }
   ],
   "source": [
    "soup.find_all(\"img\")"
   ]
  },
  {
   "cell_type": "markdown",
   "id": "61cb5431",
   "metadata": {},
   "source": [
    "Esto devuelve una lista de todas las etiquetas `<img>` en el documento HTML.\n",
    "\n",
    "Los objetos de la lista parecen strings, pero en realidad son instancias del objeto `Tag`. Esta clase proporcionan una interfaz sencilla para trabajar con la información que contienen."
   ]
  },
  {
   "cell_type": "code",
   "execution_count": 8,
   "id": "d8248da8",
   "metadata": {},
   "outputs": [
    {
     "data": {
      "text/plain": [
       "<img src=\"/static/dionysus.jpg\"/>"
      ]
     },
     "execution_count": 8,
     "metadata": {},
     "output_type": "execute_result"
    }
   ],
   "source": [
    "img1 = soup.find_all(\"img\")[0]\n",
    "img1"
   ]
  },
  {
   "cell_type": "markdown",
   "id": "edc2621f",
   "metadata": {},
   "source": [
    "Podemos acceder a los atributos HTML del objeto `Tag` usando el método `.get()`.\n",
    "\n",
    "Por ejemplo, el tag `<img src=\"/static/dionysus.jpg\"/>` tiene un solo atributo, `src`, con el valor `\"/static/dionysus.jpg\".`.\n"
   ]
  },
  {
   "cell_type": "code",
   "execution_count": 9,
   "id": "20423db4",
   "metadata": {},
   "outputs": [
    {
     "data": {
      "text/plain": [
       "'/static/dionysus.jpg'"
      ]
     },
     "execution_count": 9,
     "metadata": {},
     "output_type": "execute_result"
    }
   ],
   "source": [
    "img1.get('src')"
   ]
  },
  {
   "cell_type": "markdown",
   "id": "6d26c6bd",
   "metadata": {},
   "source": [
    "Se puede acceder a ciertas etiquetas en documentos HTML mediante las propiedades del objeto `BeautifulSoup`. Por ejemplo, para obtener el tag `<title>`:"
   ]
  },
  {
   "cell_type": "code",
   "execution_count": 10,
   "id": "70ccdcd4",
   "metadata": {},
   "outputs": [
    {
     "data": {
      "text/plain": [
       "<title>Profile: Dionysus</title>"
      ]
     },
     "execution_count": 10,
     "metadata": {},
     "output_type": "execute_result"
    }
   ],
   "source": [
    "soup.title"
   ]
  },
  {
   "cell_type": "code",
   "execution_count": 11,
   "id": "35e0b502",
   "metadata": {},
   "outputs": [
    {
     "data": {
      "text/plain": [
       "'Profile: Dionysus'"
      ]
     },
     "execution_count": 11,
     "metadata": {},
     "output_type": "execute_result"
    }
   ],
   "source": [
    "soup.title.string"
   ]
  },
  {
   "cell_type": "markdown",
   "id": "20d02727",
   "metadata": {},
   "source": [
    "Una de las características de `BeautifulSoup` es la capacidad de buscar tipos específicos de tags cuyos atributos coincidan con ciertos valores.\n",
    "\n",
    "Por ejemplo, podríamos buscar sólo los tags `<img>` que tengan un atributo `src` igual al valor `/static/dionysus.jpg`:"
   ]
  },
  {
   "cell_type": "code",
   "execution_count": 12,
   "id": "87a7c53b",
   "metadata": {},
   "outputs": [
    {
     "data": {
      "text/plain": [
       "[<img src=\"/static/dionysus.jpg\"/>]"
      ]
     },
     "execution_count": 12,
     "metadata": {},
     "output_type": "execute_result"
    }
   ],
   "source": [
    "soup.find_all(\"img\", src=\"/static/dionysus.jpg\")"
   ]
  },
  {
   "cell_type": "markdown",
   "id": "bddba757",
   "metadata": {},
   "source": [
    "Si pasamos algún tiempo navegando por varios sitios web y viendo sus HTML, notaremos que muchos sitios web tienen estructuras HTML extremadamente complicadas. En esos casos es en donde el anterior ejemplo tomará más valor.\n",
    "\n",
    "\n",
    "En algunos casos, es posible que `BeautifulSoup` no ofrezca la funcionalidad que queremos. El paquete `lxml` es algo más complicado para comenzar, pero ofrece mucha más flexibilidad.\n",
    "\n",
    "\n",
    "`BeautifulSoup` es excelente para extraer datos de un HTML, pero no proporciona ninguna forma de trabajar con formularios HTML.\n",
    "\n",
    "\n",
    "## Interactuar con formularios HTML\n",
    "\n",
    "El módulo `urllib` no proporciona un medio integrado para trabajar con páginas web de forma interactiva.\n",
    "\n",
    "Existen otras opciones, en esta lección usaremos `MechanicalSoup` porque es relativamente sencillo de usar.\n",
    "\n",
    "`MechanicalSoup` instala un *headless browser*, que es un navegador web sin interfaz gráfica. Este navegador se controla directamente con Python.\n",
    "\n",
    "### Browser\n",
    "\n",
    "La clase `Browser` representa el navegador web. Podemos usarlo para solicitar una página de Internet pasando una URL a su método `.get()`:"
   ]
  },
  {
   "cell_type": "code",
   "execution_count": 13,
   "id": "26ae106c",
   "metadata": {},
   "outputs": [
    {
     "data": {
      "text/plain": [
       "<Response [200]>"
      ]
     },
     "execution_count": 13,
     "metadata": {},
     "output_type": "execute_result"
    }
   ],
   "source": [
    "import mechanicalsoup\n",
    "browser = mechanicalsoup.Browser()\n",
    "url = \"http://olympus.realpython.org/login\"\n",
    "page = browser.get(url)\n",
    "page"
   ]
  },
  {
   "cell_type": "markdown",
   "id": "76112da7",
   "metadata": {},
   "source": [
    "`page` es un objeto `Response` que almacena la respuesta de la solicitud a la URL.\n",
    "\n",
    "El número `200` representa el código de status devuelto por la solicitud. Un código de estado de `200` significa que la solicitud fue exitosa. \n",
    "\n",
    "Una solicitud fallida puede mostrar un código de estado de `404` si la URL no existe o `500` si hay un error del servidor al realizar la solicitud.\n",
    "\n",
    "`MechanicalSoup` usa `BeautifulSoup` para analizar el HTML y por tanto `page` tiene el atributo `.soup` que representa un objeto `BeautifulSoup`:"
   ]
  },
  {
   "cell_type": "code",
   "execution_count": 14,
   "id": "a8bfc02f",
   "metadata": {},
   "outputs": [
    {
     "data": {
      "text/plain": [
       "<html>\n",
       "<head>\n",
       "<title>Log In</title>\n",
       "</head>\n",
       "<body bgcolor=\"yellow\">\n",
       "<center>\n",
       "<br/><br/>\n",
       "<h2>Please log in to access Mount Olympus:</h2>\n",
       "<br/><br/>\n",
       "<form action=\"/login\" method=\"post\" name=\"login\">\n",
       "Username: <input name=\"user\" type=\"text\"/><br/>\n",
       "Password: <input name=\"pwd\" type=\"password\"/><br/><br/>\n",
       "<input type=\"submit\" value=\"Submit\"/>\n",
       "</form>\n",
       "</center>\n",
       "</body>\n",
       "</html>"
      ]
     },
     "execution_count": 14,
     "metadata": {},
     "output_type": "execute_result"
    }
   ],
   "source": [
    "page.soup"
   ]
  },
  {
   "cell_type": "markdown",
   "id": "d575eab8",
   "metadata": {},
   "source": [
    "Esta página tiene un tag `<form>` con elementos `<input>` para un nombre de usuario, una contraseña y para enviar la info.\n",
    "\n",
    "### Enviar Formulario\n",
    "\n",
    "Antes de continuar vamos a abrir la [página](http://olympus.realpython.org/login) en un navegador regular.\n",
    "\n",
    "La sección del formulario es todo lo que se encuentra dentro de los tags `<form>` `</form>`. \n",
    "\n",
    "El formulario de esta página tiene el atributo de `name=\"login\"`. \n",
    "\n",
    "Este formulario contiene dos elementos `<input>` uno con `name=\"user\"` otro con `name=\"pwd\"`.\n",
    "\n",
    "El tercer elemento `<input>` es el botón *Submit*.\n",
    "\n",
    "Ahora que tenemos clara la estructura podemos iniciar:"
   ]
  },
  {
   "cell_type": "code",
   "execution_count": 15,
   "id": "6d39845a",
   "metadata": {},
   "outputs": [
    {
     "data": {
      "text/plain": [
       "'http://olympus.realpython.org/profiles'"
      ]
     },
     "execution_count": 15,
     "metadata": {},
     "output_type": "execute_result"
    }
   ],
   "source": [
    "import mechanicalsoup\n",
    "\n",
    "# 1 \n",
    "browser = mechanicalsoup.Browser()\n",
    "url = \"http://olympus.realpython.org/login\"\n",
    "login_page = browser.get(url)\n",
    "\n",
    "# 2\n",
    "login_html = login_page.soup\n",
    "\n",
    "# 3\n",
    "form = login_html.select(\"form\")[0]\n",
    "\n",
    "# 4\n",
    "form.select(\"input\")[0][\"value\"] = \"zeus\"\n",
    "form.select(\"input\")[1][\"value\"] = \"ThunderDude\"\n",
    "\n",
    "# 5\n",
    "profiles_page = browser.submit(form, login_page.url)\n",
    "profiles_page.url"
   ]
  },
  {
   "cell_type": "markdown",
   "id": "c17b9229",
   "metadata": {},
   "source": [
    "Vamos a analizar cada paso\n",
    "\n",
    "1. Creamos una instancia de la clase `Browser` y la usamos para solicitar la URL `http://olympus.realpython.org/login`. \n",
    "<br>\n",
    "\n",
    "2. Asignamos el contenido HTML de la página a la variable `login_html` usando la propiedad `.soup`.\n",
    "<br>\n",
    "\n",
    "3. `login_html.select(\"formulario\")` devuelve una lista de todos los elementos `<form>` de la página. Debido a que la página tiene solo un elemento `<form>`, podemos acceder al formulario recuperando el elemento en el índice 0 de la lista.\n",
    "<br>\n",
    "\n",
    "4. Las siguientes dos líneas seleccionan los tags `<input>` correspondientes al nombre de usuario y contraseña y les asignan los valores `\"zeus\"` y `\"ThunderDude\"`.\n",
    "<br>\n",
    "\n",
    "5. Enviamos el formulario con `browser.submit()`. El método `.submit()` acepta dos argumentos, el objeto `form` y la URL de `login_page`."
   ]
  },
  {
   "cell_type": "markdown",
   "id": "8e039e36",
   "metadata": {},
   "source": [
    "Ahora que hemos accedido a la página de perfiles, podemos acceder a las direcciones URL de todos los perfiles:"
   ]
  },
  {
   "cell_type": "code",
   "execution_count": 16,
   "id": "69eddbfd",
   "metadata": {},
   "outputs": [
    {
     "name": "stdout",
     "output_type": "stream",
     "text": [
      "Aphrodite: /profiles/aphrodite\n",
      "Poseidon: /profiles/poseidon\n",
      "Dionysus: /profiles/dionysus\n"
     ]
    }
   ],
   "source": [
    "links = profiles_page.soup.select(\"a\")\n",
    "for link in links:\n",
    "    endpoint = link[\"href\"]\n",
    "    name = link.text\n",
    "    print(f\"{name}: {endpoint}\")"
   ]
  },
  {
   "cell_type": "markdown",
   "id": "3e6fa4b8",
   "metadata": {},
   "source": [
    "Las direcciones URL contenidas en cada atributo `\"href\"` son direcciones URL relativas. Así que debemos completarlas.\n",
    "\n",
    "En este caso, la URL base es simplemente `http://olympus.realpython.org`. "
   ]
  },
  {
   "cell_type": "code",
   "execution_count": 17,
   "id": "caaa0a13",
   "metadata": {},
   "outputs": [
    {
     "name": "stdout",
     "output_type": "stream",
     "text": [
      "Aphrodite: http://olympus.realpython.org/profiles/aphrodite\n",
      "Poseidon: http://olympus.realpython.org/profiles/poseidon\n",
      "Dionysus: http://olympus.realpython.org/profiles/dionysus\n"
     ]
    }
   ],
   "source": [
    "base_url = \"http://olympus.realpython.org\"\n",
    "links = profiles_page.soup.select(\"a\")\n",
    "for link in links:\n",
    "    endpoint = base_url + link[\"href\"]\n",
    "    name = link.text\n",
    "    print(f\"{name}: {endpoint}\")"
   ]
  },
  {
   "cell_type": "markdown",
   "id": "1db5bc12",
   "metadata": {},
   "source": [
    "Se pueden hacer muchas cosas con el paquete [`MechanicalSoup`](https://mechanicalsoup.readthedocs.io/en/stable/), les recomiendo mirar la documentación si les ha parecido interesante."
   ]
  }
 ],
 "metadata": {
  "kernelspec": {
   "display_name": "Python 3 (ipykernel)",
   "language": "python",
   "name": "python3"
  },
  "language_info": {
   "codemirror_mode": {
    "name": "ipython",
    "version": 3
   },
   "file_extension": ".py",
   "mimetype": "text/x-python",
   "name": "python",
   "nbconvert_exporter": "python",
   "pygments_lexer": "ipython3",
   "version": "3.11.6"
  }
 },
 "nbformat": 4,
 "nbformat_minor": 5
}
